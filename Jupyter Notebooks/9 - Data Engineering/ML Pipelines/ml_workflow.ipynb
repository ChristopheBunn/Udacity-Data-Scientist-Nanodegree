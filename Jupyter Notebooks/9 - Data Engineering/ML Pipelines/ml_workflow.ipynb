{
 "cells": [
  {
   "cell_type": "markdown",
   "metadata": {},
   "source": [
    "# Machine Learning Workflow\n",
    "Complete the steps below to complete the machine learning workflow for this classifier."
   ]
  },
  {
   "cell_type": "code",
   "execution_count": 1,
   "metadata": {},
   "outputs": [
    {
     "name": "stdout",
     "output_type": "stream",
     "text": [
      "[nltk_data] Downloading package punkt to /root/nltk_data...\n",
      "[nltk_data]   Package punkt is already up-to-date!\n",
      "[nltk_data] Downloading package wordnet to /root/nltk_data...\n",
      "[nltk_data]   Package wordnet is already up-to-date!\n"
     ]
    },
    {
     "data": {
      "text/plain": [
       "True"
      ]
     },
     "execution_count": 1,
     "metadata": {},
     "output_type": "execute_result"
    }
   ],
   "source": [
    "import nltk\n",
    "nltk.download(['punkt', 'wordnet'])"
   ]
  },
  {
   "cell_type": "code",
   "execution_count": 2,
   "metadata": {},
   "outputs": [],
   "source": [
    "import re\n",
    "import numpy as np\n",
    "import pandas as pd\n",
    "from nltk.tokenize import word_tokenize\n",
    "from nltk.stem import WordNetLemmatizer\n",
    "from sklearn.model_selection import train_test_split\n",
    "from sklearn.feature_extraction.text import CountVectorizer, TfidfTransformer\n",
    "from sklearn.ensemble import RandomForestClassifier\n",
    "from sklearn.metrics import confusion_matrix"
   ]
  },
  {
   "cell_type": "code",
   "execution_count": 3,
   "metadata": {},
   "outputs": [],
   "source": [
    "url_regex = 'http[s]?://(?:[a-zA-Z]|[0-9]|[$-_@.&+]|[!*\\(\\),]|(?:%[0-9a-fA-F][0-9a-fA-F]))+'\n",
    "\n",
    "def load_data():\n",
    "    df = pd.read_csv('corporate_messaging.csv', encoding='latin-1')\n",
    "    df = df[(df[\"category:confidence\"] == 1) & (df['category'] != 'Exclude')]\n",
    "    print(\"Loaded data {}\\n\".format(df.shape))\n",
    "    X = df.text.values\n",
    "    y = df.category.values\n",
    "    return X, y\n",
    "\n",
    "def tokenize(text):\n",
    "    detected_urls = re.findall(url_regex, text)\n",
    "    for url in detected_urls:\n",
    "        text = text.replace(url, \"urlplaceholder\")\n",
    "\n",
    "    tokens = word_tokenize(text)\n",
    "    lemmatizer = WordNetLemmatizer()\n",
    "\n",
    "    clean_tokens = []\n",
    "    for tok in tokens:\n",
    "        clean_tok = lemmatizer.lemmatize(tok).lower().strip()\n",
    "        clean_tokens.append(clean_tok)\n",
    "\n",
    "    return clean_tokens"
   ]
  },
  {
   "cell_type": "markdown",
   "metadata": {},
   "source": [
    "### Step 1: Load data and perform a train test split"
   ]
  },
  {
   "cell_type": "code",
   "execution_count": 4,
   "metadata": {},
   "outputs": [
    {
     "name": "stdout",
     "output_type": "stream",
     "text": [
      "Loaded data (2403, 11)\n",
      "\n",
      "X (2403,):\n",
      "[ 'Barclays CEO stresses the importance of regulatory and cultural reform in financial services at Brussels conference  http://t.co/Ge9Lp7hpyG'\n",
      " 'Barclays announces result of Rights Issue http://t.co/LbIqqh3wwG'\n",
      " 'Barclays publishes its prospectus for its å£5.8bn Rights Issue: http://t.co/YZk24iE8G6']\n",
      "\n",
      "y (2403,):\n",
      "['Information' 'Information' 'Information']\n",
      "\n",
      "X_train (1802,):\n",
      "[ 'President and CEO of NestlÌ© Health Science, Luis Cantarell, now talking about pioneering science-based nutritional solutions #NestleIR'\n",
      " 'Recent studies indicate that 45% of residents of elderly homes are malnourished: http://t.co/AouKkLdt'\n",
      " 'Emma Turner recalls her first \\x89Û÷giving\\x89Ûª encounter as a child as she unveils the newly released #philanthropy guide. http://t.co/2txBDrgbpw']\n",
      "\n",
      "y_train (1802,):\n",
      "['Information' 'Information' 'Information']\n",
      "\n",
      "\n",
      "X_test (601,):\n",
      "[ 'Today is Int\\x89Ûªl Day of #ruralwomen. Find out how we help to empower female farmers in Pakistan http://t.co/WfR7TaAvV3 http://t.co/nYJouX9Yp1'\n",
      " 'Citi &amp  the Milken Institute Develop Innovation Lab to Promote #FinancialInclusion in Israel: http://t.co/ev1w04lsuh'\n",
      " 'RT @atelierstat: Brazilian #Internet users spend 36% of their time on the internet on#SocialNetworks http://t.co/WLnHlHES5T  cc @comScore']\n",
      "\n",
      "y_test (601,):\n",
      "['Action' 'Information' 'Information']\n",
      "\n"
     ]
    }
   ],
   "source": [
    "# load data\n",
    "X, y = load_data()\n",
    "print(\"X {}:\\n{}\\n\".format(X.shape, X[:3]))\n",
    "print(\"y {}:\\n{}\\n\".format(y.shape, y[:3]))\n",
    "\n",
    "# perform train test split\n",
    "X_train, X_test, y_train, y_test = train_test_split(X, y)\n",
    "print(\"X_train {}:\\n{}\\n\".format(X_train.shape, X_train[:3]))\n",
    "print(\"y_train {}:\\n{}\\n\".format(y_train.shape, y_train[:3]))\n",
    "print(\"\\nX_test {}:\\n{}\\n\".format(X_test.shape, X_test[:3]))\n",
    "print(\"y_test {}:\\n{}\\n\".format(y_test.shape, y_test[:3]))"
   ]
  },
  {
   "cell_type": "markdown",
   "metadata": {},
   "source": [
    "### Step 2: Train classifier\n",
    "* Fit and transform the training data with `CountVectorizer`. Hint: You can include your tokenize function in the `tokenizer` keyword argument!\n",
    "* Fit and transform these word counts with `TfidfTransformer`.\n",
    "* Fit a classifier to these tfidf values."
   ]
  },
  {
   "cell_type": "code",
   "execution_count": 5,
   "metadata": {},
   "outputs": [
    {
     "name": "stdout",
     "output_type": "stream",
     "text": [
      "tfidf_values_train ((1802, 5509)):\n",
      "  (0, 3920)\t0.23006639872\n",
      "  (0, 520)\t0.122309121586\n",
      "  (0, 1036)\t0.19262820842\n",
      "  (0, 3582)\t0.09776976122\n",
      "  (0, 3478)\t0.188682041678\n",
      "  (0, 2460)\t0.127103328743\n",
      "  (0, 4385)\t0.213633621136\n",
      "  (0, 45)\t0.204372306337\n",
      "  (0, 3109)\t0.300032402047\n",
      "  (0, 975)\t0.300032402047\n",
      "  (0, 3545)\t0.210995685157\n",
      "  (0, 4797)\t0.270786281669\n",
      "  (0, 351)\t0.172079472183\n",
      "  (0, 3820)\t0.329278522424\n",
      "  (0, 4386)\t0.329278522424\n",
      "  (0, 3558)\t0.270786281669\n",
      "  (0, 4565)\t0.241540161292\n",
      "  (0, 1)\t0.0635831227114\n",
      "  (0, 3477)\t0.257349689246\n",
      "\n"
     ]
    },
    {
     "data": {
      "text/plain": [
       "RandomForestClassifier(bootstrap=True, class_weight=None, criterion='gini',\n",
       "            max_depth=None, max_features='auto', max_leaf_nodes=None,\n",
       "            min_impurity_decrease=0.0, min_impurity_split=None,\n",
       "            min_samples_leaf=1, min_samples_split=2,\n",
       "            min_weight_fraction_leaf=0.0, n_estimators=10, n_jobs=1,\n",
       "            oob_score=False, random_state=None, verbose=0,\n",
       "            warm_start=False)"
      ]
     },
     "execution_count": 5,
     "metadata": {},
     "output_type": "execute_result"
    }
   ],
   "source": [
    "# Instantiate transformers and classifier\n",
    "vect = CountVectorizer(tokenizer=tokenize)\n",
    "tfidf = TfidfTransformer()\n",
    "clf = RandomForestClassifier()\n",
    "\n",
    "# Fit and/or transform each to the data\n",
    "tfidf_values_train = tfidf.fit_transform(vect.fit_transform(X_train))\n",
    "print(\"tfidf_values_train ({}):\\n{}\\n\".format(tfidf_values_train.shape, tfidf_values_train[0]))\n",
    "clf.fit(tfidf_values_train, y_train)"
   ]
  },
  {
   "cell_type": "markdown",
   "metadata": {},
   "source": [
    "### Step 3: Predict on test data\n",
    "* Transform (**no fitting**) the test data with the same CountVectorizer and TfidfTransformer\n",
    "* Predict labels on these tfidf values."
   ]
  },
  {
   "cell_type": "code",
   "execution_count": 6,
   "metadata": {},
   "outputs": [
    {
     "name": "stdout",
     "output_type": "stream",
     "text": [
      "tfidf_values_test (601, 5509):\n",
      "  (0, 5232)\t0.188858902546\n",
      "  (0, 5086)\t0.144641525689\n",
      "  (0, 4902)\t0.263363636986\n",
      "  (0, 4900)\t0.108775429829\n",
      "  (0, 3640)\t0.246759125525\n",
      "  (0, 3582)\t0.131322553549\n",
      "  (0, 2788)\t0.159844058693\n",
      "  (0, 2650)\t0.126274127821\n",
      "  (0, 2573)\t0.237638690205\n",
      "  (0, 2497)\t0.243270444099\n",
      "  (0, 2091)\t0.288807072708\n",
      "  (0, 2059)\t0.402998030193\n",
      "  (0, 2028)\t0.357040037724\n",
      "  (0, 1811)\t0.402998030193\n",
      "  (0, 1502)\t0.255495334438\n",
      "  (0, 60)\t0.136606869857\n",
      "  (0, 1)\t0.0854036865066\n",
      "\n"
     ]
    }
   ],
   "source": [
    "# Transform test data\n",
    "tfidf_values_test = tfidf.transform(vect.transform(X_test))\n",
    "print(\"tfidf_values_test {}:\\n{}\\n\".format(tfidf_values_test.shape, tfidf_values_test[0]))\n",
    "\n",
    "# Predict test labels\n",
    "y_pred = clf.predict(tfidf_values_test)"
   ]
  },
  {
   "cell_type": "markdown",
   "metadata": {},
   "source": [
    "### Step 4: Display results\n",
    "Display a confusion matrix and accuracy score based on the model's predictions."
   ]
  },
  {
   "cell_type": "code",
   "execution_count": 7,
   "metadata": {},
   "outputs": [
    {
     "name": "stdout",
     "output_type": "stream",
     "text": [
      "Labels: ['Action' 'Dialogue' 'Information']\n",
      "Confusion Matrix:\n",
      " [[ 85   0  25]\n",
      " [  1  26   5]\n",
      " [  9   2 448]]\n",
      "Accuracy: 0.930116472546\n"
     ]
    }
   ],
   "source": [
    "labels = np.unique(y)\n",
    "confusion_mat = confusion_matrix(y_test, y_pred, labels= labels)\n",
    "accuracy = (y_pred == y_test).mean()\n",
    "\n",
    "print(\"Labels:\", labels)\n",
    "print(\"Confusion Matrix:\\n\", confusion_mat)\n",
    "print(\"Accuracy:\", accuracy)"
   ]
  },
  {
   "cell_type": "markdown",
   "metadata": {},
   "source": [
    "# Final Step: Refactor\n",
    "Organize these steps into the following functions."
   ]
  },
  {
   "cell_type": "code",
   "execution_count": 8,
   "metadata": {},
   "outputs": [],
   "source": [
    "def display_results(y_test, y_pred):\n",
    "    # insert step 4 here\n",
    "    labels = np.unique(y)\n",
    "    confusion_mat = confusion_matrix(y_test, y_pred, labels= labels)\n",
    "    accuracy = (y_pred == y_test).mean()\n",
    "    print(\"Labels:\", labels)\n",
    "    print(\"Confusion Matrix:\\n\", confusion_mat)\n",
    "    print(\"Accuracy:\", accuracy)\n",
    "\n",
    "\n",
    "def main():\n",
    "    # insert steps 1 through 3 here\n",
    "    X, y = load_data()\n",
    "    X_train, X_test, y_train, y_test = train_test_split(X, y)\n",
    "    \n",
    "    vect = CountVectorizer(tokenizer=tokenize)\n",
    "    tfidf = TfidfTransformer()\n",
    "    clf = RandomForestClassifier()\n",
    "    tfidf_values_train = tfidf.fit_transform(vect.fit_transform(X_train))\n",
    "    clf.fit(tfidf_values_train, y_train)\n",
    "    \n",
    "    tfidf_values_test = tfidf.transform(vect.transform(X_test))\n",
    "    y_pred = clf.predict(tfidf_values_test)\n",
    "    \n",
    "    display_results(y_test, y_pred)"
   ]
  },
  {
   "cell_type": "code",
   "execution_count": 9,
   "metadata": {},
   "outputs": [
    {
     "name": "stdout",
     "output_type": "stream",
     "text": [
      "Loaded data (2403, 11)\n",
      "\n",
      "Labels: ['Action' 'Dialogue' 'Information']\n",
      "Confusion Matrix:\n",
      " [[ 88   1  31]\n",
      " [  0  23   8]\n",
      " [  5   2 443]]\n",
      "Accuracy: 0.921797004992\n"
     ]
    }
   ],
   "source": [
    "# run program\n",
    "main()"
   ]
  }
 ],
 "metadata": {
  "kernelspec": {
   "display_name": "Python 3",
   "language": "python",
   "name": "python3"
  },
  "language_info": {
   "codemirror_mode": {
    "name": "ipython",
    "version": 3
   },
   "file_extension": ".py",
   "mimetype": "text/x-python",
   "name": "python",
   "nbconvert_exporter": "python",
   "pygments_lexer": "ipython3",
   "version": "3.6.3"
  }
 },
 "nbformat": 4,
 "nbformat_minor": 2
}
