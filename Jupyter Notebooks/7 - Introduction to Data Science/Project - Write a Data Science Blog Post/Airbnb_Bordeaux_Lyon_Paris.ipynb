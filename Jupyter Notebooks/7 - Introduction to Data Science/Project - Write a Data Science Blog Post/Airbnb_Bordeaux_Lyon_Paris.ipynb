{
 "cells": [
  {
   "cell_type": "markdown",
   "metadata": {},
   "source": [
    "# Write a Data Science Blog Post - Udacity Data Scientist Nanodegree - Analyzing Airbnb Data for the cities of Bordeaux, Lyon, and Paris (France) #\n",
    " \n",
    "## The Data ##\n",
    "[http://insideairbnb.com/get-the-data.html](http://insideairbnb.com/get-the-data.html) for Bordeaux, Lyon, and Paris:\n",
    " - **listings.csv**    Detailed Listings\n",
    " - **calendar.csv**    Availability Dates and Prices for Listings\n",
    " - **reviews.csv**     Detailed Review Data for Listings\n",
    " - **listings_2.csv**       Summary information and metrics for listings (good for visualisations)\n",
    " - **reviews_2.csv**        Summary Review data and Listing ID (to facilitate time based analytics and visualisations linked to a listing)\n",
    "\n",
    "## The Questions ##\n",
    "Compare **Prices** in all **3 Cities** and find the **primary Factors** for setting them:\n",
    "1. **Price Distribution**\n",
    "2. **Price and Availability throughout the Season**\n",
    "3. **Features** for explaining **Prices**"
   ]
  },
  {
   "cell_type": "code",
   "execution_count": 1,
   "metadata": {},
   "outputs": [],
   "source": [
    "import pandas as pd\n",
    "\n",
    "from sklearn.preprocessing import MinMaxScaler\n",
    "from sklearn.linear_model import LinearRegression\n",
    "from sklearn.model_selection import train_test_split\n",
    "from sklearn.metrics import r2_score #, confusion_matrix, accuracy_score\n",
    "\n",
    "import matplotlib.pyplot as plt\n",
    "import matplotlib.dates as plt_dates\n",
    "import numpy as np\n",
    "import datetime as dt\n",
    "%matplotlib inline\n",
    "import seaborn as sns"
   ]
  },
  {
   "cell_type": "markdown",
   "metadata": {},
   "source": [
    "## Visualize the Data Files ##\n",
    "### Listings (Bordeaux) ###"
   ]
  },
  {
   "cell_type": "code",
   "execution_count": 2,
   "metadata": {
    "scrolled": true
   },
   "outputs": [
    {
     "name": "stdout",
     "output_type": "stream",
     "text": [
      "There are 10939 Listings in Bordeaux, the 106 Features are:\n",
      "\n",
      "['id', 'listing_url', 'scrape_id', 'last_scraped', 'name', 'summary', 'space', 'description', 'experiences_offered', 'neighborhood_overview', 'notes', 'transit', 'access', 'interaction', 'house_rules', 'thumbnail_url', 'medium_url', 'picture_url', 'xl_picture_url', 'host_id', 'host_url', 'host_name', 'host_since', 'host_location', 'host_about', 'host_response_time', 'host_response_rate', 'host_acceptance_rate', 'host_is_superhost', 'host_thumbnail_url', 'host_picture_url', 'host_neighbourhood', 'host_listings_count', 'host_total_listings_count', 'host_verifications', 'host_has_profile_pic', 'host_identity_verified', 'street', 'neighbourhood', 'neighbourhood_cleansed', 'neighbourhood_group_cleansed', 'city', 'state', 'zipcode', 'market', 'smart_location', 'country_code', 'country', 'latitude', 'longitude', 'is_location_exact', 'property_type', 'room_type', 'accommodates', 'bathrooms', 'bedrooms', 'beds', 'bed_type', 'amenities', 'square_feet', 'price', 'weekly_price', 'monthly_price', 'security_deposit', 'cleaning_fee', 'guests_included', 'extra_people', 'minimum_nights', 'maximum_nights', 'minimum_minimum_nights', 'maximum_minimum_nights', 'minimum_maximum_nights', 'maximum_maximum_nights', 'minimum_nights_avg_ntm', 'maximum_nights_avg_ntm', 'calendar_updated', 'has_availability', 'availability_30', 'availability_60', 'availability_90', 'availability_365', 'calendar_last_scraped', 'number_of_reviews', 'number_of_reviews_ltm', 'first_review', 'last_review', 'review_scores_rating', 'review_scores_accuracy', 'review_scores_cleanliness', 'review_scores_checkin', 'review_scores_communication', 'review_scores_location', 'review_scores_value', 'requires_license', 'license', 'jurisdiction_names', 'instant_bookable', 'is_business_travel_ready', 'cancellation_policy', 'require_guest_profile_picture', 'require_guest_phone_verification', 'calculated_host_listings_count', 'calculated_host_listings_count_entire_homes', 'calculated_host_listings_count_private_rooms', 'calculated_host_listings_count_shared_rooms', 'reviews_per_month']\n",
      "\n"
     ]
    },
    {
     "data": {
      "text/html": [
       "<div>\n",
       "<style scoped>\n",
       "    .dataframe tbody tr th:only-of-type {\n",
       "        vertical-align: middle;\n",
       "    }\n",
       "\n",
       "    .dataframe tbody tr th {\n",
       "        vertical-align: top;\n",
       "    }\n",
       "\n",
       "    .dataframe thead th {\n",
       "        text-align: right;\n",
       "    }\n",
       "</style>\n",
       "<table border=\"1\" class=\"dataframe\">\n",
       "  <thead>\n",
       "    <tr style=\"text-align: right;\">\n",
       "      <th></th>\n",
       "      <th>id</th>\n",
       "      <th>listing_url</th>\n",
       "      <th>scrape_id</th>\n",
       "      <th>last_scraped</th>\n",
       "      <th>name</th>\n",
       "      <th>summary</th>\n",
       "      <th>space</th>\n",
       "      <th>description</th>\n",
       "      <th>experiences_offered</th>\n",
       "      <th>neighborhood_overview</th>\n",
       "      <th>...</th>\n",
       "      <th>instant_bookable</th>\n",
       "      <th>is_business_travel_ready</th>\n",
       "      <th>cancellation_policy</th>\n",
       "      <th>require_guest_profile_picture</th>\n",
       "      <th>require_guest_phone_verification</th>\n",
       "      <th>calculated_host_listings_count</th>\n",
       "      <th>calculated_host_listings_count_entire_homes</th>\n",
       "      <th>calculated_host_listings_count_private_rooms</th>\n",
       "      <th>calculated_host_listings_count_shared_rooms</th>\n",
       "      <th>reviews_per_month</th>\n",
       "    </tr>\n",
       "  </thead>\n",
       "  <tbody>\n",
       "    <tr>\n",
       "      <th>0</th>\n",
       "      <td>40151</td>\n",
       "      <td>https://www.airbnb.com/rooms/40151</td>\n",
       "      <td>20190827041351</td>\n",
       "      <td>2019-08-27</td>\n",
       "      <td>Sunny flat aux Chartrons</td>\n",
       "      <td>Situé dans le quartier des Chartrons, cet appa...</td>\n",
       "      <td>Situé dans le quartier des Chartrons, cet appa...</td>\n",
       "      <td>Situé dans le quartier des Chartrons, cet appa...</td>\n",
       "      <td>none</td>\n",
       "      <td>Le quartier des Chartrons est situé dans le ce...</td>\n",
       "      <td>...</td>\n",
       "      <td>f</td>\n",
       "      <td>f</td>\n",
       "      <td>moderate</td>\n",
       "      <td>f</td>\n",
       "      <td>f</td>\n",
       "      <td>2</td>\n",
       "      <td>1</td>\n",
       "      <td>1</td>\n",
       "      <td>0</td>\n",
       "      <td>0.28</td>\n",
       "    </tr>\n",
       "    <tr>\n",
       "      <th>1</th>\n",
       "      <td>185534</td>\n",
       "      <td>https://www.airbnb.com/rooms/185534</td>\n",
       "      <td>20190827041351</td>\n",
       "      <td>2019-08-27</td>\n",
       "      <td>L'Echoppe des Bouilles</td>\n",
       "      <td>NaN</td>\n",
       "      <td>L’Échoppe des Bouilles est une maison typique ...</td>\n",
       "      <td>L’Échoppe des Bouilles est une maison typique ...</td>\n",
       "      <td>none</td>\n",
       "      <td>NaN</td>\n",
       "      <td>...</td>\n",
       "      <td>f</td>\n",
       "      <td>f</td>\n",
       "      <td>strict_14_with_grace_period</td>\n",
       "      <td>f</td>\n",
       "      <td>f</td>\n",
       "      <td>1</td>\n",
       "      <td>0</td>\n",
       "      <td>1</td>\n",
       "      <td>0</td>\n",
       "      <td>NaN</td>\n",
       "    </tr>\n",
       "    <tr>\n",
       "      <th>2</th>\n",
       "      <td>218103</td>\n",
       "      <td>https://www.airbnb.com/rooms/218103</td>\n",
       "      <td>20190827041351</td>\n",
       "      <td>2019-08-27</td>\n",
       "      <td>B&amp;B (Website hidden by Airbnb) tropical garden</td>\n",
       "      <td>Ce studio spacieux de 35 m² est tout équipé po...</td>\n",
       "      <td>The Bambooyard  : \"Le clos des Bambous\", in Bè...</td>\n",
       "      <td>The Bambooyard  : \"Le clos des Bambous\", in Bè...</td>\n",
       "      <td>none</td>\n",
       "      <td>Idéalement situé Bordeaux Sud à l'entrée de Bè...</td>\n",
       "      <td>...</td>\n",
       "      <td>t</td>\n",
       "      <td>f</td>\n",
       "      <td>strict_14_with_grace_period</td>\n",
       "      <td>f</td>\n",
       "      <td>f</td>\n",
       "      <td>4</td>\n",
       "      <td>4</td>\n",
       "      <td>0</td>\n",
       "      <td>0</td>\n",
       "      <td>0.28</td>\n",
       "    </tr>\n",
       "    <tr>\n",
       "      <th>3</th>\n",
       "      <td>222887</td>\n",
       "      <td>https://www.airbnb.com/rooms/222887</td>\n",
       "      <td>20190827041351</td>\n",
       "      <td>2019-08-27</td>\n",
       "      <td>Bordeaux Terrace - spectacular view, fast Wifi</td>\n",
       "      <td>Recently renovated (February 2019), Bordeaux T...</td>\n",
       "      <td>In an 18th century building in the historic he...</td>\n",
       "      <td>Recently renovated (February 2019), Bordeaux T...</td>\n",
       "      <td>none</td>\n",
       "      <td>Bordeaux Terrace is ideally situated to visit ...</td>\n",
       "      <td>...</td>\n",
       "      <td>t</td>\n",
       "      <td>f</td>\n",
       "      <td>strict_14_with_grace_period</td>\n",
       "      <td>f</td>\n",
       "      <td>f</td>\n",
       "      <td>4</td>\n",
       "      <td>4</td>\n",
       "      <td>0</td>\n",
       "      <td>0</td>\n",
       "      <td>0.38</td>\n",
       "    </tr>\n",
       "    <tr>\n",
       "      <th>4</th>\n",
       "      <td>317273</td>\n",
       "      <td>https://www.airbnb.com/rooms/317273</td>\n",
       "      <td>20190827041351</td>\n",
       "      <td>2019-08-27</td>\n",
       "      <td>Bordeaux City Gardens - large 1 bd, park adjacent</td>\n",
       "      <td>A spacious one bedroom apartment (93 sq metres...</td>\n",
       "      <td>This spacious one bedroom apartment (93 sq met...</td>\n",
       "      <td>A spacious one bedroom apartment (93 sq metres...</td>\n",
       "      <td>none</td>\n",
       "      <td>Bordeaux's famous Jardin Public is at the end ...</td>\n",
       "      <td>...</td>\n",
       "      <td>t</td>\n",
       "      <td>f</td>\n",
       "      <td>moderate</td>\n",
       "      <td>f</td>\n",
       "      <td>f</td>\n",
       "      <td>4</td>\n",
       "      <td>4</td>\n",
       "      <td>0</td>\n",
       "      <td>0</td>\n",
       "      <td>0.31</td>\n",
       "    </tr>\n",
       "  </tbody>\n",
       "</table>\n",
       "<p>5 rows × 106 columns</p>\n",
       "</div>"
      ],
      "text/plain": [
       "       id                          listing_url       scrape_id last_scraped  \\\n",
       "0   40151   https://www.airbnb.com/rooms/40151  20190827041351   2019-08-27   \n",
       "1  185534  https://www.airbnb.com/rooms/185534  20190827041351   2019-08-27   \n",
       "2  218103  https://www.airbnb.com/rooms/218103  20190827041351   2019-08-27   \n",
       "3  222887  https://www.airbnb.com/rooms/222887  20190827041351   2019-08-27   \n",
       "4  317273  https://www.airbnb.com/rooms/317273  20190827041351   2019-08-27   \n",
       "\n",
       "                                                name  \\\n",
       "0                           Sunny flat aux Chartrons   \n",
       "1                             L'Echoppe des Bouilles   \n",
       "2     B&B (Website hidden by Airbnb) tropical garden   \n",
       "3     Bordeaux Terrace - spectacular view, fast Wifi   \n",
       "4  Bordeaux City Gardens - large 1 bd, park adjacent   \n",
       "\n",
       "                                             summary  \\\n",
       "0  Situé dans le quartier des Chartrons, cet appa...   \n",
       "1                                                NaN   \n",
       "2  Ce studio spacieux de 35 m² est tout équipé po...   \n",
       "3  Recently renovated (February 2019), Bordeaux T...   \n",
       "4  A spacious one bedroom apartment (93 sq metres...   \n",
       "\n",
       "                                               space  \\\n",
       "0  Situé dans le quartier des Chartrons, cet appa...   \n",
       "1  L’Échoppe des Bouilles est une maison typique ...   \n",
       "2  The Bambooyard  : \"Le clos des Bambous\", in Bè...   \n",
       "3  In an 18th century building in the historic he...   \n",
       "4  This spacious one bedroom apartment (93 sq met...   \n",
       "\n",
       "                                         description experiences_offered  \\\n",
       "0  Situé dans le quartier des Chartrons, cet appa...                none   \n",
       "1  L’Échoppe des Bouilles est une maison typique ...                none   \n",
       "2  The Bambooyard  : \"Le clos des Bambous\", in Bè...                none   \n",
       "3  Recently renovated (February 2019), Bordeaux T...                none   \n",
       "4  A spacious one bedroom apartment (93 sq metres...                none   \n",
       "\n",
       "                               neighborhood_overview        ...          \\\n",
       "0  Le quartier des Chartrons est situé dans le ce...        ...           \n",
       "1                                                NaN        ...           \n",
       "2  Idéalement situé Bordeaux Sud à l'entrée de Bè...        ...           \n",
       "3  Bordeaux Terrace is ideally situated to visit ...        ...           \n",
       "4  Bordeaux's famous Jardin Public is at the end ...        ...           \n",
       "\n",
       "  instant_bookable is_business_travel_ready          cancellation_policy  \\\n",
       "0                f                        f                     moderate   \n",
       "1                f                        f  strict_14_with_grace_period   \n",
       "2                t                        f  strict_14_with_grace_period   \n",
       "3                t                        f  strict_14_with_grace_period   \n",
       "4                t                        f                     moderate   \n",
       "\n",
       "  require_guest_profile_picture require_guest_phone_verification  \\\n",
       "0                             f                                f   \n",
       "1                             f                                f   \n",
       "2                             f                                f   \n",
       "3                             f                                f   \n",
       "4                             f                                f   \n",
       "\n",
       "   calculated_host_listings_count  \\\n",
       "0                               2   \n",
       "1                               1   \n",
       "2                               4   \n",
       "3                               4   \n",
       "4                               4   \n",
       "\n",
       "   calculated_host_listings_count_entire_homes  \\\n",
       "0                                            1   \n",
       "1                                            0   \n",
       "2                                            4   \n",
       "3                                            4   \n",
       "4                                            4   \n",
       "\n",
       "  calculated_host_listings_count_private_rooms  \\\n",
       "0                                            1   \n",
       "1                                            1   \n",
       "2                                            0   \n",
       "3                                            0   \n",
       "4                                            0   \n",
       "\n",
       "   calculated_host_listings_count_shared_rooms  reviews_per_month  \n",
       "0                                            0               0.28  \n",
       "1                                            0                NaN  \n",
       "2                                            0               0.28  \n",
       "3                                            0               0.38  \n",
       "4                                            0               0.31  \n",
       "\n",
       "[5 rows x 106 columns]"
      ]
     },
     "execution_count": 2,
     "metadata": {},
     "output_type": "execute_result"
    }
   ],
   "source": [
    "listings_Bx_df = pd.read_csv('../Data/listings_Bx.csv', parse_dates=['last_scraped'], dtype={'zipcode': str, 'weekly_price': str, 'monthly_price': str})    # Cf. explanation for dtype below\n",
    "print(\"There are {} Listings in Bordeaux, the {} Features are:\\n\\n{}\\n\".format(\n",
    "    listings_Bx_df.shape[0], listings_Bx_df.shape[1], listings_Bx_df.columns.tolist()))    # columns.tolist() avoids truncating the list\n",
    "listings_Bx_df.head()"
   ]
  },
  {
   "cell_type": "markdown",
   "metadata": {},
   "source": [
    "pd.**read_csv** was passed the argument **dtype={'zipcode': str, 'weekly_price': str, 'monthly_price': str}** above, because it was originally complaining about columns 43, 61, and 62, so I make sure they're loaded as Strings:"
   ]
  },
  {
   "cell_type": "code",
   "execution_count": 3,
   "metadata": {},
   "outputs": [
    {
     "data": {
      "text/html": [
       "<div>\n",
       "<style scoped>\n",
       "    .dataframe tbody tr th:only-of-type {\n",
       "        vertical-align: middle;\n",
       "    }\n",
       "\n",
       "    .dataframe tbody tr th {\n",
       "        vertical-align: top;\n",
       "    }\n",
       "\n",
       "    .dataframe thead th {\n",
       "        text-align: right;\n",
       "    }\n",
       "</style>\n",
       "<table border=\"1\" class=\"dataframe\">\n",
       "  <thead>\n",
       "    <tr style=\"text-align: right;\">\n",
       "      <th></th>\n",
       "      <th>zipcode</th>\n",
       "      <th>weekly_price</th>\n",
       "      <th>monthly_price</th>\n",
       "    </tr>\n",
       "  </thead>\n",
       "  <tbody>\n",
       "    <tr>\n",
       "      <th>0</th>\n",
       "      <td>33300</td>\n",
       "      <td>$350.00</td>\n",
       "      <td>$1,250.00</td>\n",
       "    </tr>\n",
       "    <tr>\n",
       "      <th>1</th>\n",
       "      <td>33000</td>\n",
       "      <td>NaN</td>\n",
       "      <td>NaN</td>\n",
       "    </tr>\n",
       "    <tr>\n",
       "      <th>2</th>\n",
       "      <td>33130</td>\n",
       "      <td>$630.00</td>\n",
       "      <td>NaN</td>\n",
       "    </tr>\n",
       "    <tr>\n",
       "      <th>3</th>\n",
       "      <td>33000</td>\n",
       "      <td>NaN</td>\n",
       "      <td>NaN</td>\n",
       "    </tr>\n",
       "    <tr>\n",
       "      <th>4</th>\n",
       "      <td>33000</td>\n",
       "      <td>NaN</td>\n",
       "      <td>NaN</td>\n",
       "    </tr>\n",
       "    <tr>\n",
       "      <th>5</th>\n",
       "      <td>33000</td>\n",
       "      <td>NaN</td>\n",
       "      <td>NaN</td>\n",
       "    </tr>\n",
       "    <tr>\n",
       "      <th>6</th>\n",
       "      <td>33000</td>\n",
       "      <td>$500.00</td>\n",
       "      <td>$1,400.00</td>\n",
       "    </tr>\n",
       "    <tr>\n",
       "      <th>7</th>\n",
       "      <td>33130</td>\n",
       "      <td>NaN</td>\n",
       "      <td>NaN</td>\n",
       "    </tr>\n",
       "    <tr>\n",
       "      <th>8</th>\n",
       "      <td>33000</td>\n",
       "      <td>NaN</td>\n",
       "      <td>NaN</td>\n",
       "    </tr>\n",
       "    <tr>\n",
       "      <th>9</th>\n",
       "      <td>33130</td>\n",
       "      <td>$490.00</td>\n",
       "      <td>NaN</td>\n",
       "    </tr>\n",
       "  </tbody>\n",
       "</table>\n",
       "</div>"
      ],
      "text/plain": [
       "  zipcode weekly_price monthly_price\n",
       "0   33300      $350.00     $1,250.00\n",
       "1   33000          NaN           NaN\n",
       "2   33130      $630.00           NaN\n",
       "3   33000          NaN           NaN\n",
       "4   33000          NaN           NaN\n",
       "5   33000          NaN           NaN\n",
       "6   33000      $500.00     $1,400.00\n",
       "7   33130          NaN           NaN\n",
       "8   33000          NaN           NaN\n",
       "9   33130      $490.00           NaN"
      ]
     },
     "execution_count": 3,
     "metadata": {},
     "output_type": "execute_result"
    }
   ],
   "source": [
    "listings_Bx_df.iloc[0:10, [43, 61, 62]]"
   ]
  },
  {
   "cell_type": "markdown",
   "metadata": {},
   "source": [
    "### Calendar (Bordeaux) ###"
   ]
  },
  {
   "cell_type": "code",
   "execution_count": 4,
   "metadata": {},
   "outputs": [
    {
     "name": "stdout",
     "output_type": "stream",
     "text": [
      "\n",
      "There are 3992735 Calendar entries in Bordeaux, the 7 Features are:\n",
      "\n",
      "['listing_id', 'date', 'available', 'price', 'adjusted_price', 'minimum_nights', 'maximum_nights']\n",
      "\n",
      "\n",
      "The 365 individual Dates span from 27 Aug 2019 to 25 Aug 2020\n",
      "\n"
     ]
    },
    {
     "data": {
      "text/html": [
       "<div>\n",
       "<style scoped>\n",
       "    .dataframe tbody tr th:only-of-type {\n",
       "        vertical-align: middle;\n",
       "    }\n",
       "\n",
       "    .dataframe tbody tr th {\n",
       "        vertical-align: top;\n",
       "    }\n",
       "\n",
       "    .dataframe thead th {\n",
       "        text-align: right;\n",
       "    }\n",
       "</style>\n",
       "<table border=\"1\" class=\"dataframe\">\n",
       "  <thead>\n",
       "    <tr style=\"text-align: right;\">\n",
       "      <th></th>\n",
       "      <th>listing_id</th>\n",
       "      <th>date</th>\n",
       "      <th>available</th>\n",
       "      <th>price</th>\n",
       "      <th>adjusted_price</th>\n",
       "      <th>minimum_nights</th>\n",
       "      <th>maximum_nights</th>\n",
       "    </tr>\n",
       "  </thead>\n",
       "  <tbody>\n",
       "    <tr>\n",
       "      <th>0</th>\n",
       "      <td>1190768</td>\n",
       "      <td>2019-08-27</td>\n",
       "      <td>f</td>\n",
       "      <td>$80.00</td>\n",
       "      <td>$80.00</td>\n",
       "      <td>5</td>\n",
       "      <td>355</td>\n",
       "    </tr>\n",
       "    <tr>\n",
       "      <th>1</th>\n",
       "      <td>1190768</td>\n",
       "      <td>2019-08-28</td>\n",
       "      <td>f</td>\n",
       "      <td>$80.00</td>\n",
       "      <td>$80.00</td>\n",
       "      <td>5</td>\n",
       "      <td>355</td>\n",
       "    </tr>\n",
       "    <tr>\n",
       "      <th>2</th>\n",
       "      <td>1190768</td>\n",
       "      <td>2019-08-29</td>\n",
       "      <td>f</td>\n",
       "      <td>$80.00</td>\n",
       "      <td>$80.00</td>\n",
       "      <td>5</td>\n",
       "      <td>355</td>\n",
       "    </tr>\n",
       "    <tr>\n",
       "      <th>3</th>\n",
       "      <td>1190768</td>\n",
       "      <td>2019-08-30</td>\n",
       "      <td>f</td>\n",
       "      <td>$90.00</td>\n",
       "      <td>$90.00</td>\n",
       "      <td>5</td>\n",
       "      <td>355</td>\n",
       "    </tr>\n",
       "    <tr>\n",
       "      <th>4</th>\n",
       "      <td>1190768</td>\n",
       "      <td>2019-08-31</td>\n",
       "      <td>f</td>\n",
       "      <td>$90.00</td>\n",
       "      <td>$90.00</td>\n",
       "      <td>5</td>\n",
       "      <td>355</td>\n",
       "    </tr>\n",
       "  </tbody>\n",
       "</table>\n",
       "</div>"
      ],
      "text/plain": [
       "   listing_id       date available   price adjusted_price  minimum_nights  \\\n",
       "0     1190768 2019-08-27         f  $80.00         $80.00               5   \n",
       "1     1190768 2019-08-28         f  $80.00         $80.00               5   \n",
       "2     1190768 2019-08-29         f  $80.00         $80.00               5   \n",
       "3     1190768 2019-08-30         f  $90.00         $90.00               5   \n",
       "4     1190768 2019-08-31         f  $90.00         $90.00               5   \n",
       "\n",
       "   maximum_nights  \n",
       "0             355  \n",
       "1             355  \n",
       "2             355  \n",
       "3             355  \n",
       "4             355  "
      ]
     },
     "execution_count": 4,
     "metadata": {},
     "output_type": "execute_result"
    }
   ],
   "source": [
    "calendar_Bx_df = pd.read_csv('../Data/calendar_Bx.csv', parse_dates=['date'])\n",
    "print(\"\\nThere are {} Calendar entries in Bordeaux, the {} Features are:\\n\\n{}\\n\".format(\n",
    "    calendar_Bx_df.shape[0], calendar_Bx_df.shape[1], calendar_Bx_df.columns.tolist()))    # columns.tolist() avoids truncating the list\n",
    "print(\"\\nThe {} individual Dates span from {} to {}\\n\".format(\n",
    "    calendar_Bx_df['date'].nunique(),\n",
    "    calendar_Bx_df['date'].min().strftime('%d %b %Y'),\n",
    "    calendar_Bx_df['date'].max().strftime('%d %b %Y')))\n",
    "calendar_Bx_df.head()"
   ]
  },
  {
   "cell_type": "markdown",
   "metadata": {},
   "source": [
    "### Reviews (Bordeaux) ###"
   ]
  },
  {
   "cell_type": "code",
   "execution_count": null,
   "metadata": {},
   "outputs": [
    {
     "name": "stdout",
     "output_type": "stream",
     "text": [
      "\n",
      "There are 216305 Reviews in Bordeaux, the 6 Features are:\n",
      "\n",
      "['listing_id', 'id', 'date', 'reviewer_id', 'reviewer_name', 'comments']\n",
      "\n"
     ]
    },
    {
     "data": {
      "text/html": [
       "<div>\n",
       "<style scoped>\n",
       "    .dataframe tbody tr th:only-of-type {\n",
       "        vertical-align: middle;\n",
       "    }\n",
       "\n",
       "    .dataframe tbody tr th {\n",
       "        vertical-align: top;\n",
       "    }\n",
       "\n",
       "    .dataframe thead th {\n",
       "        text-align: right;\n",
       "    }\n",
       "</style>\n",
       "<table border=\"1\" class=\"dataframe\">\n",
       "  <thead>\n",
       "    <tr style=\"text-align: right;\">\n",
       "      <th></th>\n",
       "      <th>listing_id</th>\n",
       "      <th>id</th>\n",
       "      <th>date</th>\n",
       "      <th>reviewer_id</th>\n",
       "      <th>reviewer_name</th>\n",
       "      <th>comments</th>\n",
       "    </tr>\n",
       "  </thead>\n",
       "  <tbody>\n",
       "    <tr>\n",
       "      <th>0</th>\n",
       "      <td>40151</td>\n",
       "      <td>99743</td>\n",
       "      <td>2010-09-18</td>\n",
       "      <td>175507</td>\n",
       "      <td>Elizabeth</td>\n",
       "      <td>Cédric is a great guy! Very hospitable, helpfu...</td>\n",
       "    </tr>\n",
       "    <tr>\n",
       "      <th>1</th>\n",
       "      <td>40151</td>\n",
       "      <td>190588</td>\n",
       "      <td>2011-03-01</td>\n",
       "      <td>135370</td>\n",
       "      <td>Tia</td>\n",
       "      <td>This is a beautiful and spacious apartment wit...</td>\n",
       "    </tr>\n",
       "    <tr>\n",
       "      <th>2</th>\n",
       "      <td>40151</td>\n",
       "      <td>199158</td>\n",
       "      <td>2011-03-14</td>\n",
       "      <td>414855</td>\n",
       "      <td>Natalie</td>\n",
       "      <td>Cedric was a wonderful host and his apartment ...</td>\n",
       "    </tr>\n",
       "    <tr>\n",
       "      <th>3</th>\n",
       "      <td>40151</td>\n",
       "      <td>307773</td>\n",
       "      <td>2011-06-11</td>\n",
       "      <td>359935</td>\n",
       "      <td>Jim</td>\n",
       "      <td>Cedric's home is clean and modern and well app...</td>\n",
       "    </tr>\n",
       "    <tr>\n",
       "      <th>4</th>\n",
       "      <td>40151</td>\n",
       "      <td>328283</td>\n",
       "      <td>2011-06-22</td>\n",
       "      <td>91394</td>\n",
       "      <td>B Harrison</td>\n",
       "      <td>Cedric was fabulous and really went out of his...</td>\n",
       "    </tr>\n",
       "  </tbody>\n",
       "</table>\n",
       "</div>"
      ],
      "text/plain": [
       "   listing_id      id       date  reviewer_id reviewer_name  \\\n",
       "0       40151   99743 2010-09-18       175507     Elizabeth   \n",
       "1       40151  190588 2011-03-01       135370           Tia   \n",
       "2       40151  199158 2011-03-14       414855       Natalie   \n",
       "3       40151  307773 2011-06-11       359935           Jim   \n",
       "4       40151  328283 2011-06-22        91394    B Harrison   \n",
       "\n",
       "                                            comments  \n",
       "0  Cédric is a great guy! Very hospitable, helpfu...  \n",
       "1  This is a beautiful and spacious apartment wit...  \n",
       "2  Cedric was a wonderful host and his apartment ...  \n",
       "3  Cedric's home is clean and modern and well app...  \n",
       "4  Cedric was fabulous and really went out of his...  "
      ]
     },
     "execution_count": 5,
     "metadata": {},
     "output_type": "execute_result"
    }
   ],
   "source": [
    "reviews_Bx_df = pd.read_csv('../Data/reviews_Bx.csv', parse_dates=['date'])\n",
    "print(\"\\nThere are {} Reviews in Bordeaux, the {} Features are:\\n\\n{}\\n\".format(\n",
    "    reviews_Bx_df.shape[0], reviews_Bx_df.shape[1], reviews_Bx_df.columns.tolist()))    # columns.tolist() avoids truncating the list\n",
    "reviews_Bx_df.head()"
   ]
  },
  {
   "cell_type": "code",
   "execution_count": null,
   "metadata": {},
   "outputs": [
    {
     "name": "stdout",
     "output_type": "stream",
     "text": [
      "\n",
      "There are 10939 Listing_Bx_2 entries, the 16 Features are:\n",
      "\n",
      "['id', 'name', 'host_id', 'host_name', 'neighbourhood_group', 'neighbourhood', 'latitude', 'longitude', 'room_type', 'price', 'minimum_nights', 'number_of_reviews', 'last_review', 'reviews_per_month', 'calculated_host_listings_count', 'availability_365']\n",
      "\n"
     ]
    },
    {
     "data": {
      "text/html": [
       "<div>\n",
       "<style scoped>\n",
       "    .dataframe tbody tr th:only-of-type {\n",
       "        vertical-align: middle;\n",
       "    }\n",
       "\n",
       "    .dataframe tbody tr th {\n",
       "        vertical-align: top;\n",
       "    }\n",
       "\n",
       "    .dataframe thead th {\n",
       "        text-align: right;\n",
       "    }\n",
       "</style>\n",
       "<table border=\"1\" class=\"dataframe\">\n",
       "  <thead>\n",
       "    <tr style=\"text-align: right;\">\n",
       "      <th></th>\n",
       "      <th>id</th>\n",
       "      <th>name</th>\n",
       "      <th>host_id</th>\n",
       "      <th>host_name</th>\n",
       "      <th>neighbourhood_group</th>\n",
       "      <th>neighbourhood</th>\n",
       "      <th>latitude</th>\n",
       "      <th>longitude</th>\n",
       "      <th>room_type</th>\n",
       "      <th>price</th>\n",
       "      <th>minimum_nights</th>\n",
       "      <th>number_of_reviews</th>\n",
       "      <th>last_review</th>\n",
       "      <th>reviews_per_month</th>\n",
       "      <th>calculated_host_listings_count</th>\n",
       "      <th>availability_365</th>\n",
       "    </tr>\n",
       "  </thead>\n",
       "  <tbody>\n",
       "    <tr>\n",
       "      <th>0</th>\n",
       "      <td>40151</td>\n",
       "      <td>Sunny flat aux Chartrons</td>\n",
       "      <td>165163</td>\n",
       "      <td>Cédric</td>\n",
       "      <td>Bordeaux</td>\n",
       "      <td>Chartrons - Grand Parc - Jardin Public</td>\n",
       "      <td>44.85653</td>\n",
       "      <td>-0.57460</td>\n",
       "      <td>Entire home/apt</td>\n",
       "      <td>71</td>\n",
       "      <td>3</td>\n",
       "      <td>30</td>\n",
       "      <td>2016-07-29</td>\n",
       "      <td>0.28</td>\n",
       "      <td>2</td>\n",
       "      <td>297</td>\n",
       "    </tr>\n",
       "    <tr>\n",
       "      <th>1</th>\n",
       "      <td>185534</td>\n",
       "      <td>L'Echoppe des Bouilles</td>\n",
       "      <td>890736</td>\n",
       "      <td>Carlos</td>\n",
       "      <td>Bordeaux</td>\n",
       "      <td>Saint Augustin - Tauzin - Alphonse Dupeux</td>\n",
       "      <td>44.83063</td>\n",
       "      <td>-0.59331</td>\n",
       "      <td>Private room</td>\n",
       "      <td>75</td>\n",
       "      <td>1</td>\n",
       "      <td>0</td>\n",
       "      <td>NaN</td>\n",
       "      <td>NaN</td>\n",
       "      <td>1</td>\n",
       "      <td>365</td>\n",
       "    </tr>\n",
       "    <tr>\n",
       "      <th>2</th>\n",
       "      <td>218103</td>\n",
       "      <td>B&amp;B (Website hidden by Airbnb) tropical garden</td>\n",
       "      <td>1127981</td>\n",
       "      <td>Luis</td>\n",
       "      <td>Bgles</td>\n",
       "      <td>Bgles</td>\n",
       "      <td>44.81418</td>\n",
       "      <td>-0.54842</td>\n",
       "      <td>Entire home/apt</td>\n",
       "      <td>100</td>\n",
       "      <td>2</td>\n",
       "      <td>27</td>\n",
       "      <td>2019-07-28</td>\n",
       "      <td>0.28</td>\n",
       "      <td>4</td>\n",
       "      <td>219</td>\n",
       "    </tr>\n",
       "    <tr>\n",
       "      <th>3</th>\n",
       "      <td>222887</td>\n",
       "      <td>Bordeaux Terrace - spectacular view, fast Wifi</td>\n",
       "      <td>1156398</td>\n",
       "      <td>Suzanna</td>\n",
       "      <td>Bordeaux</td>\n",
       "      <td>Bordeaux Sud</td>\n",
       "      <td>44.83635</td>\n",
       "      <td>-0.56590</td>\n",
       "      <td>Entire home/apt</td>\n",
       "      <td>175</td>\n",
       "      <td>3</td>\n",
       "      <td>35</td>\n",
       "      <td>2019-05-27</td>\n",
       "      <td>0.38</td>\n",
       "      <td>4</td>\n",
       "      <td>319</td>\n",
       "    </tr>\n",
       "    <tr>\n",
       "      <th>4</th>\n",
       "      <td>317273</td>\n",
       "      <td>Bordeaux City Gardens - large 1 bd, park adjacent</td>\n",
       "      <td>1156398</td>\n",
       "      <td>Suzanna</td>\n",
       "      <td>Bordeaux</td>\n",
       "      <td>Chartrons - Grand Parc - Jardin Public</td>\n",
       "      <td>44.84734</td>\n",
       "      <td>-0.58034</td>\n",
       "      <td>Entire home/apt</td>\n",
       "      <td>155</td>\n",
       "      <td>3</td>\n",
       "      <td>19</td>\n",
       "      <td>2019-08-05</td>\n",
       "      <td>0.31</td>\n",
       "      <td>4</td>\n",
       "      <td>315</td>\n",
       "    </tr>\n",
       "  </tbody>\n",
       "</table>\n",
       "</div>"
      ],
      "text/plain": [
       "       id                                               name  host_id  \\\n",
       "0   40151                           Sunny flat aux Chartrons   165163   \n",
       "1  185534                             L'Echoppe des Bouilles   890736   \n",
       "2  218103     B&B (Website hidden by Airbnb) tropical garden  1127981   \n",
       "3  222887     Bordeaux Terrace - spectacular view, fast Wifi  1156398   \n",
       "4  317273  Bordeaux City Gardens - large 1 bd, park adjacent  1156398   \n",
       "\n",
       "  host_name neighbourhood_group                              neighbourhood  \\\n",
       "0    Cédric            Bordeaux     Chartrons - Grand Parc - Jardin Public   \n",
       "1    Carlos            Bordeaux  Saint Augustin - Tauzin - Alphonse Dupeux   \n",
       "2      Luis               Bgles                                      Bgles   \n",
       "3   Suzanna            Bordeaux                               Bordeaux Sud   \n",
       "4   Suzanna            Bordeaux     Chartrons - Grand Parc - Jardin Public   \n",
       "\n",
       "   latitude  longitude        room_type  price  minimum_nights  \\\n",
       "0  44.85653   -0.57460  Entire home/apt     71               3   \n",
       "1  44.83063   -0.59331     Private room     75               1   \n",
       "2  44.81418   -0.54842  Entire home/apt    100               2   \n",
       "3  44.83635   -0.56590  Entire home/apt    175               3   \n",
       "4  44.84734   -0.58034  Entire home/apt    155               3   \n",
       "\n",
       "   number_of_reviews last_review  reviews_per_month  \\\n",
       "0                 30  2016-07-29               0.28   \n",
       "1                  0         NaN                NaN   \n",
       "2                 27  2019-07-28               0.28   \n",
       "3                 35  2019-05-27               0.38   \n",
       "4                 19  2019-08-05               0.31   \n",
       "\n",
       "   calculated_host_listings_count  availability_365  \n",
       "0                               2               297  \n",
       "1                               1               365  \n",
       "2                               4               219  \n",
       "3                               4               319  \n",
       "4                               4               315  "
      ]
     },
     "execution_count": 6,
     "metadata": {},
     "output_type": "execute_result"
    }
   ],
   "source": [
    "listings_Bx_2_df = pd.read_csv('../Data/listings_Bx_2.csv')\n",
    "print(\"\\nThere are {} Listing_Bx_2 entries, the {} Features are:\\n\\n{}\\n\".format(\n",
    "    listings_Bx_2_df.shape[0], listings_Bx_2_df.shape[1], listings_Bx_2_df.columns.tolist()))    # columns.tolist() avoids truncating the list\n",
    "listings_Bx_2_df.head()"
   ]
  },
  {
   "cell_type": "code",
   "execution_count": null,
   "metadata": {},
   "outputs": [
    {
     "name": "stdout",
     "output_type": "stream",
     "text": [
      "\n",
      "There are 216305 Reviews_Bx_2 entries, the 2 Features are:\n",
      "\n",
      "['listing_id', 'date']\n",
      "\n"
     ]
    },
    {
     "data": {
      "text/html": [
       "<div>\n",
       "<style scoped>\n",
       "    .dataframe tbody tr th:only-of-type {\n",
       "        vertical-align: middle;\n",
       "    }\n",
       "\n",
       "    .dataframe tbody tr th {\n",
       "        vertical-align: top;\n",
       "    }\n",
       "\n",
       "    .dataframe thead th {\n",
       "        text-align: right;\n",
       "    }\n",
       "</style>\n",
       "<table border=\"1\" class=\"dataframe\">\n",
       "  <thead>\n",
       "    <tr style=\"text-align: right;\">\n",
       "      <th></th>\n",
       "      <th>listing_id</th>\n",
       "      <th>date</th>\n",
       "    </tr>\n",
       "  </thead>\n",
       "  <tbody>\n",
       "    <tr>\n",
       "      <th>0</th>\n",
       "      <td>40151</td>\n",
       "      <td>2010-09-18</td>\n",
       "    </tr>\n",
       "    <tr>\n",
       "      <th>1</th>\n",
       "      <td>40151</td>\n",
       "      <td>2011-03-01</td>\n",
       "    </tr>\n",
       "    <tr>\n",
       "      <th>2</th>\n",
       "      <td>40151</td>\n",
       "      <td>2011-03-14</td>\n",
       "    </tr>\n",
       "    <tr>\n",
       "      <th>3</th>\n",
       "      <td>40151</td>\n",
       "      <td>2011-06-11</td>\n",
       "    </tr>\n",
       "    <tr>\n",
       "      <th>4</th>\n",
       "      <td>40151</td>\n",
       "      <td>2011-06-22</td>\n",
       "    </tr>\n",
       "  </tbody>\n",
       "</table>\n",
       "</div>"
      ],
      "text/plain": [
       "   listing_id        date\n",
       "0       40151  2010-09-18\n",
       "1       40151  2011-03-01\n",
       "2       40151  2011-03-14\n",
       "3       40151  2011-06-11\n",
       "4       40151  2011-06-22"
      ]
     },
     "execution_count": 7,
     "metadata": {},
     "output_type": "execute_result"
    }
   ],
   "source": [
    "reviews_Bx_2_df = pd.read_csv('../Data/reviews_Bx_2.csv')\n",
    "print(\"\\nThere are {} Reviews_Bx_2 entries, the {} Features are:\\n\\n{}\\n\".format(\n",
    "    reviews_Bx_2_df.shape[0], reviews_Bx_2_df.shape[1], reviews_Bx_2_df.columns.tolist()))    # columns.tolist() avoids truncating the list\n",
    "reviews_Bx_2_df.head()"
   ]
  },
  {
   "cell_type": "markdown",
   "metadata": {},
   "source": [
    "### Selecting the Data Sources ###\n",
    " - **reviews_Bx.csv** would be useful if we decided to apply Natural Language Processing (NLP) to the \"comments\" feature, but this would be a little overkill in the context of this assignment.\n",
    " - **listings_Bx_2.csv** displays a relevant subset of the features in **listings.csv*** features, but not enough, so I won't use it.\n",
    " - **reviews_Bx_2.csv** seems totally useless...\n",
    " \n",
    " I'll focus on the Listings and Calendar data.\n",
    " \n",
    "## Load Lyon and Paris Data ##"
   ]
  },
  {
   "cell_type": "code",
   "execution_count": null,
   "metadata": {
    "scrolled": true
   },
   "outputs": [
    {
     "name": "stdout",
     "output_type": "stream",
     "text": [
      "\n",
      "There are 11755 Listings in Lyon with 106 Features\n",
      "\n"
     ]
    },
    {
     "data": {
      "text/html": [
       "<div>\n",
       "<style scoped>\n",
       "    .dataframe tbody tr th:only-of-type {\n",
       "        vertical-align: middle;\n",
       "    }\n",
       "\n",
       "    .dataframe tbody tr th {\n",
       "        vertical-align: top;\n",
       "    }\n",
       "\n",
       "    .dataframe thead th {\n",
       "        text-align: right;\n",
       "    }\n",
       "</style>\n",
       "<table border=\"1\" class=\"dataframe\">\n",
       "  <thead>\n",
       "    <tr style=\"text-align: right;\">\n",
       "      <th></th>\n",
       "      <th>id</th>\n",
       "      <th>listing_url</th>\n",
       "      <th>scrape_id</th>\n",
       "      <th>last_scraped</th>\n",
       "      <th>name</th>\n",
       "      <th>summary</th>\n",
       "      <th>space</th>\n",
       "      <th>description</th>\n",
       "      <th>experiences_offered</th>\n",
       "      <th>neighborhood_overview</th>\n",
       "      <th>...</th>\n",
       "      <th>instant_bookable</th>\n",
       "      <th>is_business_travel_ready</th>\n",
       "      <th>cancellation_policy</th>\n",
       "      <th>require_guest_profile_picture</th>\n",
       "      <th>require_guest_phone_verification</th>\n",
       "      <th>calculated_host_listings_count</th>\n",
       "      <th>calculated_host_listings_count_entire_homes</th>\n",
       "      <th>calculated_host_listings_count_private_rooms</th>\n",
       "      <th>calculated_host_listings_count_shared_rooms</th>\n",
       "      <th>reviews_per_month</th>\n",
       "    </tr>\n",
       "  </thead>\n",
       "  <tbody>\n",
       "    <tr>\n",
       "      <th>0</th>\n",
       "      <td>30187</td>\n",
       "      <td>https://www.airbnb.com/rooms/30187</td>\n",
       "      <td>20190717005527</td>\n",
       "      <td>2019-07-17</td>\n",
       "      <td>Le Petit Tramassac - Old town Lyon</td>\n",
       "      <td>NaN</td>\n",
       "      <td>Le Petit Tramassac welcome you in the heart of...</td>\n",
       "      <td>Le Petit Tramassac welcome you in the heart of...</td>\n",
       "      <td>none</td>\n",
       "      <td>NaN</td>\n",
       "      <td>...</td>\n",
       "      <td>t</td>\n",
       "      <td>f</td>\n",
       "      <td>strict_14_with_grace_period</td>\n",
       "      <td>f</td>\n",
       "      <td>f</td>\n",
       "      <td>7</td>\n",
       "      <td>7</td>\n",
       "      <td>0</td>\n",
       "      <td>0</td>\n",
       "      <td>0.28</td>\n",
       "    </tr>\n",
       "  </tbody>\n",
       "</table>\n",
       "<p>1 rows × 106 columns</p>\n",
       "</div>"
      ],
      "text/plain": [
       "      id                         listing_url       scrape_id last_scraped  \\\n",
       "0  30187  https://www.airbnb.com/rooms/30187  20190717005527   2019-07-17   \n",
       "\n",
       "                                 name summary  \\\n",
       "0  Le Petit Tramassac - Old town Lyon     NaN   \n",
       "\n",
       "                                               space  \\\n",
       "0  Le Petit Tramassac welcome you in the heart of...   \n",
       "\n",
       "                                         description experiences_offered  \\\n",
       "0  Le Petit Tramassac welcome you in the heart of...                none   \n",
       "\n",
       "  neighborhood_overview        ...         instant_bookable  \\\n",
       "0                   NaN        ...                        t   \n",
       "\n",
       "  is_business_travel_ready          cancellation_policy  \\\n",
       "0                        f  strict_14_with_grace_period   \n",
       "\n",
       "  require_guest_profile_picture require_guest_phone_verification  \\\n",
       "0                             f                                f   \n",
       "\n",
       "   calculated_host_listings_count  \\\n",
       "0                               7   \n",
       "\n",
       "   calculated_host_listings_count_entire_homes  \\\n",
       "0                                            7   \n",
       "\n",
       "  calculated_host_listings_count_private_rooms  \\\n",
       "0                                            0   \n",
       "\n",
       "   calculated_host_listings_count_shared_rooms  reviews_per_month  \n",
       "0                                            0               0.28  \n",
       "\n",
       "[1 rows x 106 columns]"
      ]
     },
     "execution_count": 8,
     "metadata": {},
     "output_type": "execute_result"
    }
   ],
   "source": [
    "listings_Ly_df = pd.read_csv('../Data/listings_Ly.csv', parse_dates=['last_scraped'], dtype={'zipcode': str, 'weekly_price': str, 'monthly_price': str})\n",
    "print(\"\\nThere are {} Listings in Lyon with {} Features\\n\".format(\n",
    "    listings_Ly_df.shape[0], listings_Ly_df.shape[1]))    # columns.tolist() avoids truncating the list\n",
    "listings_Ly_df[0:1]"
   ]
  },
  {
   "cell_type": "code",
   "execution_count": null,
   "metadata": {},
   "outputs": [
    {
     "name": "stdout",
     "output_type": "stream",
     "text": [
      "\n",
      "There are 4290575 Calendar entries in Lyon with the 7 Features\n",
      "\n"
     ]
    },
    {
     "data": {
      "text/html": [
       "<div>\n",
       "<style scoped>\n",
       "    .dataframe tbody tr th:only-of-type {\n",
       "        vertical-align: middle;\n",
       "    }\n",
       "\n",
       "    .dataframe tbody tr th {\n",
       "        vertical-align: top;\n",
       "    }\n",
       "\n",
       "    .dataframe thead th {\n",
       "        text-align: right;\n",
       "    }\n",
       "</style>\n",
       "<table border=\"1\" class=\"dataframe\">\n",
       "  <thead>\n",
       "    <tr style=\"text-align: right;\">\n",
       "      <th></th>\n",
       "      <th>listing_id</th>\n",
       "      <th>date</th>\n",
       "      <th>available</th>\n",
       "      <th>price</th>\n",
       "      <th>adjusted_price</th>\n",
       "      <th>minimum_nights</th>\n",
       "      <th>maximum_nights</th>\n",
       "    </tr>\n",
       "  </thead>\n",
       "  <tbody>\n",
       "    <tr>\n",
       "      <th>0</th>\n",
       "      <td>815342</td>\n",
       "      <td>2019-07-17</td>\n",
       "      <td>t</td>\n",
       "      <td>$55.00</td>\n",
       "      <td>$55.00</td>\n",
       "      <td>2</td>\n",
       "      <td>90</td>\n",
       "    </tr>\n",
       "  </tbody>\n",
       "</table>\n",
       "</div>"
      ],
      "text/plain": [
       "   listing_id       date available   price adjusted_price  minimum_nights  \\\n",
       "0      815342 2019-07-17         t  $55.00         $55.00               2   \n",
       "\n",
       "   maximum_nights  \n",
       "0              90  "
      ]
     },
     "execution_count": 9,
     "metadata": {},
     "output_type": "execute_result"
    }
   ],
   "source": [
    "calendar_Ly_df = pd.read_csv('../Data/calendar_Ly.csv', parse_dates=['date'])\n",
    "print(\"\\nThere are {} Calendar entries in Lyon with the {} Features\\n\".format(\n",
    "    calendar_Ly_df.shape[0], calendar_Ly_df.shape[1], calendar_Ly_df.columns.tolist()))    # columns.tolist() avoids truncating the list\n",
    "calendar_Ly_df[0:1]"
   ]
  },
  {
   "cell_type": "code",
   "execution_count": null,
   "metadata": {
    "scrolled": true
   },
   "outputs": [
    {
     "name": "stdout",
     "output_type": "stream",
     "text": [
      "\n",
      "There are 64293 Listings in Paris with 106 Features\n",
      "\n"
     ]
    },
    {
     "data": {
      "text/html": [
       "<div>\n",
       "<style scoped>\n",
       "    .dataframe tbody tr th:only-of-type {\n",
       "        vertical-align: middle;\n",
       "    }\n",
       "\n",
       "    .dataframe tbody tr th {\n",
       "        vertical-align: top;\n",
       "    }\n",
       "\n",
       "    .dataframe thead th {\n",
       "        text-align: right;\n",
       "    }\n",
       "</style>\n",
       "<table border=\"1\" class=\"dataframe\">\n",
       "  <thead>\n",
       "    <tr style=\"text-align: right;\">\n",
       "      <th></th>\n",
       "      <th>id</th>\n",
       "      <th>listing_url</th>\n",
       "      <th>scrape_id</th>\n",
       "      <th>last_scraped</th>\n",
       "      <th>name</th>\n",
       "      <th>summary</th>\n",
       "      <th>space</th>\n",
       "      <th>description</th>\n",
       "      <th>experiences_offered</th>\n",
       "      <th>neighborhood_overview</th>\n",
       "      <th>...</th>\n",
       "      <th>instant_bookable</th>\n",
       "      <th>is_business_travel_ready</th>\n",
       "      <th>cancellation_policy</th>\n",
       "      <th>require_guest_profile_picture</th>\n",
       "      <th>require_guest_phone_verification</th>\n",
       "      <th>calculated_host_listings_count</th>\n",
       "      <th>calculated_host_listings_count_entire_homes</th>\n",
       "      <th>calculated_host_listings_count_private_rooms</th>\n",
       "      <th>calculated_host_listings_count_shared_rooms</th>\n",
       "      <th>reviews_per_month</th>\n",
       "    </tr>\n",
       "  </thead>\n",
       "  <tbody>\n",
       "    <tr>\n",
       "      <th>0</th>\n",
       "      <td>3109</td>\n",
       "      <td>https://www.airbnb.com/rooms/3109</td>\n",
       "      <td>20190709213457</td>\n",
       "      <td>2019-07-10</td>\n",
       "      <td>zen and calm</td>\n",
       "      <td>Appartement très calme de 50M2 Utilisation de ...</td>\n",
       "      <td>I bedroom appartment in Paris 14</td>\n",
       "      <td>I bedroom appartment in Paris 14 Good restaura...</td>\n",
       "      <td>none</td>\n",
       "      <td>Good restaurants very close the Montparnasse S...</td>\n",
       "      <td>...</td>\n",
       "      <td>f</td>\n",
       "      <td>f</td>\n",
       "      <td>flexible</td>\n",
       "      <td>f</td>\n",
       "      <td>f</td>\n",
       "      <td>1</td>\n",
       "      <td>1</td>\n",
       "      <td>0</td>\n",
       "      <td>0</td>\n",
       "      <td>0.26</td>\n",
       "    </tr>\n",
       "  </tbody>\n",
       "</table>\n",
       "<p>1 rows × 106 columns</p>\n",
       "</div>"
      ],
      "text/plain": [
       "     id                        listing_url       scrape_id last_scraped  \\\n",
       "0  3109  https://www.airbnb.com/rooms/3109  20190709213457   2019-07-10   \n",
       "\n",
       "           name                                            summary  \\\n",
       "0  zen and calm  Appartement très calme de 50M2 Utilisation de ...   \n",
       "\n",
       "                              space  \\\n",
       "0  I bedroom appartment in Paris 14   \n",
       "\n",
       "                                         description experiences_offered  \\\n",
       "0  I bedroom appartment in Paris 14 Good restaura...                none   \n",
       "\n",
       "                               neighborhood_overview        ...          \\\n",
       "0  Good restaurants very close the Montparnasse S...        ...           \n",
       "\n",
       "  instant_bookable is_business_travel_ready cancellation_policy  \\\n",
       "0                f                        f            flexible   \n",
       "\n",
       "  require_guest_profile_picture require_guest_phone_verification  \\\n",
       "0                             f                                f   \n",
       "\n",
       "   calculated_host_listings_count  \\\n",
       "0                               1   \n",
       "\n",
       "   calculated_host_listings_count_entire_homes  \\\n",
       "0                                            1   \n",
       "\n",
       "  calculated_host_listings_count_private_rooms  \\\n",
       "0                                            0   \n",
       "\n",
       "   calculated_host_listings_count_shared_rooms  reviews_per_month  \n",
       "0                                            0               0.26  \n",
       "\n",
       "[1 rows x 106 columns]"
      ]
     },
     "execution_count": 10,
     "metadata": {},
     "output_type": "execute_result"
    }
   ],
   "source": [
    "listings_Pa_df = pd.read_csv('../Data/listings_Pa.csv', parse_dates=['last_scraped'], dtype={'zipcode': str, 'weekly_price': str, 'monthly_price': str})\n",
    "print(\"\\nThere are {} Listings in Paris with {} Features\\n\".format(\n",
    "    listings_Pa_df.shape[0], listings_Pa_df.shape[1]))    # columns.tolist() avoids truncating the list\n",
    "listings_Pa_df[0:1]"
   ]
  },
  {
   "cell_type": "code",
   "execution_count": null,
   "metadata": {},
   "outputs": [
    {
     "name": "stdout",
     "output_type": "stream",
     "text": [
      "\n",
      "There are 23467355 Calendar entries in Paris with the 7 Features\n",
      "\n"
     ]
    },
    {
     "data": {
      "text/html": [
       "<div>\n",
       "<style scoped>\n",
       "    .dataframe tbody tr th:only-of-type {\n",
       "        vertical-align: middle;\n",
       "    }\n",
       "\n",
       "    .dataframe tbody tr th {\n",
       "        vertical-align: top;\n",
       "    }\n",
       "\n",
       "    .dataframe thead th {\n",
       "        text-align: right;\n",
       "    }\n",
       "</style>\n",
       "<table border=\"1\" class=\"dataframe\">\n",
       "  <thead>\n",
       "    <tr style=\"text-align: right;\">\n",
       "      <th></th>\n",
       "      <th>listing_id</th>\n",
       "      <th>date</th>\n",
       "      <th>available</th>\n",
       "      <th>price</th>\n",
       "      <th>adjusted_price</th>\n",
       "      <th>minimum_nights</th>\n",
       "      <th>maximum_nights</th>\n",
       "    </tr>\n",
       "  </thead>\n",
       "  <tbody>\n",
       "    <tr>\n",
       "      <th>0</th>\n",
       "      <td>3109</td>\n",
       "      <td>2019-07-10</td>\n",
       "      <td>f</td>\n",
       "      <td>$75.00</td>\n",
       "      <td>$75.00</td>\n",
       "      <td>3.0</td>\n",
       "      <td>15.0</td>\n",
       "    </tr>\n",
       "  </tbody>\n",
       "</table>\n",
       "</div>"
      ],
      "text/plain": [
       "   listing_id       date available   price adjusted_price  minimum_nights  \\\n",
       "0        3109 2019-07-10         f  $75.00         $75.00             3.0   \n",
       "\n",
       "   maximum_nights  \n",
       "0            15.0  "
      ]
     },
     "execution_count": 11,
     "metadata": {},
     "output_type": "execute_result"
    }
   ],
   "source": [
    "calendar_Pa_df = pd.read_csv('../Data/calendar_Pa.csv', parse_dates=['date'])\n",
    "print(\"\\nThere are {} Calendar entries in Paris with the {} Features\\n\".format(\n",
    "    calendar_Pa_df.shape[0], calendar_Pa_df.shape[1], calendar_Pa_df.columns.tolist()))    # columns.tolist() avoids truncating the list\n",
    "calendar_Pa_df[0:1]"
   ]
  },
  {
   "cell_type": "markdown",
   "metadata": {},
   "source": [
    "___\n",
    "# 1 & 2 - Compare Price Distribution and Price Values throughout the year for all 3 Cities #\n",
    "\n",
    "### Clean up the Calendar Data ###\n",
    "\n",
    "Remove any datapoints with wissing Price or Availability information."
   ]
  },
  {
   "cell_type": "code",
   "execution_count": null,
   "metadata": {},
   "outputs": [
    {
     "name": "stdout",
     "output_type": "stream",
     "text": [
      "\n",
      "Price Data readiness in\n",
      "- Bordeaux: 100.0\n",
      "- Lyon: 100.0\n",
      "- Paris: 99.99922019332813\n",
      "\n",
      "\n",
      "Availability Data readiness in\n",
      "- Bordeaux: 100.0\n",
      "- Lyon: 100.0\n",
      "- Paris: 100.0\n",
      "\n"
     ]
    }
   ],
   "source": [
    "print(\"\\nPrice Data readiness in\\n- Bordeaux: {}\\n- Lyon: {}\\n- Paris: {}\\n\".format(\n",
    "    (1 - calendar_Bx_df.isnull()['price'].mean()) * 100,\n",
    "    (1 - calendar_Ly_df.isnull()['price'].mean()) * 100,\n",
    "    (1 - calendar_Pa_df.isnull()['price'].mean()) * 100))\n",
    "\n",
    "print(\"\\nAvailability Data readiness in\\n- Bordeaux: {}\\n- Lyon: {}\\n- Paris: {}\\n\".format(\n",
    "    (1 - calendar_Bx_df.isnull()['available'].mean()) * 100,\n",
    "    (1 - calendar_Ly_df.isnull()['available'].mean()) * 100,\n",
    "    (1 - calendar_Pa_df.isnull()['available'].mean()) * 100))"
   ]
  },
  {
   "cell_type": "markdown",
   "metadata": {},
   "source": [
    "Paris has missing Price data, we need to remove it.\n",
    "We also need to convert the Price Data from Strings ('$ 123.45') to Floats (123.45)"
   ]
  },
  {
   "cell_type": "code",
   "execution_count": null,
   "metadata": {},
   "outputs": [
    {
     "name": "stdout",
     "output_type": "stream",
     "text": [
      "\n",
      "183 datapoints were removed from the Paris Calendar Data.\n",
      "\n"
     ]
    }
   ],
   "source": [
    "datapoints_before = calendar_Pa_df.shape[0]\n",
    "calendar_Pa_df = calendar_Pa_df.dropna(subset=['price'], axis=0)\n",
    "print(\"\\n{} datapoints were removed from the Paris Calendar Data.\\n\".format(datapoints_before - calendar_Pa_df.shape[0]))"
   ]
  },
  {
   "cell_type": "code",
   "execution_count": null,
   "metadata": {},
   "outputs": [
    {
     "data": {
      "text/html": [
       "<div>\n",
       "<style scoped>\n",
       "    .dataframe tbody tr th:only-of-type {\n",
       "        vertical-align: middle;\n",
       "    }\n",
       "\n",
       "    .dataframe tbody tr th {\n",
       "        vertical-align: top;\n",
       "    }\n",
       "\n",
       "    .dataframe thead th {\n",
       "        text-align: right;\n",
       "    }\n",
       "</style>\n",
       "<table border=\"1\" class=\"dataframe\">\n",
       "  <thead>\n",
       "    <tr style=\"text-align: right;\">\n",
       "      <th></th>\n",
       "      <th>listing_id</th>\n",
       "      <th>date</th>\n",
       "      <th>available</th>\n",
       "      <th>price</th>\n",
       "      <th>adjusted_price</th>\n",
       "      <th>minimum_nights</th>\n",
       "      <th>maximum_nights</th>\n",
       "    </tr>\n",
       "  </thead>\n",
       "  <tbody>\n",
       "    <tr>\n",
       "      <th>0</th>\n",
       "      <td>1190768</td>\n",
       "      <td>2019-08-27</td>\n",
       "      <td>f</td>\n",
       "      <td>80.0</td>\n",
       "      <td>$80.00</td>\n",
       "      <td>5</td>\n",
       "      <td>355</td>\n",
       "    </tr>\n",
       "    <tr>\n",
       "      <th>1</th>\n",
       "      <td>1190768</td>\n",
       "      <td>2019-08-28</td>\n",
       "      <td>f</td>\n",
       "      <td>80.0</td>\n",
       "      <td>$80.00</td>\n",
       "      <td>5</td>\n",
       "      <td>355</td>\n",
       "    </tr>\n",
       "    <tr>\n",
       "      <th>2</th>\n",
       "      <td>1190768</td>\n",
       "      <td>2019-08-29</td>\n",
       "      <td>f</td>\n",
       "      <td>80.0</td>\n",
       "      <td>$80.00</td>\n",
       "      <td>5</td>\n",
       "      <td>355</td>\n",
       "    </tr>\n",
       "    <tr>\n",
       "      <th>3</th>\n",
       "      <td>1190768</td>\n",
       "      <td>2019-08-30</td>\n",
       "      <td>f</td>\n",
       "      <td>90.0</td>\n",
       "      <td>$90.00</td>\n",
       "      <td>5</td>\n",
       "      <td>355</td>\n",
       "    </tr>\n",
       "    <tr>\n",
       "      <th>4</th>\n",
       "      <td>1190768</td>\n",
       "      <td>2019-08-31</td>\n",
       "      <td>f</td>\n",
       "      <td>90.0</td>\n",
       "      <td>$90.00</td>\n",
       "      <td>5</td>\n",
       "      <td>355</td>\n",
       "    </tr>\n",
       "  </tbody>\n",
       "</table>\n",
       "</div>"
      ],
      "text/plain": [
       "   listing_id       date available  price adjusted_price  minimum_nights  \\\n",
       "0     1190768 2019-08-27         f   80.0         $80.00               5   \n",
       "1     1190768 2019-08-28         f   80.0         $80.00               5   \n",
       "2     1190768 2019-08-29         f   80.0         $80.00               5   \n",
       "3     1190768 2019-08-30         f   90.0         $90.00               5   \n",
       "4     1190768 2019-08-31         f   90.0         $90.00               5   \n",
       "\n",
       "   maximum_nights  \n",
       "0             355  \n",
       "1             355  \n",
       "2             355  \n",
       "3             355  \n",
       "4             355  "
      ]
     },
     "execution_count": 14,
     "metadata": {},
     "output_type": "execute_result"
    }
   ],
   "source": [
    "cal_Bx_clean_prices_df = calendar_Bx_df.copy()\n",
    "cal_Bx_clean_prices_df['price'] = cal_Bx_clean_prices_df['price'].str.replace('[\\$,]', '').astype('float')\n",
    "cal_Bx_clean_prices_df.head()"
   ]
  },
  {
   "cell_type": "code",
   "execution_count": null,
   "metadata": {},
   "outputs": [
    {
     "data": {
      "text/html": [
       "<div>\n",
       "<style scoped>\n",
       "    .dataframe tbody tr th:only-of-type {\n",
       "        vertical-align: middle;\n",
       "    }\n",
       "\n",
       "    .dataframe tbody tr th {\n",
       "        vertical-align: top;\n",
       "    }\n",
       "\n",
       "    .dataframe thead th {\n",
       "        text-align: right;\n",
       "    }\n",
       "</style>\n",
       "<table border=\"1\" class=\"dataframe\">\n",
       "  <thead>\n",
       "    <tr style=\"text-align: right;\">\n",
       "      <th></th>\n",
       "      <th>listing_id</th>\n",
       "      <th>date</th>\n",
       "      <th>available</th>\n",
       "      <th>price</th>\n",
       "      <th>adjusted_price</th>\n",
       "      <th>minimum_nights</th>\n",
       "      <th>maximum_nights</th>\n",
       "    </tr>\n",
       "  </thead>\n",
       "  <tbody>\n",
       "    <tr>\n",
       "      <th>0</th>\n",
       "      <td>815342</td>\n",
       "      <td>2019-07-17</td>\n",
       "      <td>t</td>\n",
       "      <td>55.0</td>\n",
       "      <td>$55.00</td>\n",
       "      <td>2</td>\n",
       "      <td>90</td>\n",
       "    </tr>\n",
       "    <tr>\n",
       "      <th>1</th>\n",
       "      <td>818799</td>\n",
       "      <td>2019-07-17</td>\n",
       "      <td>f</td>\n",
       "      <td>62.0</td>\n",
       "      <td>$62.00</td>\n",
       "      <td>2</td>\n",
       "      <td>1125</td>\n",
       "    </tr>\n",
       "    <tr>\n",
       "      <th>2</th>\n",
       "      <td>818799</td>\n",
       "      <td>2019-07-18</td>\n",
       "      <td>f</td>\n",
       "      <td>62.0</td>\n",
       "      <td>$62.00</td>\n",
       "      <td>2</td>\n",
       "      <td>1125</td>\n",
       "    </tr>\n",
       "    <tr>\n",
       "      <th>3</th>\n",
       "      <td>818799</td>\n",
       "      <td>2019-07-19</td>\n",
       "      <td>t</td>\n",
       "      <td>62.0</td>\n",
       "      <td>$62.00</td>\n",
       "      <td>1</td>\n",
       "      <td>1125</td>\n",
       "    </tr>\n",
       "    <tr>\n",
       "      <th>4</th>\n",
       "      <td>818799</td>\n",
       "      <td>2019-07-20</td>\n",
       "      <td>t</td>\n",
       "      <td>62.0</td>\n",
       "      <td>$62.00</td>\n",
       "      <td>1</td>\n",
       "      <td>1125</td>\n",
       "    </tr>\n",
       "  </tbody>\n",
       "</table>\n",
       "</div>"
      ],
      "text/plain": [
       "   listing_id       date available  price adjusted_price  minimum_nights  \\\n",
       "0      815342 2019-07-17         t   55.0         $55.00               2   \n",
       "1      818799 2019-07-17         f   62.0         $62.00               2   \n",
       "2      818799 2019-07-18         f   62.0         $62.00               2   \n",
       "3      818799 2019-07-19         t   62.0         $62.00               1   \n",
       "4      818799 2019-07-20         t   62.0         $62.00               1   \n",
       "\n",
       "   maximum_nights  \n",
       "0              90  \n",
       "1            1125  \n",
       "2            1125  \n",
       "3            1125  \n",
       "4            1125  "
      ]
     },
     "execution_count": 15,
     "metadata": {},
     "output_type": "execute_result"
    }
   ],
   "source": [
    "cal_Ly_clean_prices_df = calendar_Ly_df.copy()\n",
    "cal_Ly_clean_prices_df['price'] = cal_Ly_clean_prices_df['price'].str.replace('[\\$,]', '').astype('float')\n",
    "cal_Ly_clean_prices_df.head()"
   ]
  },
  {
   "cell_type": "code",
   "execution_count": null,
   "metadata": {},
   "outputs": [],
   "source": [
    "cal_Pa_clean_prices_df = calendar_Pa_df.copy()\n",
    "cal_Pa_clean_prices_df['price'] = cal_Pa_clean_prices_df['price'].str.replace('[\\$,]', '').astype('float')\n",
    "cal_Pa_clean_prices_df.head()"
   ]
  },
  {
   "cell_type": "markdown",
   "metadata": {},
   "source": [
    "### Plot the Price Distribution from the Calendar Data and compare Bordeaux, Lyon, and Paris ###\n",
    "\n",
    "1. Build the distribution by ascending Price as the index;\n",
    "2. Find the lowest and highest Prices for all 3 Cities;\n",
    "3. Find the Price for all 3 Cities above which listings can be considered to be outliers;\n",
    "4. Plot and compare Price distributions below the Price limit above for all 3 Cities."
   ]
  },
  {
   "cell_type": "code",
   "execution_count": null,
   "metadata": {},
   "outputs": [],
   "source": [
    "# Build the distribution of Prices, sorted by Price (which is the index)\n",
    "cal_Bx_price_distribution = cal_Bx_clean_prices_df['price'].value_counts().sort_index()\n",
    "print(\"\\nIn Bordeaux, prices range from {} € to {} €\\n\".format(\n",
    "    cal_Bx_price_distribution.index.values.tolist()[0],\n",
    "    cal_Bx_price_distribution.index.values.tolist()[-1]))"
   ]
  },
  {
   "cell_type": "code",
   "execution_count": null,
   "metadata": {},
   "outputs": [],
   "source": [
    "cal_Bx_price_distribution.head()"
   ]
  },
  {
   "cell_type": "code",
   "execution_count": null,
   "metadata": {},
   "outputs": [],
   "source": [
    "cal_Bx_price_distribution.tail()"
   ]
  },
  {
   "cell_type": "code",
   "execution_count": null,
   "metadata": {},
   "outputs": [],
   "source": [
    "cal_Ly_price_distribution = cal_Ly_clean_prices_df['price'].value_counts().sort_index()\n",
    "print(\"\\nIn Lyon, prices range from {} € to {} €\\n\".format(\n",
    "    cal_Ly_price_distribution.index.values.tolist()[0],\n",
    "    cal_Ly_price_distribution.index.values.tolist()[-1]))\n",
    "cal_Pa_price_distribution = cal_Pa_clean_prices_df['price'].value_counts().sort_index()\n",
    "print(\"\\nIn Paris, prices range from {} € to {} €\\n\".format(\n",
    "    cal_Pa_price_distribution.index.values.tolist()[0],\n",
    "    cal_Pa_price_distribution.index.values.tolist()[-1]))"
   ]
  },
  {
   "cell_type": "code",
   "execution_count": null,
   "metadata": {},
   "outputs": [],
   "source": [
    "indices = []\n",
    "for i in range(0, 25001):\n",
    "    indices.append(i)\n",
    "print(indices[:5], \" -> \", indices[-5:])"
   ]
  },
  {
   "cell_type": "code",
   "execution_count": null,
   "metadata": {},
   "outputs": [],
   "source": [
    "Bx_values = [0] * 25001\n",
    "Bx_values[0:5]"
   ]
  },
  {
   "cell_type": "code",
   "execution_count": null,
   "metadata": {},
   "outputs": [],
   "source": [
    "Bx_Price_dist = pd.Series(index=indices, data=Bx_values)\n",
    "print(Bx_Price_dist.head())\n",
    "print(Bx_Price_dist.tail())"
   ]
  },
  {
   "cell_type": "code",
   "execution_count": null,
   "metadata": {},
   "outputs": [],
   "source": [
    "for i in cal_Bx_price_distribution.index:\n",
    "    Bx_Price_dist[i] += cal_Bx_price_distribution[i]\n",
    "Bx_Price_dist[0:20]"
   ]
  },
  {
   "cell_type": "code",
   "execution_count": null,
   "metadata": {},
   "outputs": [],
   "source": [
    "Bx_Price_dist[-20:]"
   ]
  },
  {
   "cell_type": "markdown",
   "metadata": {},
   "source": [
    "The top ends could be **outliers**. Let's check by calculating the percentage of offerings above a certain price and stop at 0.1 %:"
   ]
  },
  {
   "cell_type": "code",
   "execution_count": null,
   "metadata": {
    "scrolled": true
   },
   "outputs": [],
   "source": [
    "prices = []\n",
    "percentages = []\n",
    "\n",
    "for price in np.arange(0, 2500, step=10):\n",
    "    percent = Bx_Price_dist[Bx_Price_dist.index > price].sum() / cal_Bx_clean_prices_df.shape[0] * 100\n",
    "    prices.append(price)\n",
    "    percentages.append(percent)\n",
    "    print(\"Bordeaux has {} % offerings above {} €.\".format(percent, price))\n",
    "    if percent < 0.1:\n",
    "        break"
   ]
  },
  {
   "cell_type": "code",
   "execution_count": null,
   "metadata": {},
   "outputs": [],
   "source": [
    "percentage_curve = pd.Series(index=prices, data=percentages)\n",
    "(percentage_curve).plot(figsize=(15, 5));\n",
    "plt.title(\"Bordeaux\");"
   ]
  },
  {
   "cell_type": "code",
   "execution_count": null,
   "metadata": {},
   "outputs": [],
   "source": [
    "Ly_values = [0] * 25001\n",
    "Ly_Price_dist = pd.Series(index=indices, data=Ly_values)\n",
    "for i in cal_Ly_price_distribution.index:\n",
    "    Ly_Price_dist[i] += cal_Ly_price_distribution[i]\n",
    "#print(Ly_Price_dist[0:20])\n",
    "#print(Ly_Price_dist[-20:])\n",
    "\n",
    "prices = []\n",
    "percentages = []\n",
    "\n",
    "for price in np.arange(0, 25000, step=10):\n",
    "    percent = Ly_Price_dist[Ly_Price_dist.index > price].sum() / cal_Ly_clean_prices_df.shape[0] * 100\n",
    "    prices.append(price)\n",
    "    percentages.append(percent)\n",
    "    #print(\"Lyon has {} % offerings above {} €.\".format(percent, price))\n",
    "    if percent < 0.1:\n",
    "        break\n",
    "percentage_curve = pd.Series(index=prices, data=percentages)\n",
    "(percentage_curve).plot(figsize=(15, 5));\n",
    "plt.title(\"Lyon\");"
   ]
  },
  {
   "cell_type": "code",
   "execution_count": null,
   "metadata": {},
   "outputs": [],
   "source": [
    "Pa_values = [0] * 25001\n",
    "Pa_Price_dist = pd.Series(index=indices, data=Pa_values)\n",
    "for i in cal_Pa_price_distribution.index:\n",
    "    Pa_Price_dist[i] += cal_Pa_price_distribution[i]\n",
    "#print(Pa_Price_dist[0:20])\n",
    "#print(Pa_Price_dist[-20:])\n",
    "\n",
    "prices = []\n",
    "percentages = []\n",
    "\n",
    "for price in np.arange(0, 25000, step=10):\n",
    "    percent = Pa_Price_dist[Pa_Price_dist.index > price].sum() / cal_Pa_clean_prices_df.shape[0] * 100\n",
    "    prices.append(price)\n",
    "    percentages.append(percent)\n",
    "    #print(\"Paon has {} % offerings above {} €.\".format(percent, price))\n",
    "    if percent < 0.1:\n",
    "        break\n",
    "percentage_curve = pd.Series(index=prices, data=percentages)\n",
    "(percentage_curve).plot(figsize=(15, 5));\n",
    "plt.title(\"Paris\");"
   ]
  },
  {
   "cell_type": "markdown",
   "metadata": {},
   "source": [
    "**Bordeaux** and **Lyon** have a very similar **Price Upper Limit**, whereas **Paris**'s is almost **double**.\n",
    "\n",
    "The curves start flattening out around 400 - 800 €, we'll plot and compare the Price Distributions from ***0 to 500 €*** and then from ***501 to 1,800 €***:"
   ]
  },
  {
   "cell_type": "code",
   "execution_count": null,
   "metadata": {},
   "outputs": [],
   "source": [
    "#(Bx_Price_dist[:1000]/cal_Bx_clean_prices_df.shape[0]).plot(kind=\"bar\", figsize=(15, 5));\n",
    "(Bx_Price_dist[:500]).plot(kind=\"bar\", figsize=(15, 5));\n",
    "plt.title(\"Price Distribution for Bordeaux (0 - 500 €)\")\n",
    "#plt.xticks(np.arange(0.0, 1000.0, step=100.0), rotation='horizontal');    # Xticks() doesn't seem to display the correct values...\n",
    "plt.xticks([]);\n",
    "#plt.xlabel(\"Price (k€)\");\n",
    "#plt.yticks([]);"
   ]
  },
  {
   "cell_type": "code",
   "execution_count": null,
   "metadata": {},
   "outputs": [],
   "source": [
    "(Ly_Price_dist[:500]).plot(kind=\"bar\", figsize=(15, 5));\n",
    "plt.title(\"Price Distribution for Lyon (0 - 500 €)\")\n",
    "plt.xticks([]);"
   ]
  },
  {
   "cell_type": "code",
   "execution_count": null,
   "metadata": {},
   "outputs": [],
   "source": [
    "(Pa_Price_dist[:500]).plot(kind=\"bar\", figsize=(15, 5));\n",
    "plt.title(\"Price Distribution for Paris (0 - 500 €)\")\n",
    "plt.xticks([]);"
   ]
  },
  {
   "cell_type": "code",
   "execution_count": null,
   "metadata": {},
   "outputs": [],
   "source": [
    "#(Bx_Price_dist[1001:1800]/cal_Bx_clean_prices_df.shape[0]).plot(kind=\"bar\", figsize=(15, 5));\n",
    "(Bx_Price_dist[501:1800]).plot(kind=\"bar\", figsize=(15, 5));\n",
    "plt.title(\"Price Distribution for Bordeaux (501 - 1,800 €)\")\n",
    "#plt.xticks(np.arange(1000.0, 1800.0, step=100.0), rotation='horizontal');    # Doesn't display tick marks from 1000 to 18000\n",
    "plt.xticks([]);\n",
    "#plt.xlabel(\"Price (k€)\");\n",
    "#plt.yticks([]);"
   ]
  },
  {
   "cell_type": "code",
   "execution_count": null,
   "metadata": {},
   "outputs": [],
   "source": [
    "(Ly_Price_dist[501:1800]).plot(kind=\"bar\", figsize=(15, 5));\n",
    "plt.title(\"Price Distribution for Lyon (501 - 1,800 €)\")\n",
    "plt.xticks([]);"
   ]
  },
  {
   "cell_type": "code",
   "execution_count": null,
   "metadata": {},
   "outputs": [],
   "source": [
    "(Pa_Price_dist[501:1800]).plot(kind=\"bar\", figsize=(15, 5));\n",
    "plt.title(\"Price Distribution for Paris (501 - 1,800 €)\")\n",
    "plt.xticks([]);"
   ]
  },
  {
   "cell_type": "markdown",
   "metadata": {},
   "source": [
    "## 1 - Conclusion for Price Distribution ##\n",
    " - As seen on the first 3 plots above,  Bordeaux, Lyon, and Paris have very similar Price Distributions in the bulk of the Price range (*i.e.*, below 500 €).\n",
    " - The following 3 plots show that Paris has a larger offering above 500 €. Although Bordeaux and Lyon are beautiful cities, Paris attracts more international tourists, which may explain the difference at the high-end of the Price spectrum.\n",
    "___\n",
    " \n",
    "## Compare Price throughout the year for all 3 Cities ##\n",
    "\n",
    "To avoid fluctuations due to weekday/weekend activity differences, Pricing throughout the time period is smoothened."
   ]
  },
  {
   "cell_type": "code",
   "execution_count": null,
   "metadata": {},
   "outputs": [],
   "source": [
    "# Group Price data by Date and smoothen over 7 rolling days\n",
    "Bx_avg_price_by_date = pd.DataFrame(cal_Bx_clean_prices_df.groupby('date')['price'].mean())\n",
    "Bx_rolling_avg = Bx_avg_price_by_date.rolling(window=7, center=True).mean()\n",
    "print(Bx_rolling_avg.head())\n",
    "Ly_avg_price_by_date = pd.DataFrame(cal_Ly_clean_prices_df.groupby('date')['price'].mean())\n",
    "Ly_rolling_avg = Ly_avg_price_by_date.rolling(window=7, center=True).mean()\n",
    "Pa_avg_price_by_date = pd.DataFrame(cal_Pa_clean_prices_df.groupby('date')['price'].mean())\n",
    "Pa_rolling_avg = Pa_avg_price_by_date.rolling(window=7, center=True).mean()\n",
    "\n",
    "# Plot for all 3 Cities on the same graph\n",
    "loc = plt_dates.MonthLocator()\n",
    "fmt = plt_dates.DateFormatter('%b')\n",
    "plt.figure(figsize=(15, 5))\n",
    "plt.plot(pd.to_datetime(Bx_rolling_avg.index), Bx_rolling_avg['price'])    # removed label='Bordeaux' because it doesn't work...\n",
    "plt.plot(pd.to_datetime(Ly_rolling_avg.index), Ly_rolling_avg['price'])\n",
    "plt.plot(pd.to_datetime(Pa_rolling_avg.index), Pa_rolling_avg['price'])\n",
    "plt.legend(title='Cities:')\n",
    "x_axis = plt.gca().xaxis\n",
    "x_axis.set_major_locator(loc)\n",
    "x_axis.set_major_formatter(fmt)\n",
    "plt.xlabel('Month')\n",
    "plt.title('Price Fluctuations')\n",
    "plt.show()"
   ]
  },
  {
   "cell_type": "markdown",
   "metadata": {},
   "source": [
    "## 2 - Conclusion for Seasonal Price Fluctuations ##\n",
    "The plot above yields 2 main observations:\n",
    " - **Prices throughout the year** are much **higher in Paris** than in Lyon and in Bordeaux, which again can be explained by the fact that Paris is in the top 3 most visited cities in the World; it's also the economic capital of France and larger (pop. 2.2 M). Lyon (pop. 500 k) is larger than Bordeaux (pop. 250 k), which could explain why the prices are slightly higher in the former; also, Bordeaux is close to the Atlantic Ocean and to its many beach resorts which draw lors of tourists.\n",
    " - The **Prices peak** in all **3 Cities** around the **year-end holidays**, but Paris draws people pretty much throughout the year, with an **additional peak around the fall** when many tourists without kids - who are back in school - visit the capital after the summer heat has receded.\n",
    "___\n",
    " \n",
    "## What Factors have the highest influence on Pricing? ##\n",
    "\n",
    "Instead of analyzing the 3 Cities independently, we can combine Bordeaux, Lyon, and Paris data into one big dataset to increase the amount of datapoints. And because we noticed above that the Location has indeed an influence on Price, we will add a \"Bordeaux\", a \"Lyon\", and a \"Paris\" column with 0s (data does not belong to this City) and 1s (data belongs to this City).\n",
    "\n",
    "### Merge all 3 datasets and add the City columns. ###"
   ]
  },
  {
   "cell_type": "code",
   "execution_count": null,
   "metadata": {},
   "outputs": [],
   "source": [
    "# Can't figure out a way to store the values below as integers in the Dataframe, even when casting int(1)...\n",
    "listings_Bx_df['Bordeaux'] = int(1)\n",
    "listings_Bx_df['Lyon'] = int(0)\n",
    "listings_Bx_df['Paris'] = int(0)\n",
    "listings_Ly_df['Bordeaux'] = int(0)\n",
    "listings_Ly_df['Lyon'] = int(1)\n",
    "listings_Ly_df['Paris'] = int(0)\n",
    "listings_Pa_df['Bordeaux'] = int(0)\n",
    "listings_Pa_df['Lyon'] = int(0)\n",
    "listings_Pa_df['Paris'] = int(1)"
   ]
  },
  {
   "cell_type": "code",
   "execution_count": null,
   "metadata": {},
   "outputs": [],
   "source": [
    "listings_df = pd.concat([listings_Bx_df, listings_Ly_df, listings_Pa_df], axis=0, sort=False).reset_index()\n",
    "print(\"\\nThe new consolidated Listings data has {} rows/datapoints and still {} features.\\n\".format(\n",
    "    listings_df.shape[0], listings_df.shape[1]))\n",
    "listings_df.head()"
   ]
  },
  {
   "cell_type": "markdown",
   "metadata": {},
   "source": [
    "### Cleaning up the Listings Data ###\n",
    "1. Drop some features:\n",
    " - free text, since no NLP will be performed in the context of this project, URLs, IDs, redundancy (*e.g.*, location : just kept Zip code);\n",
    " - **% missing values**;\n",
    " - **low variability**;\n",
    " - by applying **\"business common sense\"**, to decide which ones appear to be the least relevant to our analysis.\n",
    "2. **Impute the missing values** for the remaining features: **mode** for **categorical** and **mean** for **numerical**.\n",
    "3. **One-Hot encode** the **categorical** data.\n",
    "4. **Normalize** the **numerical** data.\n",
    "\n",
    "___\n",
    "**1. Drop Values**\n",
    "  - Apply **Business Sense** to identify useless features (*e.g.*, free text because we won't be performing NLP here, unique IDs, URLs, redundancy):"
   ]
  },
  {
   "cell_type": "code",
   "execution_count": null,
   "metadata": {
    "scrolled": true
   },
   "outputs": [],
   "source": [
    "# Make sure ALL features are displayed, temporarily\n",
    "with pd.option_context(\"display.max_columns\", listings_df.shape[1]):\n",
    "    print(listings_df.head())"
   ]
  },
  {
   "cell_type": "markdown",
   "metadata": {},
   "source": [
    "Careful analysis of the data above - searching visually for free text, values with too much or too little diversity, etc., using \"listings_df['*NAME_OF_FEATURE*'].**value_counts()**\", I decided to drop the following features:"
   ]
  },
  {
   "cell_type": "code",
   "execution_count": null,
   "metadata": {},
   "outputs": [],
   "source": [
    "features_to_drop = ['index', 'id', 'listing_url', 'scrape_id', 'last_scraped', 'name', 'summary', 'space', 'description', 'neighborhood_overview',\n",
    "                    'notes', 'transit', 'access', 'interaction', 'house_rules', 'thumbnail_url', 'medium_url', 'picture_url',\n",
    "                    'xl_picture_url', 'host_url', 'host_name', 'host_about', 'host_thumbnail_url', 'host_picture_url',\n",
    "                    'host_verifications', 'host_location', 'latitude', 'longitude', 'calendar_last_scraped', 'jurisdiction_names',\n",
    "                    'host_neighbourhood', 'street', 'neighbourhood', 'zipcode', 'neighbourhood_group_cleansed', 'city',\n",
    "                    'state', 'country_code', 'country', 'market', 'smart_location']\n",
    "print(\"\\nRemoving {} features from a total of {}.\".format(\n",
    "    len(features_to_drop), listings_df.shape[1]))\n",
    "listings_clean_df = listings_df.drop(features_to_drop, axis=1)\n",
    "print(\"The clean Listings Dataframe now has {} features.\\n\".format(listings_clean_df.shape[1]))"
   ]
  },
  {
   "cell_type": "markdown",
   "metadata": {},
   "source": [
    " - **Missing Values**"
   ]
  },
  {
   "cell_type": "code",
   "execution_count": null,
   "metadata": {
    "scrolled": true
   },
   "outputs": [],
   "source": [
    "# Make sure all rows are displayed temporarily\n",
    "with pd.option_context(\"display.max_rows\", 500):\n",
    "    # Features sorted by descending percentage of missing values\n",
    "    missing_values_by_feature = (listings_clean_df.isna().sum() / listings_clean_df.shape[0]).sort_values(ascending=False) * 100\n",
    "    print(round(missing_values_by_feature, 2))"
   ]
  },
  {
   "cell_type": "markdown",
   "metadata": {},
   "source": [
    "I decide to **drop all features above 50 % missing values**: none of them seem to be relevant enough to impute over half of their values."
   ]
  },
  {
   "cell_type": "code",
   "execution_count": null,
   "metadata": {},
   "outputs": [],
   "source": [
    "features_missing = missing_values_by_feature[missing_values_by_feature > 50].index\n",
    "print(\"\\nRemoving the following {} features with too much missing data, from a total of {}:\\n\\n{}\".format(\n",
    "    features_missing.shape[0], listings_clean_df.shape[1], features_missing))\n",
    "listings_clean_df = listings_clean_df.drop(features_missing, axis=1)\n",
    "print(\"\\nThe clean Listings Dataframe now has {} features.\\n\".format(listings_clean_df.shape[1]))"
   ]
  },
  {
   "cell_type": "markdown",
   "metadata": {},
   "source": [
    "___\n",
    "**2. Impute Missing Values**\n",
    "\n",
    "**N.B.**: I could use **sklearn.impute.SimpleImputer** but it looks a little more complicated than using a **lambda**... maybe next time.\n",
    " - **Categorical** Features:"
   ]
  },
  {
   "cell_type": "code",
   "execution_count": null,
   "metadata": {
    "scrolled": true
   },
   "outputs": [],
   "source": [
    "listings_clean_object_features_df = listings_clean_df.select_dtypes(include=['object'])\n",
    "\n",
    "with pd.option_context(\"display.max_columns\", listings_clean_object_features_df.shape[1]):\n",
    "    print(listings_clean_object_features_df.head())\n",
    "    \n",
    "print(\"\\nThe clean Listings Dataframe has {} categorical features.\\n\".format(listings_clean_object_features_df.shape[1]))"
   ]
  },
  {
   "cell_type": "markdown",
   "metadata": {},
   "source": [
    "Apply **Business Sense** to the sample data above, we transform some **string** features (*i.e.*, prices, percentages) and **date** features (*e.g.*, last_review - first_review, today - host_since) into **numeric**, as well as **numeric** features (*e.g.*, host_id) into **string**."
   ]
  },
  {
   "cell_type": "code",
   "execution_count": null,
   "metadata": {},
   "outputs": [],
   "source": [
    "# Prices => Numbers\n",
    "listings_clean_df['price'] = listings_clean_df['price'].str.replace('[\\$,]', '').astype('float')\n",
    "listings_clean_df['security_deposit'] = listings_clean_df['security_deposit'].str.replace('[\\$,]', '').astype('float')\n",
    "listings_clean_df['cleaning_fee'] = listings_clean_df['cleaning_fee'].str.replace('[\\$,]', '').astype('float')\n",
    "listings_clean_df['extra_people'] = listings_clean_df['extra_people'].str.replace('[\\$,]', '').astype('float')\n",
    "\n",
    "# Percentages => Numbers\n",
    "listings_clean_df['host_response_rate'] = listings_clean_df['host_response_rate'].str.replace('[\\%,]', '').astype('float')\n",
    "\n",
    "# IDs => Categories\n",
    "listings_clean_df['host_id'] = listings_clean_df.astype({'host_id': 'category'})\n",
    "\n",
    "# Dates => Number of Days\n",
    "#    Last Review - First Review\n",
    "listings_clean_df['review_span'] = (pd.to_datetime(listings_clean_df['last_review']) -\n",
    "                                    pd.to_datetime(listings_clean_df['first_review'])).dt.days\n",
    "listings_clean_df['review_span'].fillna(value=0, inplace=True)\n",
    "listings_clean_df.drop(['first_review', 'last_review'], axis=1, inplace=True)\n",
    "#    Today - Host Since\n",
    "listings_clean_df['host_since'] = (pd.to_datetime(dt.date.today()) - pd.to_datetime(listings_clean_df['host_since'])).dt.days\n",
    "\n",
    "with pd.option_context(\"display.max_columns\", listings_clean_df.shape[1]):\n",
    "    print(listings_clean_df[['price', 'security_deposit', 'cleaning_fee', 'extra_people',\n",
    "                             'host_response_rate', 'host_id', 'review_span', 'host_since']].head())"
   ]
  },
  {
   "cell_type": "markdown",
   "metadata": {},
   "source": [
    "**Impute** missing **categorical** values with the **Mode**:"
   ]
  },
  {
   "cell_type": "code",
   "execution_count": null,
   "metadata": {
    "scrolled": true
   },
   "outputs": [],
   "source": [
    "listings_clean_object_features_df = listings_clean_df.select_dtypes(include=['object'])\n",
    "fill_mode = lambda col: col.fillna(col.mode()[0])    # notice the [0], for whatever reason...\n",
    "listings_clean_object_features_df = listings_clean_object_features_df.apply(fill_mode, axis=0);    # apply() doesn't offer an \"inplace\" option\n",
    "\n",
    "with pd.option_context(\"display.max_columns\", listings_clean_object_features_df.shape[1]):\n",
    "    print(listings_clean_object_features_df.head())\n",
    "\n",
    "print(\"\\nThe clean Listings Dataframe has {} categorical features.\\n\".format(listings_clean_object_features_df.shape[1]))"
   ]
  },
  {
   "cell_type": "markdown",
   "metadata": {},
   "source": [
    "The large number of **amenities** would generate too many extra features if **one-hot encoded**, so I'm just going to replace each value with its **amenities count**."
   ]
  },
  {
   "cell_type": "code",
   "execution_count": null,
   "metadata": {},
   "outputs": [],
   "source": [
    "listings_clean_df['num_amenities'] = \\\n",
    "    listings_clean_object_features_df['amenities'].apply(lambda list : list.count(',') + 1)\n",
    "listings_clean_object_features_df.drop(['amenities'], axis=1, inplace=True)"
   ]
  },
  {
   "cell_type": "markdown",
   "metadata": {},
   "source": [
    " - **Numerical** Features:"
   ]
  },
  {
   "cell_type": "code",
   "execution_count": null,
   "metadata": {
    "scrolled": true
   },
   "outputs": [],
   "source": [
    "listings_clean_num_features_df = listings_clean_df.select_dtypes(include=['int64', 'float64'])\n",
    "\n",
    "with pd.option_context(\"display.max_columns\", listings_clean_num_features_df.shape[1]):\n",
    "    print(listings_clean_num_features_df.head())\n",
    "\n",
    "print(\"\\nThe clean Listings Dataframe has {} numerical features.\\n\".format(listings_clean_num_features_df.shape[1]))"
   ]
  },
  {
   "cell_type": "markdown",
   "metadata": {},
   "source": [
    "**Impute** missing **numerical** values with the **Mean** ('Bordeaux', 'Lyon', and 'Paris' won't be affected, since we know they have non NaNs):"
   ]
  },
  {
   "cell_type": "code",
   "execution_count": null,
   "metadata": {
    "scrolled": true
   },
   "outputs": [],
   "source": [
    "fill_mean = lambda col: col.fillna(col.mean())\n",
    "listings_clean_num_features_df = listings_clean_num_features_df.apply(fill_mean, axis=0)    # apply() doesn't offer an \"inplace\" option\n",
    "\n",
    "with pd.option_context(\"display.max_columns\", listings_clean_num_features_df.shape[0]):\n",
    "    print(listings_clean_num_features_df.head())\n",
    "\n",
    "print(\"\\nThe clean Listings Dataframe has {} numerical features.\\n\".format(listings_clean_num_features_df.shape[1]))"
   ]
  },
  {
   "cell_type": "markdown",
   "metadata": {},
   "source": [
    "___\n",
    "**3. One-Hot Encode** the **Categorical** data\n",
    " - ~~Start with the **amenities** column, which needs to be parsed:~~\n",
    " \n",
    " Forget one-hot encoding individual **amenities**, it creates too many new features and is prone to overfitting."
   ]
  },
  {
   "cell_type": "code",
   "execution_count": null,
   "metadata": {},
   "outputs": [],
   "source": [
    "'''print(listings_clean_object_features_df['amenities'][0])\n",
    "\n",
    "# Remove double-quotes\n",
    "listings_clean_object_features_df['amenities'] = \\\n",
    "    listings_clean_object_features_df['amenities'].str.replace('[\"{}]', '', regex=True)\n",
    "print(listings_clean_object_features_df['amenities'][0])\n",
    "\n",
    "# One-hot encode the amenities\n",
    "amenities_df = listings_clean_object_features_df['amenities'].str.get_dummies(sep = \",\")\n",
    "amenities_df.head()\n",
    "\n",
    "# Remove the 'amenities' column because it's been replaced by the one-hot encoded features above\n",
    "#listings_clean_object_features_df.drop('amenities', axis=1, inplace=True)'''"
   ]
  },
  {
   "cell_type": "markdown",
   "metadata": {},
   "source": [
    " - The other columns are encoded *via* **get_dummies()**:"
   ]
  },
  {
   "cell_type": "code",
   "execution_count": null,
   "metadata": {
    "scrolled": true
   },
   "outputs": [],
   "source": [
    "object_cols = listings_clean_object_features_df.columns\n",
    "\n",
    "for col in object_cols:\n",
    "    try:\n",
    "        listings_clean_object_features_df = pd.concat([\n",
    "            listings_clean_object_features_df.drop(col, axis=1),\n",
    "            pd.get_dummies(listings_clean_object_features_df[col],\n",
    "                           prefix=col, prefix_sep='_', drop_first=True)],\n",
    "            axis=1)\n",
    "    except:\n",
    "        continue\n",
    "        \n",
    "with pd.option_context(\"display.max_columns\", listings_clean_object_features_df.shape[1]):\n",
    "    print(listings_clean_object_features_df.head())\n",
    "\n",
    "print(\"\\nThe clean Listings Dataframe has {} categorical features.\\n\".format(listings_clean_object_features_df.shape[1]))"
   ]
  },
  {
   "cell_type": "markdown",
   "metadata": {},
   "source": [
    "I notice above that **calendar_updated** could be narrowed down to **calendar_updated_up_to_1_year**, **calendar_updated_over_1_year**, while keeping **calendar_updated_never**:"
   ]
  },
  {
   "cell_type": "code",
   "execution_count": null,
   "metadata": {},
   "outputs": [],
   "source": [
    "# Merge all columns up to 1 year into a new column, then drop the original ones\n",
    "regular_expression_up_to_1_year = \\\n",
    "    \"calendar_updated_((([0-9]|[1-9][0-9]|[1-2][0-9][0-9]|3[0-5][0-9]|36[0-5]|a) day.*)\" + \\\n",
    "    \"|(([0-9]|[1-4][0-9]|5[0-2]|a) week.*)\" + \\\n",
    "    \"|(([0-9]|1[0-2]|a) month.*)\" + \\\n",
    "    \"|(today|yesterday))\"\n",
    "calendar_updated_up_to_1_year = listings_clean_object_features_df.filter(regex=regular_expression_up_to_1_year)\n",
    "print(\"\\nUpdated up to 1 year ago:\\n{}\".format(calendar_updated_up_to_1_year.columns))\n",
    "listings_clean_object_features_df['calendar_updated_up_to_1_year'] = \\\n",
    "    listings_clean_object_features_df[calendar_updated_up_to_1_year.columns].sum(axis=1)\n",
    "listings_clean_object_features_df.drop(calendar_updated_up_to_1_year.columns, axis = 1, inplace = True)\n",
    "\n",
    "with pd.option_context(\"display.max_columns\", listings_clean_object_features_df.shape[1]):\n",
    "    print()\n",
    "    print(listings_clean_object_features_df.head())\n",
    "\n",
    "print(\"\\nThe clean Listings Dataframe has {} categorical features.\\n\".format(listings_clean_object_features_df.shape[1]))"
   ]
  },
  {
   "cell_type": "code",
   "execution_count": null,
   "metadata": {},
   "outputs": [],
   "source": [
    "# Merge all columns over 1 year into a new column, then drop the original ones\n",
    "regular_expression_over_1_year = \"calendar_updated_(?!less_1_year|never)\"\n",
    "calendar_updated_over_1_year = listings_clean_object_features_df.filter(regex=regular_expression_over_1_year)\n",
    "print(\"\\nUpdated over 1 year ago:\\n{}\".format(calendar_updated_over_1_year.columns))\n",
    "listings_clean_object_features_df['calendar_updated_over_1_year'] = \\\n",
    "    listings_clean_object_features_df[calendar_updated_over_1_year.columns].sum(axis=1)\n",
    "listings_clean_object_features_df.drop(calendar_updated_over_1_year.columns, axis = 1, inplace = True)\n",
    "\n",
    "with pd.option_context(\"display.max_columns\", listings_clean_object_features_df.shape[1]):\n",
    "    print()\n",
    "    print(listings_clean_object_features_df.head())\n",
    "\n",
    "print(\"\\nThe clean Listings Dataframe has {} categorical features.\\n\".format(listings_clean_object_features_df.shape[1]))"
   ]
  },
  {
   "cell_type": "markdown",
   "metadata": {},
   "source": [
    "___\n",
    "**4. Normalize** the **Numerical** data\n",
    " \n",
    " A comparison between several sklearn Scalers: [Compare the effect of different scalers on data with outliers](https://scikit-learn.org/stable/auto_examples/preprocessing/plot_all_scaling.html)"
   ]
  },
  {
   "cell_type": "code",
   "execution_count": null,
   "metadata": {
    "scrolled": true
   },
   "outputs": [],
   "source": [
    "# This works below, but I'm going to use the \n",
    "#listings_clean_num_features_df = (listings_clean_num_features_df - listings_clean_num_features_df.min()) / \\\n",
    "#                                 (listings_clean_num_features_df.max() - listings_clean_num_features_df.min())\n",
    "\n",
    "scaler = MinMaxScaler()\n",
    "listings_clean_num_features_df = pd.DataFrame(scaler.fit_transform(listings_clean_num_features_df),\n",
    "                                              columns = listings_clean_num_features_df.columns)\n",
    "\n",
    "with pd.option_context(\"display.max_columns\", listings_clean_num_features_df.shape[0]):\n",
    "    print(listings_clean_num_features_df.head())"
   ]
  },
  {
   "cell_type": "markdown",
   "metadata": {},
   "source": [
    "___\n",
    "**Merge** the **Categorical** and the **Numerical** datasets again:"
   ]
  },
  {
   "cell_type": "code",
   "execution_count": null,
   "metadata": {},
   "outputs": [],
   "source": [
    "#listings_clean_df = pd.concat((amenities_df, listings_clean_object_features_df, listings_clean_num_features_df), axis=1)\n",
    "listings_clean_df = pd.concat((listings_clean_object_features_df, listings_clean_num_features_df), axis=1)\n",
    "\n",
    "with pd.option_context(\"display.max_columns\", listings_clean_df.shape[0]):\n",
    "    print(listings_clean_df.head())\n",
    "\n",
    "print(\"\\nThe clean Listings Dataframe has {} features.\\n\".format(listings_clean_df.shape[1]))"
   ]
  },
  {
   "cell_type": "markdown",
   "metadata": {},
   "source": [
    "___\n",
    "# 3- What Features influence Price ? #\n",
    "### Predicting Prices ###\n",
    "\n",
    "I'll use a simple **Linear Regression** model."
   ]
  },
  {
   "cell_type": "code",
   "execution_count": null,
   "metadata": {},
   "outputs": [],
   "source": [
    "# Split the feature to predict 'price' into y and the features used to predict into X\n",
    "y = listings_clean_df['price']\n",
    "X = listings_clean_df.drop(['price'], axis=1)\n",
    "#print(\"\\ny:\\n{}\\n\\nX:\\n{}\".format(y.head(), X.head()))\n",
    "\n",
    "# Further split into Training and Test sets\n",
    "X_train, X_test, y_train, y_test = train_test_split(X, y, test_size=.25, random_state=42)\n",
    "print(\"\\nThere are {} training datapoints and {} testing datapoints.\\n\".format(X_train.shape[0], X_test.shape[0]))\n",
    "\n",
    "# Fit the model on the Training data and predict prices for both Training and Test data\n",
    "lr_model = LinearRegression(normalize=True)\n",
    "lr_model.fit(X_train, y_train)\n",
    "y_train_predictions = lr_model.predict(X_train)\n",
    "y_test_predictions = lr_model.predict(X_test)\n",
    "\n",
    "# Calculate the R2 scores for both data sets\n",
    "r2_train = r2_score(y_train, y_train_predictions)\n",
    "r2_test = r2_score(y_test, y_test_predictions)\n",
    "print(\"\\nTraining Data: R2 = {}\\nTesting Data: R2 = {}\\n\".format(r2_train, r2_test))"
   ]
  }
 ],
 "metadata": {
  "kernelspec": {
   "display_name": "Python 3",
   "language": "python",
   "name": "python3"
  },
  "language_info": {
   "codemirror_mode": {
    "name": "ipython",
    "version": 3
   },
   "file_extension": ".py",
   "mimetype": "text/x-python",
   "name": "python",
   "nbconvert_exporter": "python",
   "pygments_lexer": "ipython3",
   "version": "3.7.1"
  }
 },
 "nbformat": 4,
 "nbformat_minor": 4
}
