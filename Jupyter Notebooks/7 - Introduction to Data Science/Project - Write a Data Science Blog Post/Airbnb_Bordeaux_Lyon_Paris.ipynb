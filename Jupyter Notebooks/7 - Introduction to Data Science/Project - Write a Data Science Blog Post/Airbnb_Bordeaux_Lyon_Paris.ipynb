{
 "cells": [
  {
   "cell_type": "markdown",
   "metadata": {},
   "source": [
    "# Write a Data Science Blog Post - Udacity Data Scientist Nanodegree - Analyzing Airbnb Data for the cities of Bordeaux, Lyon, and Paris (France) #\n",
    "???????????????????\n",
    " \n",
    "## The Data ##\n",
    "[http://insideairbnb.com/get-the-data.html](http://insideairbnb.com/get-the-data.html) for Bordeaux, Lyon, and Paris:\n",
    " - **listings.csv**    Detailed Listings\n",
    " - **calendar.csv**    Availability Dates and Prices for Listings\n",
    " - **reviews.csv**     Detailed Review Data for Listings\n",
    " - **listings_2.csv**       Summary information and metrics for listings (good for visualisations)\n",
    " - **reviews_2.csv**        Summary Review data and Listing ID (to facilitate time based analytics and visualisations linked to a listing)\n",
    "\n",
    "## The Questions ##\n",
    "Compare **Prices** in all **3 Cities** and find the **primary Factors** for setting them:\n",
    "1. **Price Distribution**\n",
    "2. **Price and Availability throughout the Season**\n",
    "3. **Features** for explaining **Prices**"
   ]
  },
  {
   "cell_type": "code",
   "execution_count": 79,
   "metadata": {},
   "outputs": [],
   "source": [
    "import pandas as pd\n",
    "import matplotlib.pyplot as plt\n",
    "import matplotlib.dates as plt_dates\n",
    "import numpy as np\n",
    "%matplotlib inline\n",
    "#from sklearn.model_selection import train_test_split\n",
    "#from sklearn.linear_model import LinearRegression\n",
    "#from sklearn import metrics\n",
    "#from sklearn import tree\n",
    "#from sklearn.tree import DecisionTreeRegressor\n",
    "#from sklearn.ensemble import RandomForestRegressor\n",
    "#import seaborn as sns"
   ]
  },
  {
   "cell_type": "markdown",
   "metadata": {},
   "source": [
    "## Visualize the Data Files ##\n",
    "### Listings (Bordeaux) ###"
   ]
  },
  {
   "cell_type": "code",
   "execution_count": 2,
   "metadata": {
    "scrolled": true
   },
   "outputs": [
    {
     "name": "stdout",
     "output_type": "stream",
     "text": [
      "There are 10939 Listings in Bordeaux, the 106 Features are:\n",
      "\n",
      "['id', 'listing_url', 'scrape_id', 'last_scraped', 'name', 'summary', 'space', 'description', 'experiences_offered', 'neighborhood_overview', 'notes', 'transit', 'access', 'interaction', 'house_rules', 'thumbnail_url', 'medium_url', 'picture_url', 'xl_picture_url', 'host_id', 'host_url', 'host_name', 'host_since', 'host_location', 'host_about', 'host_response_time', 'host_response_rate', 'host_acceptance_rate', 'host_is_superhost', 'host_thumbnail_url', 'host_picture_url', 'host_neighbourhood', 'host_listings_count', 'host_total_listings_count', 'host_verifications', 'host_has_profile_pic', 'host_identity_verified', 'street', 'neighbourhood', 'neighbourhood_cleansed', 'neighbourhood_group_cleansed', 'city', 'state', 'zipcode', 'market', 'smart_location', 'country_code', 'country', 'latitude', 'longitude', 'is_location_exact', 'property_type', 'room_type', 'accommodates', 'bathrooms', 'bedrooms', 'beds', 'bed_type', 'amenities', 'square_feet', 'price', 'weekly_price', 'monthly_price', 'security_deposit', 'cleaning_fee', 'guests_included', 'extra_people', 'minimum_nights', 'maximum_nights', 'minimum_minimum_nights', 'maximum_minimum_nights', 'minimum_maximum_nights', 'maximum_maximum_nights', 'minimum_nights_avg_ntm', 'maximum_nights_avg_ntm', 'calendar_updated', 'has_availability', 'availability_30', 'availability_60', 'availability_90', 'availability_365', 'calendar_last_scraped', 'number_of_reviews', 'number_of_reviews_ltm', 'first_review', 'last_review', 'review_scores_rating', 'review_scores_accuracy', 'review_scores_cleanliness', 'review_scores_checkin', 'review_scores_communication', 'review_scores_location', 'review_scores_value', 'requires_license', 'license', 'jurisdiction_names', 'instant_bookable', 'is_business_travel_ready', 'cancellation_policy', 'require_guest_profile_picture', 'require_guest_phone_verification', 'calculated_host_listings_count', 'calculated_host_listings_count_entire_homes', 'calculated_host_listings_count_private_rooms', 'calculated_host_listings_count_shared_rooms', 'reviews_per_month']\n",
      "\n"
     ]
    },
    {
     "data": {
      "text/html": [
       "<div>\n",
       "<style scoped>\n",
       "    .dataframe tbody tr th:only-of-type {\n",
       "        vertical-align: middle;\n",
       "    }\n",
       "\n",
       "    .dataframe tbody tr th {\n",
       "        vertical-align: top;\n",
       "    }\n",
       "\n",
       "    .dataframe thead th {\n",
       "        text-align: right;\n",
       "    }\n",
       "</style>\n",
       "<table border=\"1\" class=\"dataframe\">\n",
       "  <thead>\n",
       "    <tr style=\"text-align: right;\">\n",
       "      <th></th>\n",
       "      <th>id</th>\n",
       "      <th>listing_url</th>\n",
       "      <th>scrape_id</th>\n",
       "      <th>last_scraped</th>\n",
       "      <th>name</th>\n",
       "      <th>summary</th>\n",
       "      <th>space</th>\n",
       "      <th>description</th>\n",
       "      <th>experiences_offered</th>\n",
       "      <th>neighborhood_overview</th>\n",
       "      <th>...</th>\n",
       "      <th>instant_bookable</th>\n",
       "      <th>is_business_travel_ready</th>\n",
       "      <th>cancellation_policy</th>\n",
       "      <th>require_guest_profile_picture</th>\n",
       "      <th>require_guest_phone_verification</th>\n",
       "      <th>calculated_host_listings_count</th>\n",
       "      <th>calculated_host_listings_count_entire_homes</th>\n",
       "      <th>calculated_host_listings_count_private_rooms</th>\n",
       "      <th>calculated_host_listings_count_shared_rooms</th>\n",
       "      <th>reviews_per_month</th>\n",
       "    </tr>\n",
       "  </thead>\n",
       "  <tbody>\n",
       "    <tr>\n",
       "      <th>0</th>\n",
       "      <td>40151</td>\n",
       "      <td>https://www.airbnb.com/rooms/40151</td>\n",
       "      <td>20190827041351</td>\n",
       "      <td>2019-08-27</td>\n",
       "      <td>Sunny flat aux Chartrons</td>\n",
       "      <td>Situé dans le quartier des Chartrons, cet appa...</td>\n",
       "      <td>Situé dans le quartier des Chartrons, cet appa...</td>\n",
       "      <td>Situé dans le quartier des Chartrons, cet appa...</td>\n",
       "      <td>none</td>\n",
       "      <td>Le quartier des Chartrons est situé dans le ce...</td>\n",
       "      <td>...</td>\n",
       "      <td>f</td>\n",
       "      <td>f</td>\n",
       "      <td>moderate</td>\n",
       "      <td>f</td>\n",
       "      <td>f</td>\n",
       "      <td>2</td>\n",
       "      <td>1</td>\n",
       "      <td>1</td>\n",
       "      <td>0</td>\n",
       "      <td>0.28</td>\n",
       "    </tr>\n",
       "    <tr>\n",
       "      <th>1</th>\n",
       "      <td>185534</td>\n",
       "      <td>https://www.airbnb.com/rooms/185534</td>\n",
       "      <td>20190827041351</td>\n",
       "      <td>2019-08-27</td>\n",
       "      <td>L'Echoppe des Bouilles</td>\n",
       "      <td>NaN</td>\n",
       "      <td>L’Échoppe des Bouilles est une maison typique ...</td>\n",
       "      <td>L’Échoppe des Bouilles est une maison typique ...</td>\n",
       "      <td>none</td>\n",
       "      <td>NaN</td>\n",
       "      <td>...</td>\n",
       "      <td>f</td>\n",
       "      <td>f</td>\n",
       "      <td>strict_14_with_grace_period</td>\n",
       "      <td>f</td>\n",
       "      <td>f</td>\n",
       "      <td>1</td>\n",
       "      <td>0</td>\n",
       "      <td>1</td>\n",
       "      <td>0</td>\n",
       "      <td>NaN</td>\n",
       "    </tr>\n",
       "    <tr>\n",
       "      <th>2</th>\n",
       "      <td>218103</td>\n",
       "      <td>https://www.airbnb.com/rooms/218103</td>\n",
       "      <td>20190827041351</td>\n",
       "      <td>2019-08-27</td>\n",
       "      <td>B&amp;B (Website hidden by Airbnb) tropical garden</td>\n",
       "      <td>Ce studio spacieux de 35 m² est tout équipé po...</td>\n",
       "      <td>The Bambooyard  : \"Le clos des Bambous\", in Bè...</td>\n",
       "      <td>The Bambooyard  : \"Le clos des Bambous\", in Bè...</td>\n",
       "      <td>none</td>\n",
       "      <td>Idéalement situé Bordeaux Sud à l'entrée de Bè...</td>\n",
       "      <td>...</td>\n",
       "      <td>t</td>\n",
       "      <td>f</td>\n",
       "      <td>strict_14_with_grace_period</td>\n",
       "      <td>f</td>\n",
       "      <td>f</td>\n",
       "      <td>4</td>\n",
       "      <td>4</td>\n",
       "      <td>0</td>\n",
       "      <td>0</td>\n",
       "      <td>0.28</td>\n",
       "    </tr>\n",
       "    <tr>\n",
       "      <th>3</th>\n",
       "      <td>222887</td>\n",
       "      <td>https://www.airbnb.com/rooms/222887</td>\n",
       "      <td>20190827041351</td>\n",
       "      <td>2019-08-27</td>\n",
       "      <td>Bordeaux Terrace - spectacular view, fast Wifi</td>\n",
       "      <td>Recently renovated (February 2019), Bordeaux T...</td>\n",
       "      <td>In an 18th century building in the historic he...</td>\n",
       "      <td>Recently renovated (February 2019), Bordeaux T...</td>\n",
       "      <td>none</td>\n",
       "      <td>Bordeaux Terrace is ideally situated to visit ...</td>\n",
       "      <td>...</td>\n",
       "      <td>t</td>\n",
       "      <td>f</td>\n",
       "      <td>strict_14_with_grace_period</td>\n",
       "      <td>f</td>\n",
       "      <td>f</td>\n",
       "      <td>4</td>\n",
       "      <td>4</td>\n",
       "      <td>0</td>\n",
       "      <td>0</td>\n",
       "      <td>0.38</td>\n",
       "    </tr>\n",
       "    <tr>\n",
       "      <th>4</th>\n",
       "      <td>317273</td>\n",
       "      <td>https://www.airbnb.com/rooms/317273</td>\n",
       "      <td>20190827041351</td>\n",
       "      <td>2019-08-27</td>\n",
       "      <td>Bordeaux City Gardens - large 1 bd, park adjacent</td>\n",
       "      <td>A spacious one bedroom apartment (93 sq metres...</td>\n",
       "      <td>This spacious one bedroom apartment (93 sq met...</td>\n",
       "      <td>A spacious one bedroom apartment (93 sq metres...</td>\n",
       "      <td>none</td>\n",
       "      <td>Bordeaux's famous Jardin Public is at the end ...</td>\n",
       "      <td>...</td>\n",
       "      <td>t</td>\n",
       "      <td>f</td>\n",
       "      <td>moderate</td>\n",
       "      <td>f</td>\n",
       "      <td>f</td>\n",
       "      <td>4</td>\n",
       "      <td>4</td>\n",
       "      <td>0</td>\n",
       "      <td>0</td>\n",
       "      <td>0.31</td>\n",
       "    </tr>\n",
       "  </tbody>\n",
       "</table>\n",
       "<p>5 rows × 106 columns</p>\n",
       "</div>"
      ],
      "text/plain": [
       "       id                          listing_url       scrape_id last_scraped  \\\n",
       "0   40151   https://www.airbnb.com/rooms/40151  20190827041351   2019-08-27   \n",
       "1  185534  https://www.airbnb.com/rooms/185534  20190827041351   2019-08-27   \n",
       "2  218103  https://www.airbnb.com/rooms/218103  20190827041351   2019-08-27   \n",
       "3  222887  https://www.airbnb.com/rooms/222887  20190827041351   2019-08-27   \n",
       "4  317273  https://www.airbnb.com/rooms/317273  20190827041351   2019-08-27   \n",
       "\n",
       "                                                name  \\\n",
       "0                           Sunny flat aux Chartrons   \n",
       "1                             L'Echoppe des Bouilles   \n",
       "2     B&B (Website hidden by Airbnb) tropical garden   \n",
       "3     Bordeaux Terrace - spectacular view, fast Wifi   \n",
       "4  Bordeaux City Gardens - large 1 bd, park adjacent   \n",
       "\n",
       "                                             summary  \\\n",
       "0  Situé dans le quartier des Chartrons, cet appa...   \n",
       "1                                                NaN   \n",
       "2  Ce studio spacieux de 35 m² est tout équipé po...   \n",
       "3  Recently renovated (February 2019), Bordeaux T...   \n",
       "4  A spacious one bedroom apartment (93 sq metres...   \n",
       "\n",
       "                                               space  \\\n",
       "0  Situé dans le quartier des Chartrons, cet appa...   \n",
       "1  L’Échoppe des Bouilles est une maison typique ...   \n",
       "2  The Bambooyard  : \"Le clos des Bambous\", in Bè...   \n",
       "3  In an 18th century building in the historic he...   \n",
       "4  This spacious one bedroom apartment (93 sq met...   \n",
       "\n",
       "                                         description experiences_offered  \\\n",
       "0  Situé dans le quartier des Chartrons, cet appa...                none   \n",
       "1  L’Échoppe des Bouilles est une maison typique ...                none   \n",
       "2  The Bambooyard  : \"Le clos des Bambous\", in Bè...                none   \n",
       "3  Recently renovated (February 2019), Bordeaux T...                none   \n",
       "4  A spacious one bedroom apartment (93 sq metres...                none   \n",
       "\n",
       "                               neighborhood_overview        ...          \\\n",
       "0  Le quartier des Chartrons est situé dans le ce...        ...           \n",
       "1                                                NaN        ...           \n",
       "2  Idéalement situé Bordeaux Sud à l'entrée de Bè...        ...           \n",
       "3  Bordeaux Terrace is ideally situated to visit ...        ...           \n",
       "4  Bordeaux's famous Jardin Public is at the end ...        ...           \n",
       "\n",
       "  instant_bookable is_business_travel_ready          cancellation_policy  \\\n",
       "0                f                        f                     moderate   \n",
       "1                f                        f  strict_14_with_grace_period   \n",
       "2                t                        f  strict_14_with_grace_period   \n",
       "3                t                        f  strict_14_with_grace_period   \n",
       "4                t                        f                     moderate   \n",
       "\n",
       "  require_guest_profile_picture require_guest_phone_verification  \\\n",
       "0                             f                                f   \n",
       "1                             f                                f   \n",
       "2                             f                                f   \n",
       "3                             f                                f   \n",
       "4                             f                                f   \n",
       "\n",
       "   calculated_host_listings_count  \\\n",
       "0                               2   \n",
       "1                               1   \n",
       "2                               4   \n",
       "3                               4   \n",
       "4                               4   \n",
       "\n",
       "   calculated_host_listings_count_entire_homes  \\\n",
       "0                                            1   \n",
       "1                                            0   \n",
       "2                                            4   \n",
       "3                                            4   \n",
       "4                                            4   \n",
       "\n",
       "  calculated_host_listings_count_private_rooms  \\\n",
       "0                                            1   \n",
       "1                                            1   \n",
       "2                                            0   \n",
       "3                                            0   \n",
       "4                                            0   \n",
       "\n",
       "   calculated_host_listings_count_shared_rooms  reviews_per_month  \n",
       "0                                            0               0.28  \n",
       "1                                            0                NaN  \n",
       "2                                            0               0.28  \n",
       "3                                            0               0.38  \n",
       "4                                            0               0.31  \n",
       "\n",
       "[5 rows x 106 columns]"
      ]
     },
     "execution_count": 2,
     "metadata": {},
     "output_type": "execute_result"
    }
   ],
   "source": [
    "listings_Bx_df = pd.read_csv('../Data/listings_Bx.csv', parse_dates=['last_scraped'], dtype={'zipcode': str, 'weekly_price': str, 'monthly_price': str})    # Cf. explanation for dtype below\n",
    "print(\"There are {} Listings in Bordeaux, the {} Features are:\\n\\n{}\\n\".format(\n",
    "    listings_Bx_df.shape[0], listings_Bx_df.shape[1], listings_Bx_df.columns.tolist()))    # columns.tolist() avoids truncating the list\n",
    "listings_Bx_df.head()"
   ]
  },
  {
   "cell_type": "markdown",
   "metadata": {},
   "source": [
    "pd.**read_csv** was passed the argument **dtype={'zipcode': str, 'weekly_price': str, 'monthly_price': str}** above, because it was originally complaining about columns 43, 61, and 62, so I make sure they're loaded as Strings:"
   ]
  },
  {
   "cell_type": "code",
   "execution_count": 3,
   "metadata": {},
   "outputs": [
    {
     "data": {
      "text/html": [
       "<div>\n",
       "<style scoped>\n",
       "    .dataframe tbody tr th:only-of-type {\n",
       "        vertical-align: middle;\n",
       "    }\n",
       "\n",
       "    .dataframe tbody tr th {\n",
       "        vertical-align: top;\n",
       "    }\n",
       "\n",
       "    .dataframe thead th {\n",
       "        text-align: right;\n",
       "    }\n",
       "</style>\n",
       "<table border=\"1\" class=\"dataframe\">\n",
       "  <thead>\n",
       "    <tr style=\"text-align: right;\">\n",
       "      <th></th>\n",
       "      <th>zipcode</th>\n",
       "      <th>weekly_price</th>\n",
       "      <th>monthly_price</th>\n",
       "    </tr>\n",
       "  </thead>\n",
       "  <tbody>\n",
       "    <tr>\n",
       "      <th>0</th>\n",
       "      <td>33300</td>\n",
       "      <td>$350.00</td>\n",
       "      <td>$1,250.00</td>\n",
       "    </tr>\n",
       "    <tr>\n",
       "      <th>1</th>\n",
       "      <td>33000</td>\n",
       "      <td>NaN</td>\n",
       "      <td>NaN</td>\n",
       "    </tr>\n",
       "    <tr>\n",
       "      <th>2</th>\n",
       "      <td>33130</td>\n",
       "      <td>$630.00</td>\n",
       "      <td>NaN</td>\n",
       "    </tr>\n",
       "    <tr>\n",
       "      <th>3</th>\n",
       "      <td>33000</td>\n",
       "      <td>NaN</td>\n",
       "      <td>NaN</td>\n",
       "    </tr>\n",
       "    <tr>\n",
       "      <th>4</th>\n",
       "      <td>33000</td>\n",
       "      <td>NaN</td>\n",
       "      <td>NaN</td>\n",
       "    </tr>\n",
       "    <tr>\n",
       "      <th>5</th>\n",
       "      <td>33000</td>\n",
       "      <td>NaN</td>\n",
       "      <td>NaN</td>\n",
       "    </tr>\n",
       "    <tr>\n",
       "      <th>6</th>\n",
       "      <td>33000</td>\n",
       "      <td>$500.00</td>\n",
       "      <td>$1,400.00</td>\n",
       "    </tr>\n",
       "    <tr>\n",
       "      <th>7</th>\n",
       "      <td>33130</td>\n",
       "      <td>NaN</td>\n",
       "      <td>NaN</td>\n",
       "    </tr>\n",
       "    <tr>\n",
       "      <th>8</th>\n",
       "      <td>33000</td>\n",
       "      <td>NaN</td>\n",
       "      <td>NaN</td>\n",
       "    </tr>\n",
       "    <tr>\n",
       "      <th>9</th>\n",
       "      <td>33130</td>\n",
       "      <td>$490.00</td>\n",
       "      <td>NaN</td>\n",
       "    </tr>\n",
       "  </tbody>\n",
       "</table>\n",
       "</div>"
      ],
      "text/plain": [
       "  zipcode weekly_price monthly_price\n",
       "0   33300      $350.00     $1,250.00\n",
       "1   33000          NaN           NaN\n",
       "2   33130      $630.00           NaN\n",
       "3   33000          NaN           NaN\n",
       "4   33000          NaN           NaN\n",
       "5   33000          NaN           NaN\n",
       "6   33000      $500.00     $1,400.00\n",
       "7   33130          NaN           NaN\n",
       "8   33000          NaN           NaN\n",
       "9   33130      $490.00           NaN"
      ]
     },
     "execution_count": 3,
     "metadata": {},
     "output_type": "execute_result"
    }
   ],
   "source": [
    "listings_Bx_df.iloc[0:10, [43, 61, 62]]"
   ]
  },
  {
   "cell_type": "markdown",
   "metadata": {},
   "source": [
    "### Calendar (Bordeaux) ###"
   ]
  },
  {
   "cell_type": "code",
   "execution_count": 4,
   "metadata": {},
   "outputs": [
    {
     "name": "stdout",
     "output_type": "stream",
     "text": [
      "\n",
      "There are 3992735 Calendar entries in Bordeaux, the 7 Features are:\n",
      "\n",
      "['listing_id', 'date', 'available', 'price', 'adjusted_price', 'minimum_nights', 'maximum_nights']\n",
      "\n",
      "\n",
      "The 365 individual Dates span from 27 Aug 2019 to 25 Aug 2020\n",
      "\n"
     ]
    },
    {
     "data": {
      "text/html": [
       "<div>\n",
       "<style scoped>\n",
       "    .dataframe tbody tr th:only-of-type {\n",
       "        vertical-align: middle;\n",
       "    }\n",
       "\n",
       "    .dataframe tbody tr th {\n",
       "        vertical-align: top;\n",
       "    }\n",
       "\n",
       "    .dataframe thead th {\n",
       "        text-align: right;\n",
       "    }\n",
       "</style>\n",
       "<table border=\"1\" class=\"dataframe\">\n",
       "  <thead>\n",
       "    <tr style=\"text-align: right;\">\n",
       "      <th></th>\n",
       "      <th>listing_id</th>\n",
       "      <th>date</th>\n",
       "      <th>available</th>\n",
       "      <th>price</th>\n",
       "      <th>adjusted_price</th>\n",
       "      <th>minimum_nights</th>\n",
       "      <th>maximum_nights</th>\n",
       "    </tr>\n",
       "  </thead>\n",
       "  <tbody>\n",
       "    <tr>\n",
       "      <th>0</th>\n",
       "      <td>1190768</td>\n",
       "      <td>2019-08-27</td>\n",
       "      <td>f</td>\n",
       "      <td>$80.00</td>\n",
       "      <td>$80.00</td>\n",
       "      <td>5</td>\n",
       "      <td>355</td>\n",
       "    </tr>\n",
       "    <tr>\n",
       "      <th>1</th>\n",
       "      <td>1190768</td>\n",
       "      <td>2019-08-28</td>\n",
       "      <td>f</td>\n",
       "      <td>$80.00</td>\n",
       "      <td>$80.00</td>\n",
       "      <td>5</td>\n",
       "      <td>355</td>\n",
       "    </tr>\n",
       "    <tr>\n",
       "      <th>2</th>\n",
       "      <td>1190768</td>\n",
       "      <td>2019-08-29</td>\n",
       "      <td>f</td>\n",
       "      <td>$80.00</td>\n",
       "      <td>$80.00</td>\n",
       "      <td>5</td>\n",
       "      <td>355</td>\n",
       "    </tr>\n",
       "    <tr>\n",
       "      <th>3</th>\n",
       "      <td>1190768</td>\n",
       "      <td>2019-08-30</td>\n",
       "      <td>f</td>\n",
       "      <td>$90.00</td>\n",
       "      <td>$90.00</td>\n",
       "      <td>5</td>\n",
       "      <td>355</td>\n",
       "    </tr>\n",
       "    <tr>\n",
       "      <th>4</th>\n",
       "      <td>1190768</td>\n",
       "      <td>2019-08-31</td>\n",
       "      <td>f</td>\n",
       "      <td>$90.00</td>\n",
       "      <td>$90.00</td>\n",
       "      <td>5</td>\n",
       "      <td>355</td>\n",
       "    </tr>\n",
       "  </tbody>\n",
       "</table>\n",
       "</div>"
      ],
      "text/plain": [
       "   listing_id       date available   price adjusted_price  minimum_nights  \\\n",
       "0     1190768 2019-08-27         f  $80.00         $80.00               5   \n",
       "1     1190768 2019-08-28         f  $80.00         $80.00               5   \n",
       "2     1190768 2019-08-29         f  $80.00         $80.00               5   \n",
       "3     1190768 2019-08-30         f  $90.00         $90.00               5   \n",
       "4     1190768 2019-08-31         f  $90.00         $90.00               5   \n",
       "\n",
       "   maximum_nights  \n",
       "0             355  \n",
       "1             355  \n",
       "2             355  \n",
       "3             355  \n",
       "4             355  "
      ]
     },
     "execution_count": 4,
     "metadata": {},
     "output_type": "execute_result"
    }
   ],
   "source": [
    "calendar_Bx_df = pd.read_csv('../Data/calendar_Bx.csv', parse_dates=['date'])\n",
    "print(\"\\nThere are {} Calendar entries in Bordeaux, the {} Features are:\\n\\n{}\\n\".format(\n",
    "    calendar_Bx_df.shape[0], calendar_Bx_df.shape[1], calendar_Bx_df.columns.tolist()))    # columns.tolist() avoids truncating the list\n",
    "print(\"\\nThe {} individual Dates span from {} to {}\\n\".format(\n",
    "    calendar_Bx_df['date'].nunique(),\n",
    "    calendar_Bx_df['date'].min().strftime('%d %b %Y'),\n",
    "    calendar_Bx_df['date'].max().strftime('%d %b %Y')))\n",
    "calendar_Bx_df.head()"
   ]
  },
  {
   "cell_type": "markdown",
   "metadata": {},
   "source": [
    "### Reviews (Bordeaux) ###"
   ]
  },
  {
   "cell_type": "code",
   "execution_count": 5,
   "metadata": {},
   "outputs": [
    {
     "name": "stdout",
     "output_type": "stream",
     "text": [
      "\n",
      "There are 216305 Reviews in Bordeaux, the 6 Features are:\n",
      "\n",
      "['listing_id', 'id', 'date', 'reviewer_id', 'reviewer_name', 'comments']\n",
      "\n"
     ]
    },
    {
     "data": {
      "text/html": [
       "<div>\n",
       "<style scoped>\n",
       "    .dataframe tbody tr th:only-of-type {\n",
       "        vertical-align: middle;\n",
       "    }\n",
       "\n",
       "    .dataframe tbody tr th {\n",
       "        vertical-align: top;\n",
       "    }\n",
       "\n",
       "    .dataframe thead th {\n",
       "        text-align: right;\n",
       "    }\n",
       "</style>\n",
       "<table border=\"1\" class=\"dataframe\">\n",
       "  <thead>\n",
       "    <tr style=\"text-align: right;\">\n",
       "      <th></th>\n",
       "      <th>listing_id</th>\n",
       "      <th>id</th>\n",
       "      <th>date</th>\n",
       "      <th>reviewer_id</th>\n",
       "      <th>reviewer_name</th>\n",
       "      <th>comments</th>\n",
       "    </tr>\n",
       "  </thead>\n",
       "  <tbody>\n",
       "    <tr>\n",
       "      <th>0</th>\n",
       "      <td>40151</td>\n",
       "      <td>99743</td>\n",
       "      <td>2010-09-18</td>\n",
       "      <td>175507</td>\n",
       "      <td>Elizabeth</td>\n",
       "      <td>Cédric is a great guy! Very hospitable, helpfu...</td>\n",
       "    </tr>\n",
       "    <tr>\n",
       "      <th>1</th>\n",
       "      <td>40151</td>\n",
       "      <td>190588</td>\n",
       "      <td>2011-03-01</td>\n",
       "      <td>135370</td>\n",
       "      <td>Tia</td>\n",
       "      <td>This is a beautiful and spacious apartment wit...</td>\n",
       "    </tr>\n",
       "    <tr>\n",
       "      <th>2</th>\n",
       "      <td>40151</td>\n",
       "      <td>199158</td>\n",
       "      <td>2011-03-14</td>\n",
       "      <td>414855</td>\n",
       "      <td>Natalie</td>\n",
       "      <td>Cedric was a wonderful host and his apartment ...</td>\n",
       "    </tr>\n",
       "    <tr>\n",
       "      <th>3</th>\n",
       "      <td>40151</td>\n",
       "      <td>307773</td>\n",
       "      <td>2011-06-11</td>\n",
       "      <td>359935</td>\n",
       "      <td>Jim</td>\n",
       "      <td>Cedric's home is clean and modern and well app...</td>\n",
       "    </tr>\n",
       "    <tr>\n",
       "      <th>4</th>\n",
       "      <td>40151</td>\n",
       "      <td>328283</td>\n",
       "      <td>2011-06-22</td>\n",
       "      <td>91394</td>\n",
       "      <td>B Harrison</td>\n",
       "      <td>Cedric was fabulous and really went out of his...</td>\n",
       "    </tr>\n",
       "  </tbody>\n",
       "</table>\n",
       "</div>"
      ],
      "text/plain": [
       "   listing_id      id       date  reviewer_id reviewer_name  \\\n",
       "0       40151   99743 2010-09-18       175507     Elizabeth   \n",
       "1       40151  190588 2011-03-01       135370           Tia   \n",
       "2       40151  199158 2011-03-14       414855       Natalie   \n",
       "3       40151  307773 2011-06-11       359935           Jim   \n",
       "4       40151  328283 2011-06-22        91394    B Harrison   \n",
       "\n",
       "                                            comments  \n",
       "0  Cédric is a great guy! Very hospitable, helpfu...  \n",
       "1  This is a beautiful and spacious apartment wit...  \n",
       "2  Cedric was a wonderful host and his apartment ...  \n",
       "3  Cedric's home is clean and modern and well app...  \n",
       "4  Cedric was fabulous and really went out of his...  "
      ]
     },
     "execution_count": 5,
     "metadata": {},
     "output_type": "execute_result"
    }
   ],
   "source": [
    "reviews_Bx_df = pd.read_csv('../Data/reviews_Bx.csv', parse_dates=['date'])\n",
    "print(\"\\nThere are {} Reviews in Bordeaux, the {} Features are:\\n\\n{}\\n\".format(\n",
    "    reviews_Bx_df.shape[0], reviews_Bx_df.shape[1], reviews_Bx_df.columns.tolist()))    # columns.tolist() avoids truncating the list\n",
    "reviews_Bx_df.head()"
   ]
  },
  {
   "cell_type": "code",
   "execution_count": 6,
   "metadata": {},
   "outputs": [
    {
     "name": "stdout",
     "output_type": "stream",
     "text": [
      "\n",
      "There are 10939 Listing_Bx_2 entries, the 16 Features are:\n",
      "\n",
      "['id', 'name', 'host_id', 'host_name', 'neighbourhood_group', 'neighbourhood', 'latitude', 'longitude', 'room_type', 'price', 'minimum_nights', 'number_of_reviews', 'last_review', 'reviews_per_month', 'calculated_host_listings_count', 'availability_365']\n",
      "\n"
     ]
    },
    {
     "data": {
      "text/html": [
       "<div>\n",
       "<style scoped>\n",
       "    .dataframe tbody tr th:only-of-type {\n",
       "        vertical-align: middle;\n",
       "    }\n",
       "\n",
       "    .dataframe tbody tr th {\n",
       "        vertical-align: top;\n",
       "    }\n",
       "\n",
       "    .dataframe thead th {\n",
       "        text-align: right;\n",
       "    }\n",
       "</style>\n",
       "<table border=\"1\" class=\"dataframe\">\n",
       "  <thead>\n",
       "    <tr style=\"text-align: right;\">\n",
       "      <th></th>\n",
       "      <th>id</th>\n",
       "      <th>name</th>\n",
       "      <th>host_id</th>\n",
       "      <th>host_name</th>\n",
       "      <th>neighbourhood_group</th>\n",
       "      <th>neighbourhood</th>\n",
       "      <th>latitude</th>\n",
       "      <th>longitude</th>\n",
       "      <th>room_type</th>\n",
       "      <th>price</th>\n",
       "      <th>minimum_nights</th>\n",
       "      <th>number_of_reviews</th>\n",
       "      <th>last_review</th>\n",
       "      <th>reviews_per_month</th>\n",
       "      <th>calculated_host_listings_count</th>\n",
       "      <th>availability_365</th>\n",
       "    </tr>\n",
       "  </thead>\n",
       "  <tbody>\n",
       "    <tr>\n",
       "      <th>0</th>\n",
       "      <td>40151</td>\n",
       "      <td>Sunny flat aux Chartrons</td>\n",
       "      <td>165163</td>\n",
       "      <td>Cédric</td>\n",
       "      <td>Bordeaux</td>\n",
       "      <td>Chartrons - Grand Parc - Jardin Public</td>\n",
       "      <td>44.85653</td>\n",
       "      <td>-0.57460</td>\n",
       "      <td>Entire home/apt</td>\n",
       "      <td>71</td>\n",
       "      <td>3</td>\n",
       "      <td>30</td>\n",
       "      <td>2016-07-29</td>\n",
       "      <td>0.28</td>\n",
       "      <td>2</td>\n",
       "      <td>297</td>\n",
       "    </tr>\n",
       "    <tr>\n",
       "      <th>1</th>\n",
       "      <td>185534</td>\n",
       "      <td>L'Echoppe des Bouilles</td>\n",
       "      <td>890736</td>\n",
       "      <td>Carlos</td>\n",
       "      <td>Bordeaux</td>\n",
       "      <td>Saint Augustin - Tauzin - Alphonse Dupeux</td>\n",
       "      <td>44.83063</td>\n",
       "      <td>-0.59331</td>\n",
       "      <td>Private room</td>\n",
       "      <td>75</td>\n",
       "      <td>1</td>\n",
       "      <td>0</td>\n",
       "      <td>NaN</td>\n",
       "      <td>NaN</td>\n",
       "      <td>1</td>\n",
       "      <td>365</td>\n",
       "    </tr>\n",
       "    <tr>\n",
       "      <th>2</th>\n",
       "      <td>218103</td>\n",
       "      <td>B&amp;B (Website hidden by Airbnb) tropical garden</td>\n",
       "      <td>1127981</td>\n",
       "      <td>Luis</td>\n",
       "      <td>Bgles</td>\n",
       "      <td>Bgles</td>\n",
       "      <td>44.81418</td>\n",
       "      <td>-0.54842</td>\n",
       "      <td>Entire home/apt</td>\n",
       "      <td>100</td>\n",
       "      <td>2</td>\n",
       "      <td>27</td>\n",
       "      <td>2019-07-28</td>\n",
       "      <td>0.28</td>\n",
       "      <td>4</td>\n",
       "      <td>219</td>\n",
       "    </tr>\n",
       "    <tr>\n",
       "      <th>3</th>\n",
       "      <td>222887</td>\n",
       "      <td>Bordeaux Terrace - spectacular view, fast Wifi</td>\n",
       "      <td>1156398</td>\n",
       "      <td>Suzanna</td>\n",
       "      <td>Bordeaux</td>\n",
       "      <td>Bordeaux Sud</td>\n",
       "      <td>44.83635</td>\n",
       "      <td>-0.56590</td>\n",
       "      <td>Entire home/apt</td>\n",
       "      <td>175</td>\n",
       "      <td>3</td>\n",
       "      <td>35</td>\n",
       "      <td>2019-05-27</td>\n",
       "      <td>0.38</td>\n",
       "      <td>4</td>\n",
       "      <td>319</td>\n",
       "    </tr>\n",
       "    <tr>\n",
       "      <th>4</th>\n",
       "      <td>317273</td>\n",
       "      <td>Bordeaux City Gardens - large 1 bd, park adjacent</td>\n",
       "      <td>1156398</td>\n",
       "      <td>Suzanna</td>\n",
       "      <td>Bordeaux</td>\n",
       "      <td>Chartrons - Grand Parc - Jardin Public</td>\n",
       "      <td>44.84734</td>\n",
       "      <td>-0.58034</td>\n",
       "      <td>Entire home/apt</td>\n",
       "      <td>155</td>\n",
       "      <td>3</td>\n",
       "      <td>19</td>\n",
       "      <td>2019-08-05</td>\n",
       "      <td>0.31</td>\n",
       "      <td>4</td>\n",
       "      <td>315</td>\n",
       "    </tr>\n",
       "  </tbody>\n",
       "</table>\n",
       "</div>"
      ],
      "text/plain": [
       "       id                                               name  host_id  \\\n",
       "0   40151                           Sunny flat aux Chartrons   165163   \n",
       "1  185534                             L'Echoppe des Bouilles   890736   \n",
       "2  218103     B&B (Website hidden by Airbnb) tropical garden  1127981   \n",
       "3  222887     Bordeaux Terrace - spectacular view, fast Wifi  1156398   \n",
       "4  317273  Bordeaux City Gardens - large 1 bd, park adjacent  1156398   \n",
       "\n",
       "  host_name neighbourhood_group                              neighbourhood  \\\n",
       "0    Cédric            Bordeaux     Chartrons - Grand Parc - Jardin Public   \n",
       "1    Carlos            Bordeaux  Saint Augustin - Tauzin - Alphonse Dupeux   \n",
       "2      Luis               Bgles                                      Bgles   \n",
       "3   Suzanna            Bordeaux                               Bordeaux Sud   \n",
       "4   Suzanna            Bordeaux     Chartrons - Grand Parc - Jardin Public   \n",
       "\n",
       "   latitude  longitude        room_type  price  minimum_nights  \\\n",
       "0  44.85653   -0.57460  Entire home/apt     71               3   \n",
       "1  44.83063   -0.59331     Private room     75               1   \n",
       "2  44.81418   -0.54842  Entire home/apt    100               2   \n",
       "3  44.83635   -0.56590  Entire home/apt    175               3   \n",
       "4  44.84734   -0.58034  Entire home/apt    155               3   \n",
       "\n",
       "   number_of_reviews last_review  reviews_per_month  \\\n",
       "0                 30  2016-07-29               0.28   \n",
       "1                  0         NaN                NaN   \n",
       "2                 27  2019-07-28               0.28   \n",
       "3                 35  2019-05-27               0.38   \n",
       "4                 19  2019-08-05               0.31   \n",
       "\n",
       "   calculated_host_listings_count  availability_365  \n",
       "0                               2               297  \n",
       "1                               1               365  \n",
       "2                               4               219  \n",
       "3                               4               319  \n",
       "4                               4               315  "
      ]
     },
     "execution_count": 6,
     "metadata": {},
     "output_type": "execute_result"
    }
   ],
   "source": [
    "listings_Bx_2_df = pd.read_csv('../Data/listings_Bx_2.csv')\n",
    "print(\"\\nThere are {} Listing_Bx_2 entries, the {} Features are:\\n\\n{}\\n\".format(\n",
    "    listings_Bx_2_df.shape[0], listings_Bx_2_df.shape[1], listings_Bx_2_df.columns.tolist()))    # columns.tolist() avoids truncating the list\n",
    "listings_Bx_2_df.head()"
   ]
  },
  {
   "cell_type": "code",
   "execution_count": 7,
   "metadata": {},
   "outputs": [
    {
     "name": "stdout",
     "output_type": "stream",
     "text": [
      "\n",
      "There are 216305 Reviews_Bx_2 entries, the 2 Features are:\n",
      "\n",
      "['listing_id', 'date']\n",
      "\n"
     ]
    },
    {
     "data": {
      "text/html": [
       "<div>\n",
       "<style scoped>\n",
       "    .dataframe tbody tr th:only-of-type {\n",
       "        vertical-align: middle;\n",
       "    }\n",
       "\n",
       "    .dataframe tbody tr th {\n",
       "        vertical-align: top;\n",
       "    }\n",
       "\n",
       "    .dataframe thead th {\n",
       "        text-align: right;\n",
       "    }\n",
       "</style>\n",
       "<table border=\"1\" class=\"dataframe\">\n",
       "  <thead>\n",
       "    <tr style=\"text-align: right;\">\n",
       "      <th></th>\n",
       "      <th>listing_id</th>\n",
       "      <th>date</th>\n",
       "    </tr>\n",
       "  </thead>\n",
       "  <tbody>\n",
       "    <tr>\n",
       "      <th>0</th>\n",
       "      <td>40151</td>\n",
       "      <td>2010-09-18</td>\n",
       "    </tr>\n",
       "    <tr>\n",
       "      <th>1</th>\n",
       "      <td>40151</td>\n",
       "      <td>2011-03-01</td>\n",
       "    </tr>\n",
       "    <tr>\n",
       "      <th>2</th>\n",
       "      <td>40151</td>\n",
       "      <td>2011-03-14</td>\n",
       "    </tr>\n",
       "    <tr>\n",
       "      <th>3</th>\n",
       "      <td>40151</td>\n",
       "      <td>2011-06-11</td>\n",
       "    </tr>\n",
       "    <tr>\n",
       "      <th>4</th>\n",
       "      <td>40151</td>\n",
       "      <td>2011-06-22</td>\n",
       "    </tr>\n",
       "  </tbody>\n",
       "</table>\n",
       "</div>"
      ],
      "text/plain": [
       "   listing_id        date\n",
       "0       40151  2010-09-18\n",
       "1       40151  2011-03-01\n",
       "2       40151  2011-03-14\n",
       "3       40151  2011-06-11\n",
       "4       40151  2011-06-22"
      ]
     },
     "execution_count": 7,
     "metadata": {},
     "output_type": "execute_result"
    }
   ],
   "source": [
    "reviews_Bx_2_df = pd.read_csv('../Data/reviews_Bx_2.csv')\n",
    "print(\"\\nThere are {} Reviews_Bx_2 entries, the {} Features are:\\n\\n{}\\n\".format(\n",
    "    reviews_Bx_2_df.shape[0], reviews_Bx_2_df.shape[1], reviews_Bx_2_df.columns.tolist()))    # columns.tolist() avoids truncating the list\n",
    "reviews_Bx_2_df.head()"
   ]
  },
  {
   "cell_type": "markdown",
   "metadata": {},
   "source": [
    "### Selecting the Data Sources ###\n",
    " - **reviews_Bx.csv** would be useful if we decided to apply Natural Language Processing (NLP) to the \"comments\" feature, but this would be a little overkill in the context of this assignment.\n",
    " - **listings_Bx_2.csv** displays a relevant subset of the features in **listings.csv*** features, but not enough, so I won't use it.\n",
    " - **reviews_Bx_2.csv** seems totally useless...\n",
    " \n",
    " I'll focus on the Listings and Calendar data.\n",
    " \n",
    "## Load Lyon and Paris Data ##"
   ]
  },
  {
   "cell_type": "code",
   "execution_count": 8,
   "metadata": {
    "scrolled": true
   },
   "outputs": [
    {
     "name": "stdout",
     "output_type": "stream",
     "text": [
      "\n",
      "There are 11755 Listings in Lyon with 106 Features\n",
      "\n"
     ]
    },
    {
     "data": {
      "text/html": [
       "<div>\n",
       "<style scoped>\n",
       "    .dataframe tbody tr th:only-of-type {\n",
       "        vertical-align: middle;\n",
       "    }\n",
       "\n",
       "    .dataframe tbody tr th {\n",
       "        vertical-align: top;\n",
       "    }\n",
       "\n",
       "    .dataframe thead th {\n",
       "        text-align: right;\n",
       "    }\n",
       "</style>\n",
       "<table border=\"1\" class=\"dataframe\">\n",
       "  <thead>\n",
       "    <tr style=\"text-align: right;\">\n",
       "      <th></th>\n",
       "      <th>id</th>\n",
       "      <th>listing_url</th>\n",
       "      <th>scrape_id</th>\n",
       "      <th>last_scraped</th>\n",
       "      <th>name</th>\n",
       "      <th>summary</th>\n",
       "      <th>space</th>\n",
       "      <th>description</th>\n",
       "      <th>experiences_offered</th>\n",
       "      <th>neighborhood_overview</th>\n",
       "      <th>...</th>\n",
       "      <th>instant_bookable</th>\n",
       "      <th>is_business_travel_ready</th>\n",
       "      <th>cancellation_policy</th>\n",
       "      <th>require_guest_profile_picture</th>\n",
       "      <th>require_guest_phone_verification</th>\n",
       "      <th>calculated_host_listings_count</th>\n",
       "      <th>calculated_host_listings_count_entire_homes</th>\n",
       "      <th>calculated_host_listings_count_private_rooms</th>\n",
       "      <th>calculated_host_listings_count_shared_rooms</th>\n",
       "      <th>reviews_per_month</th>\n",
       "    </tr>\n",
       "  </thead>\n",
       "  <tbody>\n",
       "    <tr>\n",
       "      <th>0</th>\n",
       "      <td>30187</td>\n",
       "      <td>https://www.airbnb.com/rooms/30187</td>\n",
       "      <td>20190717005527</td>\n",
       "      <td>2019-07-17</td>\n",
       "      <td>Le Petit Tramassac - Old town Lyon</td>\n",
       "      <td>NaN</td>\n",
       "      <td>Le Petit Tramassac welcome you in the heart of...</td>\n",
       "      <td>Le Petit Tramassac welcome you in the heart of...</td>\n",
       "      <td>none</td>\n",
       "      <td>NaN</td>\n",
       "      <td>...</td>\n",
       "      <td>t</td>\n",
       "      <td>f</td>\n",
       "      <td>strict_14_with_grace_period</td>\n",
       "      <td>f</td>\n",
       "      <td>f</td>\n",
       "      <td>7</td>\n",
       "      <td>7</td>\n",
       "      <td>0</td>\n",
       "      <td>0</td>\n",
       "      <td>0.28</td>\n",
       "    </tr>\n",
       "  </tbody>\n",
       "</table>\n",
       "<p>1 rows × 106 columns</p>\n",
       "</div>"
      ],
      "text/plain": [
       "      id                         listing_url       scrape_id last_scraped  \\\n",
       "0  30187  https://www.airbnb.com/rooms/30187  20190717005527   2019-07-17   \n",
       "\n",
       "                                 name summary  \\\n",
       "0  Le Petit Tramassac - Old town Lyon     NaN   \n",
       "\n",
       "                                               space  \\\n",
       "0  Le Petit Tramassac welcome you in the heart of...   \n",
       "\n",
       "                                         description experiences_offered  \\\n",
       "0  Le Petit Tramassac welcome you in the heart of...                none   \n",
       "\n",
       "  neighborhood_overview        ...         instant_bookable  \\\n",
       "0                   NaN        ...                        t   \n",
       "\n",
       "  is_business_travel_ready          cancellation_policy  \\\n",
       "0                        f  strict_14_with_grace_period   \n",
       "\n",
       "  require_guest_profile_picture require_guest_phone_verification  \\\n",
       "0                             f                                f   \n",
       "\n",
       "   calculated_host_listings_count  \\\n",
       "0                               7   \n",
       "\n",
       "   calculated_host_listings_count_entire_homes  \\\n",
       "0                                            7   \n",
       "\n",
       "  calculated_host_listings_count_private_rooms  \\\n",
       "0                                            0   \n",
       "\n",
       "   calculated_host_listings_count_shared_rooms  reviews_per_month  \n",
       "0                                            0               0.28  \n",
       "\n",
       "[1 rows x 106 columns]"
      ]
     },
     "execution_count": 8,
     "metadata": {},
     "output_type": "execute_result"
    }
   ],
   "source": [
    "listings_Ly_df = pd.read_csv('../Data/listings_Ly.csv', parse_dates=['last_scraped'], dtype={'zipcode': str, 'weekly_price': str, 'monthly_price': str})\n",
    "print(\"\\nThere are {} Listings in Lyon with {} Features\\n\".format(\n",
    "    listings_Ly_df.shape[0], listings_Ly_df.shape[1]))    # columns.tolist() avoids truncating the list\n",
    "listings_Ly_df[0:1]"
   ]
  },
  {
   "cell_type": "code",
   "execution_count": 9,
   "metadata": {},
   "outputs": [
    {
     "name": "stdout",
     "output_type": "stream",
     "text": [
      "\n",
      "There are 4290575 Calendar entries in Lyon with the 7 Features\n",
      "\n"
     ]
    },
    {
     "data": {
      "text/html": [
       "<div>\n",
       "<style scoped>\n",
       "    .dataframe tbody tr th:only-of-type {\n",
       "        vertical-align: middle;\n",
       "    }\n",
       "\n",
       "    .dataframe tbody tr th {\n",
       "        vertical-align: top;\n",
       "    }\n",
       "\n",
       "    .dataframe thead th {\n",
       "        text-align: right;\n",
       "    }\n",
       "</style>\n",
       "<table border=\"1\" class=\"dataframe\">\n",
       "  <thead>\n",
       "    <tr style=\"text-align: right;\">\n",
       "      <th></th>\n",
       "      <th>listing_id</th>\n",
       "      <th>date</th>\n",
       "      <th>available</th>\n",
       "      <th>price</th>\n",
       "      <th>adjusted_price</th>\n",
       "      <th>minimum_nights</th>\n",
       "      <th>maximum_nights</th>\n",
       "    </tr>\n",
       "  </thead>\n",
       "  <tbody>\n",
       "    <tr>\n",
       "      <th>0</th>\n",
       "      <td>815342</td>\n",
       "      <td>2019-07-17</td>\n",
       "      <td>t</td>\n",
       "      <td>$55.00</td>\n",
       "      <td>$55.00</td>\n",
       "      <td>2</td>\n",
       "      <td>90</td>\n",
       "    </tr>\n",
       "  </tbody>\n",
       "</table>\n",
       "</div>"
      ],
      "text/plain": [
       "   listing_id       date available   price adjusted_price  minimum_nights  \\\n",
       "0      815342 2019-07-17         t  $55.00         $55.00               2   \n",
       "\n",
       "   maximum_nights  \n",
       "0              90  "
      ]
     },
     "execution_count": 9,
     "metadata": {},
     "output_type": "execute_result"
    }
   ],
   "source": [
    "calendar_Ly_df = pd.read_csv('../Data/calendar_Ly.csv', parse_dates=['date'])\n",
    "print(\"\\nThere are {} Calendar entries in Lyon with the {} Features\\n\".format(\n",
    "    calendar_Ly_df.shape[0], calendar_Ly_df.shape[1], calendar_Ly_df.columns.tolist()))    # columns.tolist() avoids truncating the list\n",
    "calendar_Ly_df[0:1]"
   ]
  },
  {
   "cell_type": "code",
   "execution_count": 10,
   "metadata": {
    "scrolled": true
   },
   "outputs": [
    {
     "name": "stdout",
     "output_type": "stream",
     "text": [
      "\n",
      "There are 64293 Listings in Paris with 106 Features\n",
      "\n"
     ]
    },
    {
     "data": {
      "text/html": [
       "<div>\n",
       "<style scoped>\n",
       "    .dataframe tbody tr th:only-of-type {\n",
       "        vertical-align: middle;\n",
       "    }\n",
       "\n",
       "    .dataframe tbody tr th {\n",
       "        vertical-align: top;\n",
       "    }\n",
       "\n",
       "    .dataframe thead th {\n",
       "        text-align: right;\n",
       "    }\n",
       "</style>\n",
       "<table border=\"1\" class=\"dataframe\">\n",
       "  <thead>\n",
       "    <tr style=\"text-align: right;\">\n",
       "      <th></th>\n",
       "      <th>id</th>\n",
       "      <th>listing_url</th>\n",
       "      <th>scrape_id</th>\n",
       "      <th>last_scraped</th>\n",
       "      <th>name</th>\n",
       "      <th>summary</th>\n",
       "      <th>space</th>\n",
       "      <th>description</th>\n",
       "      <th>experiences_offered</th>\n",
       "      <th>neighborhood_overview</th>\n",
       "      <th>...</th>\n",
       "      <th>instant_bookable</th>\n",
       "      <th>is_business_travel_ready</th>\n",
       "      <th>cancellation_policy</th>\n",
       "      <th>require_guest_profile_picture</th>\n",
       "      <th>require_guest_phone_verification</th>\n",
       "      <th>calculated_host_listings_count</th>\n",
       "      <th>calculated_host_listings_count_entire_homes</th>\n",
       "      <th>calculated_host_listings_count_private_rooms</th>\n",
       "      <th>calculated_host_listings_count_shared_rooms</th>\n",
       "      <th>reviews_per_month</th>\n",
       "    </tr>\n",
       "  </thead>\n",
       "  <tbody>\n",
       "    <tr>\n",
       "      <th>0</th>\n",
       "      <td>3109</td>\n",
       "      <td>https://www.airbnb.com/rooms/3109</td>\n",
       "      <td>20190709213457</td>\n",
       "      <td>2019-07-10</td>\n",
       "      <td>zen and calm</td>\n",
       "      <td>Appartement très calme de 50M2 Utilisation de ...</td>\n",
       "      <td>I bedroom appartment in Paris 14</td>\n",
       "      <td>I bedroom appartment in Paris 14 Good restaura...</td>\n",
       "      <td>none</td>\n",
       "      <td>Good restaurants very close the Montparnasse S...</td>\n",
       "      <td>...</td>\n",
       "      <td>f</td>\n",
       "      <td>f</td>\n",
       "      <td>flexible</td>\n",
       "      <td>f</td>\n",
       "      <td>f</td>\n",
       "      <td>1</td>\n",
       "      <td>1</td>\n",
       "      <td>0</td>\n",
       "      <td>0</td>\n",
       "      <td>0.26</td>\n",
       "    </tr>\n",
       "  </tbody>\n",
       "</table>\n",
       "<p>1 rows × 106 columns</p>\n",
       "</div>"
      ],
      "text/plain": [
       "     id                        listing_url       scrape_id last_scraped  \\\n",
       "0  3109  https://www.airbnb.com/rooms/3109  20190709213457   2019-07-10   \n",
       "\n",
       "           name                                            summary  \\\n",
       "0  zen and calm  Appartement très calme de 50M2 Utilisation de ...   \n",
       "\n",
       "                              space  \\\n",
       "0  I bedroom appartment in Paris 14   \n",
       "\n",
       "                                         description experiences_offered  \\\n",
       "0  I bedroom appartment in Paris 14 Good restaura...                none   \n",
       "\n",
       "                               neighborhood_overview        ...          \\\n",
       "0  Good restaurants very close the Montparnasse S...        ...           \n",
       "\n",
       "  instant_bookable is_business_travel_ready cancellation_policy  \\\n",
       "0                f                        f            flexible   \n",
       "\n",
       "  require_guest_profile_picture require_guest_phone_verification  \\\n",
       "0                             f                                f   \n",
       "\n",
       "   calculated_host_listings_count  \\\n",
       "0                               1   \n",
       "\n",
       "   calculated_host_listings_count_entire_homes  \\\n",
       "0                                            1   \n",
       "\n",
       "  calculated_host_listings_count_private_rooms  \\\n",
       "0                                            0   \n",
       "\n",
       "   calculated_host_listings_count_shared_rooms  reviews_per_month  \n",
       "0                                            0               0.26  \n",
       "\n",
       "[1 rows x 106 columns]"
      ]
     },
     "execution_count": 10,
     "metadata": {},
     "output_type": "execute_result"
    }
   ],
   "source": [
    "listings_Pa_df = pd.read_csv('../Data/listings_Pa.csv', parse_dates=['last_scraped'], dtype={'zipcode': str, 'weekly_price': str, 'monthly_price': str})\n",
    "print(\"\\nThere are {} Listings in Paris with {} Features\\n\".format(\n",
    "    listings_Pa_df.shape[0], listings_Pa_df.shape[1]))    # columns.tolist() avoids truncating the list\n",
    "listings_Pa_df[0:1]"
   ]
  },
  {
   "cell_type": "code",
   "execution_count": 11,
   "metadata": {},
   "outputs": [
    {
     "name": "stdout",
     "output_type": "stream",
     "text": [
      "\n",
      "There are 23467355 Calendar entries in Paris with the 7 Features\n",
      "\n"
     ]
    },
    {
     "data": {
      "text/html": [
       "<div>\n",
       "<style scoped>\n",
       "    .dataframe tbody tr th:only-of-type {\n",
       "        vertical-align: middle;\n",
       "    }\n",
       "\n",
       "    .dataframe tbody tr th {\n",
       "        vertical-align: top;\n",
       "    }\n",
       "\n",
       "    .dataframe thead th {\n",
       "        text-align: right;\n",
       "    }\n",
       "</style>\n",
       "<table border=\"1\" class=\"dataframe\">\n",
       "  <thead>\n",
       "    <tr style=\"text-align: right;\">\n",
       "      <th></th>\n",
       "      <th>listing_id</th>\n",
       "      <th>date</th>\n",
       "      <th>available</th>\n",
       "      <th>price</th>\n",
       "      <th>adjusted_price</th>\n",
       "      <th>minimum_nights</th>\n",
       "      <th>maximum_nights</th>\n",
       "    </tr>\n",
       "  </thead>\n",
       "  <tbody>\n",
       "    <tr>\n",
       "      <th>0</th>\n",
       "      <td>3109</td>\n",
       "      <td>2019-07-10</td>\n",
       "      <td>f</td>\n",
       "      <td>$75.00</td>\n",
       "      <td>$75.00</td>\n",
       "      <td>3.0</td>\n",
       "      <td>15.0</td>\n",
       "    </tr>\n",
       "  </tbody>\n",
       "</table>\n",
       "</div>"
      ],
      "text/plain": [
       "   listing_id       date available   price adjusted_price  minimum_nights  \\\n",
       "0        3109 2019-07-10         f  $75.00         $75.00             3.0   \n",
       "\n",
       "   maximum_nights  \n",
       "0            15.0  "
      ]
     },
     "execution_count": 11,
     "metadata": {},
     "output_type": "execute_result"
    }
   ],
   "source": [
    "calendar_Pa_df = pd.read_csv('../Data/calendar_Pa.csv', parse_dates=['date'])\n",
    "print(\"\\nThere are {} Calendar entries in Paris with the {} Features\\n\".format(\n",
    "    calendar_Pa_df.shape[0], calendar_Pa_df.shape[1], calendar_Pa_df.columns.tolist()))    # columns.tolist() avoids truncating the list\n",
    "calendar_Pa_df[0:1]"
   ]
  },
  {
   "cell_type": "markdown",
   "metadata": {},
   "source": [
    "## Compare Availability and Price throughout the year for all 3 Cities ##\n",
    "\n",
    "### Clean up the Calendar Data ###\n",
    "\n",
    "Remove any datapoints with wissing Price or Availability information."
   ]
  },
  {
   "cell_type": "code",
   "execution_count": 12,
   "metadata": {},
   "outputs": [
    {
     "name": "stdout",
     "output_type": "stream",
     "text": [
      "\n",
      "Price Data readiness in\n",
      "- Bordeaux: 100.0\n",
      "- Lyon: 100.0\n",
      "- Paris: 99.99922019332813\n",
      "\n",
      "\n",
      "Availability Data readiness in\n",
      "- Bordeaux: 100.0\n",
      "- Lyon: 100.0\n",
      "- Paris: 100.0\n",
      "\n"
     ]
    }
   ],
   "source": [
    "print(\"\\nPrice Data readiness in\\n- Bordeaux: {}\\n- Lyon: {}\\n- Paris: {}\\n\".format(\n",
    "    (1 - calendar_Bx_df.isnull()['price'].mean()) * 100,\n",
    "    (1 - calendar_Ly_df.isnull()['price'].mean()) * 100,\n",
    "    (1 - calendar_Pa_df.isnull()['price'].mean()) * 100))\n",
    "\n",
    "print(\"\\nAvailability Data readiness in\\n- Bordeaux: {}\\n- Lyon: {}\\n- Paris: {}\\n\".format(\n",
    "    (1 - calendar_Bx_df.isnull()['available'].mean()) * 100,\n",
    "    (1 - calendar_Ly_df.isnull()['available'].mean()) * 100,\n",
    "    (1 - calendar_Pa_df.isnull()['available'].mean()) * 100))"
   ]
  },
  {
   "cell_type": "markdown",
   "metadata": {},
   "source": [
    "Paris has missing Price data, we need to remove it.\n",
    "We also need to convert the Price Data from Strings ('$ 123.45') to Floats (123.45)"
   ]
  },
  {
   "cell_type": "code",
   "execution_count": 13,
   "metadata": {},
   "outputs": [
    {
     "name": "stdout",
     "output_type": "stream",
     "text": [
      "\n",
      "183 datapoints were removed from the Paris Calendar Data.\n",
      "\n"
     ]
    }
   ],
   "source": [
    "datapoints_before = calendar_Pa_df.shape[0]\n",
    "calendar_Pa_df = calendar_Pa_df.dropna(subset=['price'], axis=0)\n",
    "print(\"\\n{} datapoints were removed from the Paris Calendar Data.\\n\".format(datapoints_before - calendar_Pa_df.shape[0]))"
   ]
  },
  {
   "cell_type": "code",
   "execution_count": 14,
   "metadata": {},
   "outputs": [
    {
     "data": {
      "text/html": [
       "<div>\n",
       "<style scoped>\n",
       "    .dataframe tbody tr th:only-of-type {\n",
       "        vertical-align: middle;\n",
       "    }\n",
       "\n",
       "    .dataframe tbody tr th {\n",
       "        vertical-align: top;\n",
       "    }\n",
       "\n",
       "    .dataframe thead th {\n",
       "        text-align: right;\n",
       "    }\n",
       "</style>\n",
       "<table border=\"1\" class=\"dataframe\">\n",
       "  <thead>\n",
       "    <tr style=\"text-align: right;\">\n",
       "      <th></th>\n",
       "      <th>listing_id</th>\n",
       "      <th>date</th>\n",
       "      <th>available</th>\n",
       "      <th>price</th>\n",
       "      <th>adjusted_price</th>\n",
       "      <th>minimum_nights</th>\n",
       "      <th>maximum_nights</th>\n",
       "    </tr>\n",
       "  </thead>\n",
       "  <tbody>\n",
       "    <tr>\n",
       "      <th>0</th>\n",
       "      <td>1190768</td>\n",
       "      <td>2019-08-27</td>\n",
       "      <td>f</td>\n",
       "      <td>80.0</td>\n",
       "      <td>$80.00</td>\n",
       "      <td>5</td>\n",
       "      <td>355</td>\n",
       "    </tr>\n",
       "    <tr>\n",
       "      <th>1</th>\n",
       "      <td>1190768</td>\n",
       "      <td>2019-08-28</td>\n",
       "      <td>f</td>\n",
       "      <td>80.0</td>\n",
       "      <td>$80.00</td>\n",
       "      <td>5</td>\n",
       "      <td>355</td>\n",
       "    </tr>\n",
       "    <tr>\n",
       "      <th>2</th>\n",
       "      <td>1190768</td>\n",
       "      <td>2019-08-29</td>\n",
       "      <td>f</td>\n",
       "      <td>80.0</td>\n",
       "      <td>$80.00</td>\n",
       "      <td>5</td>\n",
       "      <td>355</td>\n",
       "    </tr>\n",
       "    <tr>\n",
       "      <th>3</th>\n",
       "      <td>1190768</td>\n",
       "      <td>2019-08-30</td>\n",
       "      <td>f</td>\n",
       "      <td>90.0</td>\n",
       "      <td>$90.00</td>\n",
       "      <td>5</td>\n",
       "      <td>355</td>\n",
       "    </tr>\n",
       "    <tr>\n",
       "      <th>4</th>\n",
       "      <td>1190768</td>\n",
       "      <td>2019-08-31</td>\n",
       "      <td>f</td>\n",
       "      <td>90.0</td>\n",
       "      <td>$90.00</td>\n",
       "      <td>5</td>\n",
       "      <td>355</td>\n",
       "    </tr>\n",
       "  </tbody>\n",
       "</table>\n",
       "</div>"
      ],
      "text/plain": [
       "   listing_id       date available  price adjusted_price  minimum_nights  \\\n",
       "0     1190768 2019-08-27         f   80.0         $80.00               5   \n",
       "1     1190768 2019-08-28         f   80.0         $80.00               5   \n",
       "2     1190768 2019-08-29         f   80.0         $80.00               5   \n",
       "3     1190768 2019-08-30         f   90.0         $90.00               5   \n",
       "4     1190768 2019-08-31         f   90.0         $90.00               5   \n",
       "\n",
       "   maximum_nights  \n",
       "0             355  \n",
       "1             355  \n",
       "2             355  \n",
       "3             355  \n",
       "4             355  "
      ]
     },
     "execution_count": 14,
     "metadata": {},
     "output_type": "execute_result"
    }
   ],
   "source": [
    "cal_Bx_clean_prices_df = calendar_Bx_df.copy()\n",
    "cal_Bx_clean_prices_df['price'] = cal_Bx_clean_prices_df['price'].str.replace('[\\$,]', '').astype('float')\n",
    "cal_Bx_clean_prices_df.head()"
   ]
  },
  {
   "cell_type": "code",
   "execution_count": 15,
   "metadata": {},
   "outputs": [
    {
     "data": {
      "text/html": [
       "<div>\n",
       "<style scoped>\n",
       "    .dataframe tbody tr th:only-of-type {\n",
       "        vertical-align: middle;\n",
       "    }\n",
       "\n",
       "    .dataframe tbody tr th {\n",
       "        vertical-align: top;\n",
       "    }\n",
       "\n",
       "    .dataframe thead th {\n",
       "        text-align: right;\n",
       "    }\n",
       "</style>\n",
       "<table border=\"1\" class=\"dataframe\">\n",
       "  <thead>\n",
       "    <tr style=\"text-align: right;\">\n",
       "      <th></th>\n",
       "      <th>listing_id</th>\n",
       "      <th>date</th>\n",
       "      <th>available</th>\n",
       "      <th>price</th>\n",
       "      <th>adjusted_price</th>\n",
       "      <th>minimum_nights</th>\n",
       "      <th>maximum_nights</th>\n",
       "    </tr>\n",
       "  </thead>\n",
       "  <tbody>\n",
       "    <tr>\n",
       "      <th>0</th>\n",
       "      <td>815342</td>\n",
       "      <td>2019-07-17</td>\n",
       "      <td>t</td>\n",
       "      <td>55.0</td>\n",
       "      <td>$55.00</td>\n",
       "      <td>2</td>\n",
       "      <td>90</td>\n",
       "    </tr>\n",
       "    <tr>\n",
       "      <th>1</th>\n",
       "      <td>818799</td>\n",
       "      <td>2019-07-17</td>\n",
       "      <td>f</td>\n",
       "      <td>62.0</td>\n",
       "      <td>$62.00</td>\n",
       "      <td>2</td>\n",
       "      <td>1125</td>\n",
       "    </tr>\n",
       "    <tr>\n",
       "      <th>2</th>\n",
       "      <td>818799</td>\n",
       "      <td>2019-07-18</td>\n",
       "      <td>f</td>\n",
       "      <td>62.0</td>\n",
       "      <td>$62.00</td>\n",
       "      <td>2</td>\n",
       "      <td>1125</td>\n",
       "    </tr>\n",
       "    <tr>\n",
       "      <th>3</th>\n",
       "      <td>818799</td>\n",
       "      <td>2019-07-19</td>\n",
       "      <td>t</td>\n",
       "      <td>62.0</td>\n",
       "      <td>$62.00</td>\n",
       "      <td>1</td>\n",
       "      <td>1125</td>\n",
       "    </tr>\n",
       "    <tr>\n",
       "      <th>4</th>\n",
       "      <td>818799</td>\n",
       "      <td>2019-07-20</td>\n",
       "      <td>t</td>\n",
       "      <td>62.0</td>\n",
       "      <td>$62.00</td>\n",
       "      <td>1</td>\n",
       "      <td>1125</td>\n",
       "    </tr>\n",
       "  </tbody>\n",
       "</table>\n",
       "</div>"
      ],
      "text/plain": [
       "   listing_id       date available  price adjusted_price  minimum_nights  \\\n",
       "0      815342 2019-07-17         t   55.0         $55.00               2   \n",
       "1      818799 2019-07-17         f   62.0         $62.00               2   \n",
       "2      818799 2019-07-18         f   62.0         $62.00               2   \n",
       "3      818799 2019-07-19         t   62.0         $62.00               1   \n",
       "4      818799 2019-07-20         t   62.0         $62.00               1   \n",
       "\n",
       "   maximum_nights  \n",
       "0              90  \n",
       "1            1125  \n",
       "2            1125  \n",
       "3            1125  \n",
       "4            1125  "
      ]
     },
     "execution_count": 15,
     "metadata": {},
     "output_type": "execute_result"
    }
   ],
   "source": [
    "cal_Ly_clean_prices_df = calendar_Ly_df.copy()\n",
    "cal_Ly_clean_prices_df['price'] = cal_Ly_clean_prices_df['price'].str.replace('[\\$,]', '').astype('float')\n",
    "cal_Ly_clean_prices_df.head()"
   ]
  },
  {
   "cell_type": "code",
   "execution_count": 16,
   "metadata": {},
   "outputs": [
    {
     "data": {
      "text/html": [
       "<div>\n",
       "<style scoped>\n",
       "    .dataframe tbody tr th:only-of-type {\n",
       "        vertical-align: middle;\n",
       "    }\n",
       "\n",
       "    .dataframe tbody tr th {\n",
       "        vertical-align: top;\n",
       "    }\n",
       "\n",
       "    .dataframe thead th {\n",
       "        text-align: right;\n",
       "    }\n",
       "</style>\n",
       "<table border=\"1\" class=\"dataframe\">\n",
       "  <thead>\n",
       "    <tr style=\"text-align: right;\">\n",
       "      <th></th>\n",
       "      <th>listing_id</th>\n",
       "      <th>date</th>\n",
       "      <th>available</th>\n",
       "      <th>price</th>\n",
       "      <th>adjusted_price</th>\n",
       "      <th>minimum_nights</th>\n",
       "      <th>maximum_nights</th>\n",
       "    </tr>\n",
       "  </thead>\n",
       "  <tbody>\n",
       "    <tr>\n",
       "      <th>0</th>\n",
       "      <td>3109</td>\n",
       "      <td>2019-07-10</td>\n",
       "      <td>f</td>\n",
       "      <td>75.0</td>\n",
       "      <td>$75.00</td>\n",
       "      <td>3.0</td>\n",
       "      <td>15.0</td>\n",
       "    </tr>\n",
       "    <tr>\n",
       "      <th>1</th>\n",
       "      <td>3109</td>\n",
       "      <td>2019-07-11</td>\n",
       "      <td>f</td>\n",
       "      <td>75.0</td>\n",
       "      <td>$75.00</td>\n",
       "      <td>3.0</td>\n",
       "      <td>15.0</td>\n",
       "    </tr>\n",
       "    <tr>\n",
       "      <th>2</th>\n",
       "      <td>3109</td>\n",
       "      <td>2019-07-12</td>\n",
       "      <td>f</td>\n",
       "      <td>75.0</td>\n",
       "      <td>$75.00</td>\n",
       "      <td>3.0</td>\n",
       "      <td>15.0</td>\n",
       "    </tr>\n",
       "    <tr>\n",
       "      <th>3</th>\n",
       "      <td>3109</td>\n",
       "      <td>2019-07-13</td>\n",
       "      <td>f</td>\n",
       "      <td>75.0</td>\n",
       "      <td>$75.00</td>\n",
       "      <td>3.0</td>\n",
       "      <td>15.0</td>\n",
       "    </tr>\n",
       "    <tr>\n",
       "      <th>4</th>\n",
       "      <td>3109</td>\n",
       "      <td>2019-07-14</td>\n",
       "      <td>f</td>\n",
       "      <td>75.0</td>\n",
       "      <td>$75.00</td>\n",
       "      <td>3.0</td>\n",
       "      <td>15.0</td>\n",
       "    </tr>\n",
       "  </tbody>\n",
       "</table>\n",
       "</div>"
      ],
      "text/plain": [
       "   listing_id       date available  price adjusted_price  minimum_nights  \\\n",
       "0        3109 2019-07-10         f   75.0         $75.00             3.0   \n",
       "1        3109 2019-07-11         f   75.0         $75.00             3.0   \n",
       "2        3109 2019-07-12         f   75.0         $75.00             3.0   \n",
       "3        3109 2019-07-13         f   75.0         $75.00             3.0   \n",
       "4        3109 2019-07-14         f   75.0         $75.00             3.0   \n",
       "\n",
       "   maximum_nights  \n",
       "0            15.0  \n",
       "1            15.0  \n",
       "2            15.0  \n",
       "3            15.0  \n",
       "4            15.0  "
      ]
     },
     "execution_count": 16,
     "metadata": {},
     "output_type": "execute_result"
    }
   ],
   "source": [
    "cal_Pa_clean_prices_df = calendar_Pa_df.copy()\n",
    "cal_Pa_clean_prices_df['price'] = cal_Pa_clean_prices_df['price'].str.replace('[\\$,]', '').astype('float')\n",
    "cal_Pa_clean_prices_df.head()"
   ]
  },
  {
   "cell_type": "markdown",
   "metadata": {},
   "source": [
    "### Plot the Price Distribution from the Calendar Data and compare Bordeaux, Lyon, and Paris ###\n",
    "\n",
    "1. Build the distribution by ascending Price as the index;\n",
    "2. Find the lowest and highest Prices for all 3 Cities;\n",
    "3. Find the Price for all 3 Cities above which listings can be considered to be outliers;\n",
    "4. Plot and compare Price distributions below the Price limit above for all 3 Cities."
   ]
  },
  {
   "cell_type": "code",
   "execution_count": 17,
   "metadata": {},
   "outputs": [
    {
     "name": "stdout",
     "output_type": "stream",
     "text": [
      "\n",
      "In Bordeaux, prices range from 9.0 € to 4000.0 €\n",
      "\n"
     ]
    }
   ],
   "source": [
    "# Build the distribution of Prices, sorted by Price (which is the index)\n",
    "cal_Bx_price_distribution = cal_Bx_clean_prices_df['price'].value_counts().sort_index()\n",
    "print(\"\\nIn Bordeaux, prices range from {} € to {} €\\n\".format(\n",
    "    cal_Bx_price_distribution.index.values.tolist()[0],\n",
    "    cal_Bx_price_distribution.index.values.tolist()[-1]))"
   ]
  },
  {
   "cell_type": "code",
   "execution_count": 18,
   "metadata": {},
   "outputs": [
    {
     "data": {
      "text/plain": [
       "9.0      202\n",
       "10.0    1175\n",
       "11.0      35\n",
       "12.0     919\n",
       "13.0    1005\n",
       "Name: price, dtype: int64"
      ]
     },
     "execution_count": 18,
     "metadata": {},
     "output_type": "execute_result"
    }
   ],
   "source": [
    "cal_Bx_price_distribution.head()"
   ]
  },
  {
   "cell_type": "code",
   "execution_count": 19,
   "metadata": {},
   "outputs": [
    {
     "data": {
      "text/plain": [
       "1864.0     10\n",
       "1967.0      5\n",
       "2000.0    365\n",
       "2500.0    365\n",
       "4000.0      8\n",
       "Name: price, dtype: int64"
      ]
     },
     "execution_count": 19,
     "metadata": {},
     "output_type": "execute_result"
    }
   ],
   "source": [
    "cal_Bx_price_distribution.tail()"
   ]
  },
  {
   "cell_type": "code",
   "execution_count": 20,
   "metadata": {},
   "outputs": [
    {
     "name": "stdout",
     "output_type": "stream",
     "text": [
      "\n",
      "In Lyon, prices range from 9.0 € to 9400.0 €\n",
      "\n",
      "\n",
      "In Paris, prices range from 2.0 € to 25000.0 €\n",
      "\n"
     ]
    }
   ],
   "source": [
    "cal_Ly_price_distribution = cal_Ly_clean_prices_df['price'].value_counts().sort_index()\n",
    "print(\"\\nIn Lyon, prices range from {} € to {} €\\n\".format(\n",
    "    cal_Ly_price_distribution.index.values.tolist()[0],\n",
    "    cal_Ly_price_distribution.index.values.tolist()[-1]))\n",
    "cal_Pa_price_distribution = cal_Pa_clean_prices_df['price'].value_counts().sort_index()\n",
    "print(\"\\nIn Paris, prices range from {} € to {} €\\n\".format(\n",
    "    cal_Pa_price_distribution.index.values.tolist()[0],\n",
    "    cal_Pa_price_distribution.index.values.tolist()[-1]))"
   ]
  },
  {
   "cell_type": "code",
   "execution_count": 21,
   "metadata": {},
   "outputs": [
    {
     "name": "stdout",
     "output_type": "stream",
     "text": [
      "[0, 1, 2, 3, 4]  ->  [24996, 24997, 24998, 24999, 25000]\n"
     ]
    }
   ],
   "source": [
    "indices = []\n",
    "for i in range(0, 25001):\n",
    "    indices.append(i)\n",
    "print(indices[:5], \" -> \", indices[-5:])"
   ]
  },
  {
   "cell_type": "code",
   "execution_count": 22,
   "metadata": {},
   "outputs": [
    {
     "data": {
      "text/plain": [
       "[0, 0, 0, 0, 0]"
      ]
     },
     "execution_count": 22,
     "metadata": {},
     "output_type": "execute_result"
    }
   ],
   "source": [
    "Bx_values = [0] * 25001\n",
    "Bx_values[0:5]"
   ]
  },
  {
   "cell_type": "code",
   "execution_count": 23,
   "metadata": {},
   "outputs": [
    {
     "name": "stdout",
     "output_type": "stream",
     "text": [
      "0    0\n",
      "1    0\n",
      "2    0\n",
      "3    0\n",
      "4    0\n",
      "dtype: int64\n",
      "24996    0\n",
      "24997    0\n",
      "24998    0\n",
      "24999    0\n",
      "25000    0\n",
      "dtype: int64\n"
     ]
    }
   ],
   "source": [
    "Bx_Price_dist = pd.Series(index=indices, data=Bx_values)\n",
    "print(Bx_Price_dist.head())\n",
    "print(Bx_Price_dist.tail())"
   ]
  },
  {
   "cell_type": "code",
   "execution_count": 24,
   "metadata": {},
   "outputs": [
    {
     "data": {
      "text/plain": [
       "0         0\n",
       "1         0\n",
       "2         0\n",
       "3         0\n",
       "4         0\n",
       "5         0\n",
       "6         0\n",
       "7         0\n",
       "8         0\n",
       "9       202\n",
       "10     1175\n",
       "11       35\n",
       "12      919\n",
       "13     1005\n",
       "14     1321\n",
       "15     6407\n",
       "16     3743\n",
       "17     4567\n",
       "18    11435\n",
       "19     8604\n",
       "dtype: int64"
      ]
     },
     "execution_count": 24,
     "metadata": {},
     "output_type": "execute_result"
    }
   ],
   "source": [
    "for i in cal_Bx_price_distribution.index:\n",
    "    Bx_Price_dist[i] += cal_Bx_price_distribution[i]\n",
    "Bx_Price_dist[0:20]"
   ]
  },
  {
   "cell_type": "code",
   "execution_count": 25,
   "metadata": {},
   "outputs": [
    {
     "data": {
      "text/plain": [
       "24981    0\n",
       "24982    0\n",
       "24983    0\n",
       "24984    0\n",
       "24985    0\n",
       "24986    0\n",
       "24987    0\n",
       "24988    0\n",
       "24989    0\n",
       "24990    0\n",
       "24991    0\n",
       "24992    0\n",
       "24993    0\n",
       "24994    0\n",
       "24995    0\n",
       "24996    0\n",
       "24997    0\n",
       "24998    0\n",
       "24999    0\n",
       "25000    0\n",
       "dtype: int64"
      ]
     },
     "execution_count": 25,
     "metadata": {},
     "output_type": "execute_result"
    }
   ],
   "source": [
    "Bx_Price_dist[-20:]"
   ]
  },
  {
   "cell_type": "markdown",
   "metadata": {},
   "source": [
    "The top ends could be **outliers**. Let's check by calculating the percentage of offerings above a certain price and stop at 0.1 %:"
   ]
  },
  {
   "cell_type": "code",
   "execution_count": 36,
   "metadata": {},
   "outputs": [
    {
     "name": "stdout",
     "output_type": "stream",
     "text": [
      "Bordeaux has 100.0 % offerings above 0 €.\n",
      "Bordeaux has 99.96551236182717 % offerings above 10 €.\n",
      "Bordeaux has 98.19048847469216 % offerings above 20 €.\n",
      "Bordeaux has 88.91694540208654 % offerings above 30 €.\n",
      "Bordeaux has 75.58440517590073 % offerings above 40 €.\n",
      "Bordeaux has 60.57173841990515 % offerings above 50 €.\n",
      "Bordeaux has 48.953010906058125 % offerings above 60 €.\n",
      "Bordeaux has 39.61850711354498 % offerings above 70 €.\n",
      "Bordeaux has 31.844036731713977 % offerings above 80 €.\n",
      "Bordeaux has 26.140127005674056 % offerings above 90 €.\n",
      "Bordeaux has 20.86857755398242 % offerings above 100 €.\n",
      "Bordeaux has 18.532735080089214 % offerings above 110 €.\n",
      "Bordeaux has 15.816977585539737 % offerings above 120 €.\n",
      "Bordeaux has 13.813438657962523 % offerings above 130 €.\n",
      "Bordeaux has 12.375977869806034 % offerings above 140 €.\n",
      "Bordeaux has 10.305016486193049 % offerings above 150 €.\n",
      "Bordeaux has 9.269861385741853 % offerings above 160 €.\n",
      "Bordeaux has 8.455882997494198 % offerings above 170 €.\n",
      "Bordeaux has 7.497216820049414 % offerings above 180 €.\n",
      "Bordeaux has 6.899681546609028 % offerings above 190 €.\n",
      "Bordeaux has 5.595487804725333 % offerings above 200 €.\n",
      "Bordeaux has 5.217150649867822 % offerings above 210 €.\n",
      "Bordeaux has 4.854692334953359 % offerings above 220 €.\n",
      "Bordeaux has 4.5007244407655405 % offerings above 230 €.\n",
      "Bordeaux has 4.265547300284141 % offerings above 240 €.\n",
      "Bordeaux has 3.3510112742268143 % offerings above 250 €.\n",
      "Bordeaux has 3.1164101799894057 % offerings above 260 €.\n",
      "Bordeaux has 2.9554428230273233 % offerings above 270 €.\n",
      "Bordeaux has 2.651415633644607 % offerings above 280 €.\n",
      "Bordeaux has 2.4007603810420677 % offerings above 290 €.\n",
      "Bordeaux has 1.788949178946261 % offerings above 300 €.\n",
      "Bordeaux has 1.7142885766272993 % offerings above 310 €.\n",
      "Bordeaux has 1.6044140169583005 % offerings above 320 €.\n",
      "Bordeaux has 1.5451062993161329 % offerings above 330 €.\n",
      "Bordeaux has 1.4871259925840308 % offerings above 340 €.\n",
      "Bordeaux has 1.1832741216233984 % offerings above 350 €.\n",
      "Bordeaux has 1.0838184853239696 % offerings above 360 €.\n",
      "Bordeaux has 1.0341783263852973 % offerings above 370 €.\n",
      "Bordeaux has 0.9661297331277933 % offerings above 380 €.\n",
      "Bordeaux has 0.9223251730956349 % offerings above 390 €.\n",
      "Bordeaux has 0.7266447685608988 % offerings above 400 €.\n",
      "Bordeaux has 0.7193815767888427 % offerings above 410 €.\n",
      "Bordeaux has 0.6786075209098524 % offerings above 420 €.\n",
      "Bordeaux has 0.666836141141348 % offerings above 430 €.\n",
      "Bordeaux has 0.65248507601932 % offerings above 440 €.\n",
      "Bordeaux has 0.5417088787510316 % offerings above 450 €.\n",
      "Bordeaux has 0.527082313251443 % offerings above 460 €.\n",
      "Bordeaux has 0.5206205771232 % offerings above 470 €.\n",
      "Bordeaux has 0.5014357326494245 % offerings above 480 €.\n",
      "Bordeaux has 0.4836033445745836 % offerings above 490 €.\n",
      "Bordeaux has 0.3754819691264259 % offerings above 500 €.\n",
      "Bordeaux has 0.3707483717301549 % offerings above 510 €.\n",
      "Bordeaux has 0.3614815408485662 % offerings above 520 €.\n",
      "Bordeaux has 0.35193920958941677 % offerings above 530 €.\n",
      "Bordeaux has 0.34903393288059437 % offerings above 540 €.\n",
      "Bordeaux has 0.3280959041859778 % offerings above 550 €.\n",
      "Bordeaux has 0.31454629470776296 % offerings above 560 €.\n",
      "Bordeaux has 0.31359456613073494 % offerings above 570 €.\n",
      "Bordeaux has 0.3134943841752583 % offerings above 580 €.\n",
      "Bordeaux has 0.303175642761165 % offerings above 590 €.\n",
      "Bordeaux has 0.25731735264173555 % offerings above 600 €.\n",
      "Bordeaux has 0.25731735264173555 % offerings above 610 €.\n",
      "Bordeaux has 0.25731735264173555 % offerings above 620 €.\n",
      "Bordeaux has 0.25731735264173555 % offerings above 630 €.\n",
      "Bordeaux has 0.24812565822675434 % offerings above 640 €.\n",
      "Bordeaux has 0.23162068106197883 % offerings above 650 €.\n",
      "Bordeaux has 0.23162068106197883 % offerings above 660 €.\n",
      "Bordeaux has 0.23162068106197883 % offerings above 670 €.\n",
      "Bordeaux has 0.23059381601834333 % offerings above 680 €.\n",
      "Bordeaux has 0.22756331186517512 % offerings above 690 €.\n",
      "Bordeaux has 0.21484020351964253 % offerings above 700 €.\n",
      "Bordeaux has 0.21484020351964253 % offerings above 710 €.\n",
      "Bordeaux has 0.21479011254190422 % offerings above 720 €.\n",
      "Bordeaux has 0.21155924447778277 % offerings above 730 €.\n",
      "Bordeaux has 0.21155924447778277 % offerings above 740 €.\n",
      "Bordeaux has 0.2022924135961941 % offerings above 750 €.\n",
      "Bordeaux has 0.2022924135961941 % offerings above 760 €.\n",
      "Bordeaux has 0.20226736810732496 % offerings above 770 €.\n",
      "Bordeaux has 0.20226736810732496 % offerings above 780 €.\n",
      "Bordeaux has 0.20226736810732496 % offerings above 790 €.\n",
      "Bordeaux has 0.19312576467008202 % offerings above 800 €.\n",
      "Bordeaux has 0.19312576467008202 % offerings above 810 €.\n",
      "Bordeaux has 0.19312576467008202 % offerings above 820 €.\n",
      "Bordeaux has 0.19310071918121285 % offerings above 830 €.\n",
      "Bordeaux has 0.19310071918121285 % offerings above 840 €.\n",
      "Bordeaux has 0.19305062820347457 % offerings above 850 €.\n",
      "Bordeaux has 0.1930255827146054 % offerings above 860 €.\n",
      "Bordeaux has 0.1930255827146054 % offerings above 870 €.\n",
      "Bordeaux has 0.1838839792773625 % offerings above 880 €.\n",
      "Bordeaux has 0.18248143190068963 % offerings above 890 €.\n",
      "Bordeaux has 0.16369731524882067 % offerings above 900 €.\n",
      "Bordeaux has 0.16367226975995153 % offerings above 910 €.\n",
      "Bordeaux has 0.16367226975995153 % offerings above 920 €.\n",
      "Bordeaux has 0.16367226975995153 % offerings above 930 €.\n",
      "Bordeaux has 0.16352199682673657 % offerings above 940 €.\n",
      "Bordeaux has 0.13609718651500788 % offerings above 950 €.\n",
      "Bordeaux has 0.13609718651500788 % offerings above 960 €.\n",
      "Bordeaux has 0.1360721410261387 % offerings above 970 €.\n",
      "Bordeaux has 0.1360721410261387 % offerings above 980 €.\n",
      "Bordeaux has 0.13604709553726957 % offerings above 990 €.\n",
      "Bordeaux has 0.058130579665317136 % offerings above 1000 €.\n"
     ]
    }
   ],
   "source": [
    "prices = []\n",
    "percentages = []\n",
    "\n",
    "for price in np.arange(0, 2500, step=10):\n",
    "    percent = Bx_Price_dist[Bx_Price_dist.index > price].sum() / cal_Bx_clean_prices_df.shape[0] * 100\n",
    "    prices.append(price)\n",
    "    percentages.append(percent)\n",
    "    print(\"Bordeaux has {} % offerings above {} €.\".format(percent, price))\n",
    "    if percent < 0.1:\n",
    "        break"
   ]
  },
  {
   "cell_type": "code",
   "execution_count": 37,
   "metadata": {},
   "outputs": [
    {
     "data": {
      "image/png": "[encoded data removed]",
      "text/plain": [
       "<Figure size 1080x360 with 1 Axes>"
      ]
     },
     "metadata": {
      "needs_background": "light"
     },
     "output_type": "display_data"
    }
   ],
   "source": [
    "percentage_curve = pd.Series(index=prices, data=percentages)\n",
    "(percentage_curve).plot(figsize=(15, 5));\n",
    "plt.title(\"Bordeaux\");"
   ]
  },
  {
   "cell_type": "code",
   "execution_count": 38,
   "metadata": {},
   "outputs": [
    {
     "data": {
      "image/png": "[encoded data removed]",
      "text/plain": [
       "<Figure size 1080x360 with 1 Axes>"
      ]
     },
     "metadata": {
      "needs_background": "light"
     },
     "output_type": "display_data"
    }
   ],
   "source": [
    "Ly_values = [0] * 25001\n",
    "Ly_Price_dist = pd.Series(index=indices, data=Ly_values)\n",
    "for i in cal_Ly_price_distribution.index:\n",
    "    Ly_Price_dist[i] += cal_Ly_price_distribution[i]\n",
    "#print(Ly_Price_dist[0:20])\n",
    "#print(Ly_Price_dist[-20:])\n",
    "\n",
    "prices = []\n",
    "percentages = []\n",
    "\n",
    "for price in np.arange(0, 25000, step=10):\n",
    "    percent = Ly_Price_dist[Ly_Price_dist.index > price].sum() / cal_Ly_clean_prices_df.shape[0] * 100\n",
    "    prices.append(price)\n",
    "    percentages.append(percent)\n",
    "    #print(\"Lyon has {} % offerings above {} €.\".format(percent, price))\n",
    "    if percent < 0.1:\n",
    "        break\n",
    "percentage_curve = pd.Series(index=prices, data=percentages)\n",
    "(percentage_curve).plot(figsize=(15, 5));\n",
    "plt.title(\"Lyon\");"
   ]
  },
  {
   "cell_type": "code",
   "execution_count": 39,
   "metadata": {},
   "outputs": [
    {
     "data": {
      "image/png": "[encoded data removed]",
      "text/plain": [
       "<Figure size 1080x360 with 1 Axes>"
      ]
     },
     "metadata": {
      "needs_background": "light"
     },
     "output_type": "display_data"
    }
   ],
   "source": [
    "Pa_values = [0] * 25001\n",
    "Pa_Price_dist = pd.Series(index=indices, data=Pa_values)\n",
    "for i in cal_Pa_price_distribution.index:\n",
    "    Pa_Price_dist[i] += cal_Pa_price_distribution[i]\n",
    "#print(Pa_Price_dist[0:20])\n",
    "#print(Pa_Price_dist[-20:])\n",
    "\n",
    "prices = []\n",
    "percentages = []\n",
    "\n",
    "for price in np.arange(0, 25000, step=10):\n",
    "    percent = Pa_Price_dist[Pa_Price_dist.index > price].sum() / cal_Pa_clean_prices_df.shape[0] * 100\n",
    "    prices.append(price)\n",
    "    percentages.append(percent)\n",
    "    #print(\"Paon has {} % offerings above {} €.\".format(percent, price))\n",
    "    if percent < 0.1:\n",
    "        break\n",
    "percentage_curve = pd.Series(index=prices, data=percentages)\n",
    "(percentage_curve).plot(figsize=(15, 5));\n",
    "plt.title(\"Paris\");"
   ]
  },
  {
   "cell_type": "markdown",
   "metadata": {},
   "source": [
    "**Bordeaux** and **Lyon** have a very similar **Price Upper Limit**, whereas **Paris**'s is almost **double**.\n",
    "\n",
    "Plot and compare the Price Distributions from ***0 to 1,000 €*** and then from ***1,001 to 1,800 €***:"
   ]
  },
  {
   "cell_type": "code",
   "execution_count": 74,
   "metadata": {},
   "outputs": [
    {
     "data": {
      "image/png": "[encoded data removed]",
      "text/plain": [
       "<Figure size 1080x360 with 1 Axes>"
      ]
     },
     "metadata": {
      "needs_background": "light"
     },
     "output_type": "display_data"
    }
   ],
   "source": [
    "#(Bx_Price_dist[:1000]/cal_Bx_clean_prices_df.shape[0]).plot(kind=\"bar\", figsize=(15, 5));\n",
    "(Bx_Price_dist[:1000]).plot(kind=\"bar\", figsize=(15, 5));\n",
    "plt.title(\"Price Distribution for Bordeaux (0 - 1,000 €)\")\n",
    "#plt.xticks(np.arange(0.0, 1000.0, step=100.0), rotation='horizontal');    # Xticks() doesn't seem to display the correct values...\n",
    "plt.xticks([]);\n",
    "#plt.xlabel(\"Price (k€)\");\n",
    "#plt.yticks([]);"
   ]
  },
  {
   "cell_type": "code",
   "execution_count": 75,
   "metadata": {},
   "outputs": [
    {
     "data": {
      "image/png": "[encoded data removed]",
      "text/plain": [
       "<Figure size 1080x360 with 1 Axes>"
      ]
     },
     "metadata": {
      "needs_background": "light"
     },
     "output_type": "display_data"
    }
   ],
   "source": [
    "(Ly_Price_dist[:1000]).plot(kind=\"bar\", figsize=(15, 5));\n",
    "plt.title(\"Price Distribution for Lyon (0 - 1,000 €)\")\n",
    "plt.xticks([]);"
   ]
  },
  {
   "cell_type": "code",
   "execution_count": 76,
   "metadata": {},
   "outputs": [
    {
     "data": {
      "image/png": "[encoded data removed]",
      "text/plain": [
       "<Figure size 1080x360 with 1 Axes>"
      ]
     },
     "metadata": {
      "needs_background": "light"
     },
     "output_type": "display_data"
    }
   ],
   "source": [
    "(Pa_Price_dist[:1000]).plot(kind=\"bar\", figsize=(15, 5));\n",
    "plt.title(\"Price Distribution for Paris (0 - 1,000 €)\")\n",
    "plt.xticks([]);"
   ]
  },
  {
   "cell_type": "code",
   "execution_count": 65,
   "metadata": {},
   "outputs": [
    {
     "data": {
      "image/png": "[encoded data removed]",
      "text/plain": [
       "<Figure size 1080x360 with 1 Axes>"
      ]
     },
     "metadata": {
      "needs_background": "light"
     },
     "output_type": "display_data"
    }
   ],
   "source": [
    "#(Bx_Price_dist[1001:1800]/cal_Bx_clean_prices_df.shape[0]).plot(kind=\"bar\", figsize=(15, 5));\n",
    "(Bx_Price_dist[1001:1800]).plot(kind=\"bar\", figsize=(15, 5));\n",
    "plt.title(\"Price Distribution for Bordeaux (1,001 - 1,800 €)\")\n",
    "#plt.xticks(np.arange(1000.0, 1800.0, step=100.0), rotation='horizontal');    # Doesn't display tick marks from 1000 to 18000\n",
    "plt.xticks([]);\n",
    "#plt.xlabel(\"Price (k€)\");\n",
    "#plt.yticks([]);"
   ]
  },
  {
   "cell_type": "code",
   "execution_count": 66,
   "metadata": {},
   "outputs": [
    {
     "data": {
      "image/png": "[encoded data removed]",
      "text/plain": [
       "<Figure size 1080x360 with 1 Axes>"
      ]
     },
     "metadata": {
      "needs_background": "light"
     },
     "output_type": "display_data"
    }
   ],
   "source": [
    "(Ly_Price_dist[1001:1800]).plot(kind=\"bar\", figsize=(15, 5));\n",
    "plt.title(\"Price Distribution for Lyon (1,001 - 1,800 €)\")\n",
    "plt.xticks([]);"
   ]
  },
  {
   "cell_type": "code",
   "execution_count": 72,
   "metadata": {},
   "outputs": [
    {
     "data": {
      "image/png": "[encoded data removed]",
      "text/plain": [
       "<Figure size 1080x360 with 1 Axes>"
      ]
     },
     "metadata": {
      "needs_background": "light"
     },
     "output_type": "display_data"
    }
   ],
   "source": [
    "(Pa_Price_dist[1001:1800]).plot(kind=\"bar\", figsize=(15, 5));\n",
    "plt.title(\"Price Distribution for Paris (1,001 - 1,800 €)\")\n",
    "plt.xticks([]);"
   ]
  },
  {
   "cell_type": "markdown",
   "metadata": {},
   "source": [
    "## 1 - Conclusion for Price Distribution ##\n",
    " - As seen on the first 3 plots above,  Bordeaux, Lyon, and Paris have very similar Price Distributions in the bulk of the Price range (*i.e.*, below 1,000 €).\n",
    " - The following 3 plots show that Paris has a larger offering above 1,000 €. Although Bordeaux and Lyon are beautiful cities, Paris attracts more international tourists, which may explain the difference at the high-end of the Price spectrum.\n",
    " \n",
    "## Compare Availability / Price throughout the year for all 3 Cities ##\n",
    "\n",
    "To avoid fluctuations due to weekday/weekend activity differences, Pricing throughout the time period is smoothened."
   ]
  },
  {
   "cell_type": "code",
   "execution_count": 89,
   "metadata": {},
   "outputs": [
    {
     "name": "stdout",
     "output_type": "stream",
     "text": [
      "                price\n",
      "date                 \n",
      "2019-08-27        NaN\n",
      "2019-08-28        NaN\n",
      "2019-08-29        NaN\n",
      "2019-08-30  82.875922\n",
      "2019-08-31  82.839787\n"
     ]
    },
    {
     "data": {
      "image/png": "[encoded data removed]",
      "text/plain": [
       "<Figure size 1080x360 with 1 Axes>"
      ]
     },
     "metadata": {
      "needs_background": "light"
     },
     "output_type": "display_data"
    }
   ],
   "source": [
    "# Group Price data by Date and smoothen over 7 rolling days\n",
    "Bx_avg_price_by_date = pd.DataFrame(cal_Bx_clean_prices_df.groupby('date')['price'].mean())\n",
    "Bx_rolling_avg = Bx_avg_price_by_date.rolling(window=7, center=True).mean()\n",
    "print(Bx_rolling_avg.head())\n",
    "Ly_avg_price_by_date = pd.DataFrame(cal_Ly_clean_prices_df.groupby('date')['price'].mean())\n",
    "Ly_rolling_avg = Ly_avg_price_by_date.rolling(window=7, center=True).mean()\n",
    "Pa_avg_price_by_date = pd.DataFrame(cal_Pa_clean_prices_df.groupby('date')['price'].mean())\n",
    "Pa_rolling_avg = Pa_avg_price_by_date.rolling(window=7, center=True).mean()\n",
    "\n",
    "# Plot for all 3 Cities on the same graph\n",
    "loc = plt_dates.MonthLocator()\n",
    "fmt = plt_dates.DateFormatter('%b')\n",
    "plt.figure(figsize=(15, 5))\n",
    "plt.plot(pd.to_datetime(Bx_rolling_avg.index), Bx_rolling_avg['price'])    # removed label='Bordeaux' because it doesn't work...\n",
    "plt.plot(pd.to_datetime(Ly_rolling_avg.index), Ly_rolling_avg['price'])\n",
    "plt.plot(pd.to_datetime(Pa_rolling_avg.index), Pa_rolling_avg['price'])\n",
    "plt.legend(title='Cities:')\n",
    "x_axis = plt.gca().xaxis\n",
    "x_axis.set_major_locator(loc)\n",
    "x_axis.set_major_formatter(fmt)\n",
    "plt.xlabel('Month')\n",
    "plt.title('Price Fluctuations')\n",
    "plt.show()"
   ]
  },
  {
   "cell_type": "markdown",
   "metadata": {},
   "source": [
    "## 2 - Conclusion for Seasonal Price Fluctuations ##\n",
    "The plot above yields 2 main observations:\n",
    " - Prices throughout the year are much higher in Paris than in Lyon and in Bordeaux, which again can be explained by the fact that Paris is in the top 3 most visited cities in the World; it's also the economic capital of France. Lyon is larger than Bordeaux, which could explain why the prices are slightly higher in the former; also, Bordeaux is close to the Atlantic Ocean and its many beach resorts which draw lors of tourists.\n",
    " - The Prices fluctuate much more in Bordeaux and in Lyon around the year-end holidays, whereas Paris draws people pretty much throughout the year, with peaks around the fall and the year-end holidays.\n",
    " \n",
    "## What Factors have the highest influence on Pricing? ##\n",
    "\n",
    "???"
   ]
  }
 ],
 "metadata": {
  "kernelspec": {
   "display_name": "Python 3",
   "language": "python",
   "name": "python3"
  },
  "language_info": {
   "codemirror_mode": {
    "name": "ipython",
    "version": 3
   },
   "file_extension": ".py",
   "mimetype": "text/x-python",
   "name": "python",
   "nbconvert_exporter": "python",
   "pygments_lexer": "ipython3",
   "version": "3.7.1"
  }
 },
 "nbformat": 4,
 "nbformat_minor": 4
}
