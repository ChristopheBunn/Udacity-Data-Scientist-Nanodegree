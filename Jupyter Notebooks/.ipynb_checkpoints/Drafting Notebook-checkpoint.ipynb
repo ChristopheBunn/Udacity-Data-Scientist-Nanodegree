{
 "cells": [
  {
   "cell_type": "code",
   "execution_count": null,
   "metadata": {},
   "outputs": [],
   "source": [
    "import numpy as np"
   ]
  },
  {
   "cell_type": "code",
   "execution_count": null,
   "metadata": {},
   "outputs": [],
   "source": [
    "matrix_3_2 = np.matrix([[2, 7], [-5, 2], [3, 2]])\n",
    "print(matrix_3_2)\n",
    "print()\n",
    "matrix_2_3 = np.matrix([[-1, 4, 2], [1, -1, 3]])\n",
    "print(matrix_2_3)\n",
    "print()\n",
    "print(matrix_3_2 * matrix_2_3)"
   ]
  },
  {
   "cell_type": "code",
   "execution_count": null,
   "metadata": {},
   "outputs": [],
   "source": [
    "prob_all_red = 10 / 30 * 10 / 30\n",
    "prob_all_orange = 10 / 30 * 10 / 30\n",
    "prob_all_blue = 10 / 30 * 10 / 30\n",
    "prob_all_same_color = prob_all_red + prob_all_orange + prob_all_blue\n",
    "print(prob_all_same_color)"
   ]
  },
  {
   "cell_type": "code",
   "execution_count": null,
   "metadata": {},
   "outputs": [],
   "source": [
    "a = np.array([[2, 1, 2], [3, 9, 2]])\n",
    "a += 5\n",
    "b = a + 5\n",
    "print (a[1, 2] + b[1, 1])"
   ]
  },
  {
   "cell_type": "code",
   "execution_count": null,
   "metadata": {},
   "outputs": [],
   "source": [
    "print(np.dot(matrix_3_2, matrix_2_3))"
   ]
  },
  {
   "cell_type": "code",
   "execution_count": null,
   "metadata": {},
   "outputs": [],
   "source": [
    "i = 0\n",
    "while i < 5:\n",
    "  if (i - 2) == 1:\n",
    "    break\n",
    "  print(i)\n",
    "  i += 1"
   ]
  },
  {
   "cell_type": "code",
   "execution_count": null,
   "metadata": {},
   "outputs": [],
   "source": [
    "# 7*5 + 5*3 + 2a + 3a = 0\n",
    "print(-(7*5 + 5*3)/5)"
   ]
  },
  {
   "cell_type": "code",
   "execution_count": null,
   "metadata": {},
   "outputs": [],
   "source": [
    "name = ahmed\n",
    "print(name + \"d\")"
   ]
  },
  {
   "cell_type": "code",
   "execution_count": null,
   "metadata": {},
   "outputs": [],
   "source": [
    "prob_all_red = 10 / 30 * 9 / 29\n",
    "prob_all_orange = 10 / 30 * 9 / 29\n",
    "prob_all_blue = 10 / 30 * 9 / 29\n",
    "prob_all_same_color = prob_all_red + prob_all_orange + prob_all_blue\n",
    "print(prob_all_same_color)"
   ]
  },
  {
   "cell_type": "code",
   "execution_count": null,
   "metadata": {},
   "outputs": [],
   "source": [
    "9/29"
   ]
  },
  {
   "cell_type": "code",
   "execution_count": null,
   "metadata": {},
   "outputs": [],
   "source": [
    "a = \"Udacity\"\n",
    "b = 5\n",
    "print(a + b)"
   ]
  },
  {
   "cell_type": "code",
   "execution_count": null,
   "metadata": {},
   "outputs": [],
   "source": [
    "from sympy import Symbol\n",
    "x = Symbol('x')\n",
    "y = x**5\n",
    "y_prime = y.diff(x)\n",
    "y_prime"
   ]
  },
  {
   "cell_type": "code",
   "execution_count": null,
   "metadata": {},
   "outputs": [],
   "source": [
    "for i in [0, 2, 3]:\n",
    "    if i%2 == 0:\n",
    "        print(\"even\")\n",
    "    elif i == 0:\n",
    "        print(\"zero\")\n",
    "    else:\n",
    "        print(\"odd\")"
   ]
  },
  {
   "cell_type": "code",
   "execution_count": null,
   "metadata": {},
   "outputs": [],
   "source": [
    "A = np.array([[7, 2, 9], [6, 5, 12], [9, 1, 3]])\n",
    "print(A)\n",
    "print()\n",
    "A22 = A[1, 1]\n",
    "A11 = A[0, 0]\n",
    "A12 = A[0, 1]\n",
    "A31 = A[2, 0]\n",
    "print(\"A22 = {}, A11 = {}, A12 = {}, A31 = {}\".format(A22, A11, A12, A31))\n",
    "print()\n",
    "print(int((A22 + A11)/A12) + A31)"
   ]
  },
  {
   "cell_type": "code",
   "execution_count": null,
   "metadata": {},
   "outputs": [],
   "source": [
    "import math\n",
    "2 * 3 * math.cos(math.pi/4)"
   ]
  },
  {
   "cell_type": "code",
   "execution_count": null,
   "metadata": {},
   "outputs": [],
   "source": [
    "for i in [5, 4, 2, 1]:\n",
    "    if i > 2:\n",
    "        continue\n",
    "    else:\n",
    "        print(i)"
   ]
  },
  {
   "cell_type": "code",
   "execution_count": null,
   "metadata": {},
   "outputs": [],
   "source": [
    "x = 53\n",
    "for i in x:\n",
    "    print(i)"
   ]
  },
  {
   "cell_type": "code",
   "execution_count": null,
   "metadata": {},
   "outputs": [],
   "source": [
    "i = 0\n",
    "while i < 5:\n",
    "    if i%2 == 0:\n",
    "        i = i + 2\n",
    "        continue\n",
    "    i = i - 1\n",
    "\n",
    "print(i)"
   ]
  },
  {
   "cell_type": "code",
   "execution_count": null,
   "metadata": {},
   "outputs": [],
   "source": [
    "import math\n",
    "# d(e2x)/dx = d(2x)/dx * e2x = 2e2x\n",
    "2*math.exp(2*0)"
   ]
  },
  {
   "cell_type": "code",
   "execution_count": null,
   "metadata": {},
   "outputs": [],
   "source": [
    "2*50+100"
   ]
  },
  {
   "cell_type": "code",
   "execution_count": null,
   "metadata": {},
   "outputs": [],
   "source": [
    "for i in range(1, 10):\n",
    "    print (i)"
   ]
  },
  {
   "cell_type": "code",
   "execution_count": null,
   "metadata": {},
   "outputs": [],
   "source": [
    "for a in range (2, 5):\n",
    "    print(a + (a - 1))"
   ]
  },
  {
   "cell_type": "code",
   "execution_count": null,
   "metadata": {},
   "outputs": [],
   "source": [
    "def sum(a, b):\n",
    "    a = a + b\n",
    "print(sum(5, 4))"
   ]
  },
  {
   "cell_type": "code",
   "execution_count": null,
   "metadata": {},
   "outputs": [],
   "source": [
    "def f(u, y=[]):\n",
    "    for i in range(u):\n",
    "        y.append(i*i)\n",
    "    print(y)\n",
    "    \n",
    "f(6)\n",
    "f(6, [4, 1, 5])\n",
    "f(6)"
   ]
  },
  {
   "cell_type": "code",
   "execution_count": null,
   "metadata": {},
   "outputs": [],
   "source": [
    "def y(x):\n",
    "    return 1.2*x + 2\n",
    "\n",
    "pt1 = [2, -2]\n",
    "pt2 = [5, 6]\n",
    "pt3 = [-4, -4]\n",
    "pt4 = [-7, 1]\n",
    "pt5 = [8, 14]\n",
    "\n",
    "mean_absolute_error = (abs(pt1[1] - y(pt1[0])) + abs(pt2[1] - y(pt2[0])) +\n",
    "                       abs(pt3[1] - y(pt3[0])) + abs(pt4[1] - y(pt4[0])) +\n",
    "                       abs(pt5[1] - y(pt5[0]))) / 5\n",
    "\n",
    "print(mean_absolute_error)"
   ]
  },
  {
   "cell_type": "code",
   "execution_count": null,
   "metadata": {},
   "outputs": [],
   "source": [
    "mean_squared_error = ((pt1[1] - y(pt1[0]))**2 + (pt2[1] - y(pt2[0]))**2 +\n",
    "                      (pt3[1] - y(pt3[0]))**2 + (pt4[1] - y(pt4[0]))**2 +\n",
    "                      (pt5[1] - y(pt5[0]))**2) / (2*5)\n",
    "\n",
    "print(mean_squared_error)"
   ]
  },
  {
   "cell_type": "code",
   "execution_count": null,
   "metadata": {},
   "outputs": [],
   "source": [
    "data = np.loadtxt('data.csv', delimiter = ',')\n",
    "print(data[:5])    # first 5 rows\n",
    "print()\n",
    "print(data[-5:])   # last 5 rows\n",
    "print()\n",
    "X = data[:,:-1]    # elements of the columns of each row except the last\n",
    "print(\"X[:5] =\\n\")\n",
    "print(X[:5])\n",
    "print()\n",
    "y = data[:,-1]  # last column of each row\n",
    "print(\"y[:5] =\\n\")\n",
    "print(y[:5])"
   ]
  },
  {
   "cell_type": "code",
   "execution_count": null,
   "metadata": {},
   "outputs": [],
   "source": [
    "import pandas as pd\n",
    "bmi_life_data = pd.read_csv('bmi_and_life_expectancy.csv')\n",
    "bmi_life_data.head()"
   ]
  },
  {
   "cell_type": "code",
   "execution_count": null,
   "metadata": {},
   "outputs": [],
   "source": [
    "bmi_life_data['Country'].head()"
   ]
  },
  {
   "cell_type": "code",
   "execution_count": null,
   "metadata": {},
   "outputs": [],
   "source": [
    "from sklearn.datasets import load_boston\n",
    "\n",
    "# Load the data from the boston house-prices dataset \n",
    "boston_data = load_boston()\n",
    "x = boston_data['data']\n",
    "y = boston_data['target']\n",
    "print(x[:5,:])\n",
    "print()\n",
    "print(y[:5])"
   ]
  },
  {
   "cell_type": "code",
   "execution_count": null,
   "metadata": {},
   "outputs": [],
   "source": [
    "train_data = pd.read_csv('poly_data.csv')\n",
    "print(train_data.head())\n",
    "print()\n",
    "X = train_data['Var_X'].values.reshape((20, 1)) # 20 rows and 1 column\n",
    "print(X[:5])\n",
    "print(X.shape)\n",
    "print()\n",
    "y = train_data['Var_Y'].values\n",
    "print(y[:5])\n",
    "print(y.shape)"
   ]
  },
  {
   "cell_type": "code",
   "execution_count": null,
   "metadata": {},
   "outputs": [],
   "source": [
    "train_data['Var_X'].head()"
   ]
  },
  {
   "cell_type": "code",
   "execution_count": null,
   "metadata": {},
   "outputs": [],
   "source": [
    "train_data['Var_X'].values[:5]"
   ]
  },
  {
   "cell_type": "code",
   "execution_count": null,
   "metadata": {},
   "outputs": [],
   "source": [
    "import pandas as pd\n",
    "train_data = pd.read_csv('regularization.csv', header=None)\n",
    "X = train_data.iloc[:, :-1]  # all columns except the last\n",
    "print(X.head())\n",
    "y = train_data.iloc[:, -1]   # the last column\n",
    "print()\n",
    "print(y.head())"
   ]
  },
  {
   "cell_type": "code",
   "execution_count": null,
   "metadata": {},
   "outputs": [],
   "source": [
    "2*7 + 6 - 18"
   ]
  },
  {
   "cell_type": "code",
   "execution_count": null,
   "metadata": {},
   "outputs": [],
   "source": [
    "1.5*7 + 6 - 18"
   ]
  },
  {
   "cell_type": "code",
   "execution_count": null,
   "metadata": {},
   "outputs": [],
   "source": []
  },
  {
   "cell_type": "markdown",
   "metadata": {},
   "source": [
    "x1 = 1\n",
    "x2 = 1\n",
    "xb = 1\n",
    "w1 = 3\n",
    "w2 = 4\n",
    "b = -10\n",
    "learning_rate = 0.1\n",
    "score = round(w1*x1 + w2*x2 + b, 2)    # limit to 2 decimal places\n",
    "iteration = 0\n",
    "\n",
    "print(\"Score #{} = {}\".format(iteration, score))\n",
    "\n",
    "while score < 0:\n",
    "    w1 += learning_rate*x1\n",
    "    w2 += learning_rate*x2\n",
    "    b += learning_rate*xb\n",
    "    #print(\"w1 = {}, w2 = {}, and b = {}\".format(w1, w2, b))\n",
    "    score = round(w1*x1 + w2*x2 + b, 2)\n",
    "    iteration += 1\n",
    "    print(\"Score #{} = {}\".format(iteration, score))\n",
    "    if iteration > 100:\n",
    "        break    # avoid infinite loop"
   ]
  },
  {
   "cell_type": "code",
   "execution_count": null,
   "metadata": {},
   "outputs": [],
   "source": [
    "import math\n",
    "m = 4\n",
    "n = 10\n",
    "entropy = - m/(m + n)*math.log2(m/(m + n)) - n/(m + n)*math.log2(n/(m + n))\n",
    "print(\"Entropy = {}\".format(round(entropy, 3)))    # limit to 3 decimal places"
   ]
  },
  {
   "cell_type": "code",
   "execution_count": null,
   "metadata": {},
   "outputs": [],
   "source": [
    "import math\n",
    "m = 8\n",
    "n = 3\n",
    "o = 2\n",
    "p1 = m / (m + n + o)\n",
    "p2 = n / (m + n + o)\n",
    "p3 = o / (m + n + o)\n",
    "entropy = - (p1*math.log2(p1) + p2*math.log2(p2) + p3*math.log2(p3))\n",
    "print(\"Entropy = {}\".format(round(entropy, 3)))    # limit to 3 decimal places"
   ]
  },
  {
   "cell_type": "code",
   "execution_count": 3,
   "metadata": {},
   "outputs": [
    {
     "name": "stdout",
     "output_type": "stream",
     "text": [
      "   Species  Color  Length (mm)\n",
      "0    Mobug  Brown         11.6\n",
      "1    Mobug   Blue         16.3\n",
      "2    Lobug   Blue         15.1\n",
      "3    Lobug  Green         23.7\n",
      "4    Lobug   Blue         18.4\n",
      "5    Lobug  Brown         17.1\n",
      "6    Mobug  Brown         15.7\n",
      "7    Lobug  Green         18.6\n",
      "8    Lobug   Blue         22.9\n",
      "9    Lobug   Blue         21.0\n",
      "10   Lobug   Blue         20.5\n",
      "11   Mobug  Green         21.2\n",
      "12   Mobug  Brown         13.8\n",
      "13   Lobug   Blue         14.5\n",
      "14   Lobug  Green         24.8\n",
      "15   Mobug  Brown         18.2\n",
      "16   Lobug  Green         17.9\n",
      "17   Lobug  Green         22.7\n",
      "18   Mobug  Green         19.9\n",
      "19   Mobug   Blue         14.6\n",
      "20   Mobug   Blue         19.2\n",
      "21   Lobug  Brown         14.1\n",
      "22   Lobug  Green         18.8\n",
      "23   Mobug   Blue         13.1\n",
      "\n",
      "bugs is of type <class 'pandas.core.frame.DataFrame'>\n",
      "\n",
      "There are a total of 24 bugs.\n",
      "\n",
      "24 Species:\n",
      "Species\n",
      "Lobug    14\n",
      "Mobug    10\n",
      "Name: Species, dtype: int64\n",
      "\n",
      "24 Colors:\n",
      "Color\n",
      "Blue     10\n",
      "Brown     6\n",
      "Green     8\n",
      "Name: Color, dtype: int64\n",
      "\n",
      "species, colors, and lengths are of type <class 'pandas.core.series.Series'>\n"
     ]
    }
   ],
   "source": [
    "import pandas as pd\n",
    "bugs = pd.read_csv('ml-bugs.csv')\n",
    "print(bugs)\n",
    "print(\"\\nbugs is of type {}\".format(type(bugs)))\n",
    "\n",
    "num_total = bugs['Species'].size\n",
    "print(\"\\nThere are a total of {} bugs.\".format(num_total))\n",
    "\n",
    "species = bugs.groupby(['Species'])['Species'].count()\n",
    "print(\"\\n{} Species:\\n{}\".format(num_total, species))\n",
    "\n",
    "colors = bugs.groupby(['Color'])['Color'].count()\n",
    "print(\"\\n{} Colors:\\n{}\".format(num_total, colors))\n",
    "\n",
    "blue_bugs = bugs[bugs['Color'] == 'Blue'].groupby(['Species'])['Species'].count()\n",
    "not_blue_bugs = bugs[bugs['Color'] != 'Blue'].groupby(['Species'])['Species'].count()\n",
    "\n",
    "brown_bugs = bugs[bugs['Color'] == 'Brown'].groupby(['Species'])['Species'].count()\n",
    "not_brown_bugs = bugs[bugs['Color'] != 'Brown'].groupby(['Species'])['Species'].count()\n",
    "\n",
    "green_bugs = bugs[bugs['Color'] == 'Green'].groupby(['Species'])['Species'].count()\n",
    "not_green_bugs = bugs[bugs['Color'] != 'Green'].groupby(['Species'])['Species'].count()\n",
    "\n",
    "length17_bugs = bugs[bugs['Length (mm)'] < 17].groupby(['Species'])['Species'].count()\n",
    "not_length17_bugs = bugs[bugs['Length (mm)'] >= 17].groupby(['Species'])['Species'].count()\n",
    "\n",
    "length20_bugs = bugs[bugs['Length (mm)'] < 20].groupby(['Species'])['Species'].count()\n",
    "not_length20_bugs = bugs[bugs['Length (mm)'] >= 20].groupby(['Species'])['Species'].count()\n",
    "\n",
    "print(\"\\nspecies, colors, and lengths are of type {}\".format(type(species)))"
   ]
  },
  {
   "cell_type": "code",
   "execution_count": 4,
   "metadata": {},
   "outputs": [],
   "source": [
    "import math\n",
    "\n",
    "def entropy(elements):\n",
    "    \n",
    "    counts = list()\n",
    "    counts_sum = 0\n",
    "    entropy = 0\n",
    "    \n",
    "    for element in elements.iteritems():\n",
    "        counts.append(element[1])         # put all counts in a list\n",
    "        counts_sum += element[1]          # add all counts\n",
    "        \n",
    "    #print(\"elements = {}\".format(elements))\n",
    "    #print(\"counts = {}, sum = {}\".format(counts, counts_sum))\n",
    "    \n",
    "    for count in counts:\n",
    "        probability = count / counts_sum\n",
    "        entropy -= probability*math.log2(probability)\n",
    "        \n",
    "    return pd.Series(data = [counts_sum, entropy], index = ['total', 'entropy'])\n",
    "\n",
    "def information_gain(parent, child1, child2):\n",
    "    p = entropy(parent)\n",
    "    num_p = p['total']\n",
    "    p_entropy = p['entropy']\n",
    "    \n",
    "    c1 = entropy(child1)\n",
    "    num_c1 = c1['total']\n",
    "    c1_entropy = c1['entropy']\n",
    "    \n",
    "    c2 = entropy(child2)\n",
    "    num_c2 = c2['total']\n",
    "    c2_entropy = c2['entropy']\n",
    "    \n",
    "    return p_entropy - (num_c1/num_p*c1_entropy + num_c2/num_p*c2_entropy)"
   ]
  },
  {
   "cell_type": "code",
   "execution_count": 5,
   "metadata": {},
   "outputs": [
    {
     "name": "stdout",
     "output_type": "stream",
     "text": [
      "Split Blue Information Gain = 0.00059\n",
      "Split Brown Information Gain = 0.06157\n",
      "Split Green Information Gain = 0.04278\n",
      "Split < 17 Information Gain = 0.11261\n",
      "Split < 20 Information Gain = 0.10073\n"
     ]
    }
   ],
   "source": [
    "print(\"Split Blue Information Gain = {}\".format(round(information_gain(species, blue_bugs, not_blue_bugs), 5)))\n",
    "print(\"Split Brown Information Gain = {}\".format(round(information_gain(species, brown_bugs, not_brown_bugs), 5)))\n",
    "print(\"Split Green Information Gain = {}\".format(round(information_gain(species, green_bugs, not_green_bugs), 5)))\n",
    "print(\"Split < 17 Information Gain = {}\".format(round(information_gain(species, length17_bugs, not_length17_bugs), 5)))\n",
    "print(\"Split < 20 Information Gain = {}\".format(round(information_gain(species, length20_bugs, not_length20_bugs), 5)))"
   ]
  },
  {
   "cell_type": "code",
   "execution_count": 5,
   "metadata": {},
   "outputs": [
    {
     "name": "stdout",
     "output_type": "stream",
     "text": [
      "Ptp = 9.900000000000001e-05\n",
      "Pfn = 1.0000000000000002e-06\n",
      "\n",
      "Ptn = 0.989901\n",
      "Pfn = 0.009999000000000001\n",
      "\n",
      "The probability of a person tested positive of being sick is 0.9803921568627451 %\n"
     ]
    }
   ],
   "source": [
    "# Prior:\n",
    "## 0.01 % of the population suffers from the disease\n",
    "## A test predicts that a sick person is sick 99 % of the time (sensitivity)\n",
    "## and that a healthy person is healthy 99 % of the time (specificity)\n",
    "P_positive = 0.0001\n",
    "P_negative = 0.9999\n",
    "\n",
    "P_true_positive = 0.99 * P_positive\n",
    "P_false_negative = 0.01 * P_positive\n",
    "P_true_negative = 0.99 * P_negative\n",
    "P_false_positive = 0.01 * P_negative\n",
    "print(\"Ptp = {}\\nPfn = {}\\n\\nPtn = {}\\nPfn = {}\".format(\n",
    "    P_true_positive, P_false_negative, P_true_negative, P_false_positive))\n",
    "\n",
    "# Posterior: A person tested positive\n",
    "P_positive_true = P_true_positive / (P_true_positive + P_false_positive)\n",
    "\n",
    "print(\"\\nThe probability of a person tested positive of being sick is {} %\".format(P_positive_true * 100))"
   ]
  },
  {
   "cell_type": "code",
   "execution_count": 6,
   "metadata": {},
   "outputs": [
    {
     "name": "stdout",
     "output_type": "stream",
     "text": [
      "The probability of the dice w/ 3 being standard is 0.429.\n"
     ]
    }
   ],
   "source": [
    "# Prior:\n",
    "## 3 standard dice w/ values[1, 2, 3, 4, 5, 6]\n",
    "## 2 non-standard dice w/ values [2, 3, 3, 4, 4, 5]\n",
    "P_std = 3/5\n",
    "P_3_std = 1/6\n",
    "P_non_std = 2/5\n",
    "P_3_non_std = 2/6\n",
    "\n",
    "#Posterior: someone draws a 3\n",
    "P_std_3 = P_3_std * P_std\n",
    "P_non_std_3 = P_3_non_std * P_non_std\n",
    "P_std_3_norm = P_std_3 / (P_std_3 + P_non_std_3)\n",
    "\n",
    "print(\"The probability of the dice w/ 3 being standard is {}.\".format(round(P_std_3_norm, 3)))"
   ]
  },
  {
   "cell_type": "code",
   "execution_count": 11,
   "metadata": {},
   "outputs": [
    {
     "data": {
      "image/png": "[encoded data removed]",
      "text/plain": [
       "<Figure size 432x288 with 1 Axes>"
      ]
     },
     "metadata": {
      "needs_background": "light"
     },
     "output_type": "display_data"
    }
   ],
   "source": [
    "import matplotlib.pyplot as plt\n",
    "import numpy as np\n",
    "\n",
    "x = np.arange(0.005, 0.995, 0.001)\n",
    "y = np.log(x / (1 - x))\n",
    "\n",
    "plt.xlabel(\"accuracy\")\n",
    "plt.ylabel(\"weight\")\n",
    "plt.plot(x, y)\n",
    "plt.show()"
   ]
  },
  {
   "cell_type": "code",
   "execution_count": 15,
   "metadata": {},
   "outputs": [
    {
     "name": "stdout",
     "output_type": "stream",
     "text": [
      "Quiz 1: weight =  1.95\n"
     ]
    }
   ],
   "source": [
    "accuracy = 7/8\n",
    "weight = np.log(accuracy/(1 - accuracy))\n",
    "print(\"Quiz 1: weight = \", round(weight, 2))"
   ]
  },
  {
   "cell_type": "code",
   "execution_count": 16,
   "metadata": {},
   "outputs": [
    {
     "name": "stdout",
     "output_type": "stream",
     "text": [
      "Quiz 2: weight =  0.0\n"
     ]
    }
   ],
   "source": [
    "accuracy = 4/8\n",
    "weight = np.log(accuracy/(1 - accuracy))\n",
    "print(\"Quiz 2: weight = \", round(weight, 2))"
   ]
  },
  {
   "cell_type": "code",
   "execution_count": 17,
   "metadata": {},
   "outputs": [
    {
     "name": "stdout",
     "output_type": "stream",
     "text": [
      "Quiz 3: weight =  -1.1\n"
     ]
    }
   ],
   "source": [
    "accuracy = 2/8\n",
    "weight = np.log(accuracy/(1 - accuracy))\n",
    "print(\"Quiz 3: weight = \", round(weight, 2))"
   ]
  },
  {
   "cell_type": "code",
   "execution_count": 4,
   "metadata": {},
   "outputs": [
    {
     "name": "stdout",
     "output_type": "stream",
     "text": [
      "Accuracy =  78.57\n"
     ]
    }
   ],
   "source": [
    "print (\"Accuracy = \", format(round((6 + 5)/14*100, 2)))"
   ]
  },
  {
   "cell_type": "code",
   "execution_count": 5,
   "metadata": {},
   "outputs": [
    {
     "name": "stdout",
     "output_type": "stream",
     "text": [
      "F1 Score =  66.7\n"
     ]
    }
   ],
   "source": [
    "print(\"F1 Score = \", format(round(2*55.6*83.3/(55.6 + 83.3),1)))"
   ]
  },
  {
   "cell_type": "code",
   "execution_count": 4,
   "metadata": {},
   "outputs": [
    {
     "data": {
      "text/plain": [
       "9"
      ]
     },
     "execution_count": 4,
     "metadata": {},
     "output_type": "execute_result"
    }
   ],
   "source": [
    "int(970/100.0)"
   ]
  },
  {
   "cell_type": "code",
   "execution_count": 7,
   "metadata": {},
   "outputs": [
    {
     "name": "stdout",
     "output_type": "stream",
     "text": [
      "For data point [1, 1], probability = 0.5\n",
      "For data point [2, 4], probability = 1.0\n",
      "For data point [5, -5], probability = 0.0\n",
      "For data point [-4, 5], probability = 0.5\n"
     ]
    }
   ],
   "source": [
    "import math\n",
    "\n",
    "def sigmoid(x):\n",
    "    return 1 / (1 + math.exp(-x))\n",
    "\n",
    "def step(X):\n",
    "    return 4*X[0] + 5*X[1] - 9\n",
    "\n",
    "data_points = [[1, 1], [2, 4], [5, -5], [-4, 5]]\n",
    "\n",
    "for dp in data_points:\n",
    "    print(\"For data point {}, probability = {}\".format(dp, round(sigmoid(step(dp)), 4)))"
   ]
  },
  {
   "cell_type": "code",
   "execution_count": 9,
   "metadata": {},
   "outputs": [
    {
     "name": "stdout",
     "output_type": "stream",
     "text": [
      "0.69\n"
     ]
    }
   ],
   "source": [
    "import numpy as np\n",
    "\n",
    "def cross_entropy(Y, P):\n",
    "    ce = 0\n",
    "    \n",
    "    for y, p in zip(Y, P):\n",
    "        ce -= y*np.log(p) + (1 - y)*np.log(1 - p)\n",
    "    \n",
    "    return ce\n",
    "\n",
    "print(round(cross_entropy([1, 1, 0], [0.8, 0.7, 0.1]), 2))"
   ]
  },
  {
   "cell_type": "code",
   "execution_count": 12,
   "metadata": {},
   "outputs": [
    {
     "name": "stdout",
     "output_type": "stream",
     "text": [
      "For w1 = 2, w2 = 6, and b = -2, P = 0.92\n",
      "For w1 = 3, w2 = 5, and b = -2.2, P = 0.88\n",
      "For w1 = 5, w2 = 4, and b = -3, P = 0.8\n"
     ]
    }
   ],
   "source": [
    "import numpy as np\n",
    "\n",
    "def sigmoid(x):\n",
    "    return 1 / (1 + np.exp(-x))\n",
    "\n",
    "W1 = [2, 3, 5]\n",
    "W2 = [6, 5, 4]\n",
    "B = [-2, -2.2, -3]\n",
    "\n",
    "for w1, w2, b in zip(W1, W2, B):\n",
    "    print(\"For w1 = {}, w2 = {}, and b = {}, P = {}\".format(\n",
    "        w1, w2, b, round(sigmoid(w1*0.4 + w2 *0.6 + b), 2)))"
   ]
  }
 ],
 "metadata": {
  "kernelspec": {
   "display_name": "Python 3",
   "language": "python",
   "name": "python3"
  },
  "language_info": {
   "codemirror_mode": {
    "name": "ipython",
    "version": 3
   },
   "file_extension": ".py",
   "mimetype": "text/x-python",
   "name": "python",
   "nbconvert_exporter": "python",
   "pygments_lexer": "ipython3",
   "version": "3.7.1"
  }
 },
 "nbformat": 4,
 "nbformat_minor": 2
}
