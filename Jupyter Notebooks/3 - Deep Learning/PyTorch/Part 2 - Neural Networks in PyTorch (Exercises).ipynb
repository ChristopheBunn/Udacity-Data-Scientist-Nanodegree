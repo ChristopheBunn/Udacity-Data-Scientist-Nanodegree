{
 "cells": [
  {
   "cell_type": "markdown",
   "metadata": {},
   "source": [
    "# Neural networks with PyTorch\n",
    "\n",
    "Deep learning networks tend to be massive with dozens or hundreds of layers, that's where the term \"deep\" comes from. You can build one of these deep networks using only weight matrices as we did in the previous notebook, but in general it's very cumbersome and difficult to implement. PyTorch has a nice module `nn` that provides a nice way to efficiently build large neural networks."
   ]
  },
  {
   "cell_type": "code",
   "execution_count": 1,
   "metadata": {},
   "outputs": [],
   "source": [
    "# Import necessary packages\n",
    "\n",
    "%matplotlib inline\n",
    "%config InlineBackend.figure_format = 'retina'\n",
    "\n",
    "import numpy as np\n",
    "import torch\n",
    "\n",
    "import helper\n",
    "\n",
    "import matplotlib.pyplot as plt"
   ]
  },
  {
   "cell_type": "markdown",
   "metadata": {},
   "source": [
    "\n",
    "Now we're going to build a larger network that can solve a (formerly) difficult problem, identifying text in an image. Here we'll use the MNIST dataset which consists of greyscale handwritten digits. Each image is 28x28 pixels, you can see a sample below\n",
    "\n",
    "<img src='assets/mnist.png'>\n",
    "\n",
    "Our goal is to build a neural network that can take one of these images and predict the digit in the image.\n",
    "\n",
    "First up, we need to get our dataset. This is provided through the `torchvision` package. The code below will download the MNIST dataset, then create training and test datasets for us. Don't worry too much about the details here, you'll learn more about this later."
   ]
  },
  {
   "cell_type": "code",
   "execution_count": 2,
   "metadata": {},
   "outputs": [],
   "source": [
    "from torchvision import datasets, transforms\n",
    "\n",
    "# Define a transform to normalize the data\n",
    "transform = transforms.Compose([transforms.ToTensor(),\n",
    "                              transforms.Normalize((0.5,), (0.5,)),\n",
    "                              ])\n",
    "\n",
    "# Download and load the training data\n",
    "trainset = datasets.MNIST('~/.pytorch/MNIST_data/', download=True, train=True, transform=transform)\n",
    "trainloader = torch.utils.data.DataLoader(trainset, batch_size=64, shuffle=True)"
   ]
  },
  {
   "cell_type": "markdown",
   "metadata": {},
   "source": [
    "We have the training data loaded into `trainloader` and we make that an iterator with `iter(trainloader)`. Later, we'll use this to loop through the dataset for training, like\n",
    "\n",
    "```python\n",
    "for image, label in trainloader:\n",
    "    ## do things with images and labels\n",
    "```\n",
    "\n",
    "You'll notice I created the `trainloader` with a batch size of 64, and `shuffle=True`. The batch size is the number of images we get in one iteration from the data loader and pass through our network, often called a *batch*. And `shuffle=True` tells it to shuffle the dataset every time we start going through the data loader again. But here I'm just grabbing the first batch so we can check out the data. We can see below that `images` is just a tensor with size `(64, 1, 28, 28)`. So, 64 images per batch, 1 color channel, and 28x28 images."
   ]
  },
  {
   "cell_type": "code",
   "execution_count": 3,
   "metadata": {},
   "outputs": [
    {
     "name": "stdout",
     "output_type": "stream",
     "text": [
      "<class 'torch.Tensor'>\n",
      "torch.Size([64, 1, 28, 28])\n",
      "torch.Size([64])\n"
     ]
    }
   ],
   "source": [
    "dataiter = iter(trainloader)\n",
    "images, labels = dataiter.next()\n",
    "print(type(images))\n",
    "print(images.shape)\n",
    "print(labels.shape)"
   ]
  },
  {
   "cell_type": "markdown",
   "metadata": {},
   "source": [
    "This is what one of the images looks like. "
   ]
  },
  {
   "cell_type": "code",
   "execution_count": 4,
   "metadata": {},
   "outputs": [
    {
     "data": {
      "image/png": "[encoded data removed]",
      "text/plain": [
       "<matplotlib.figure.Figure at 0x7f9bbc1eeb70>"
      ]
     },
     "metadata": {
      "image/png": {
       "height": 250,
       "width": 253
      },
      "needs_background": "light"
     },
     "output_type": "display_data"
    }
   ],
   "source": [
    "plt.imshow(images[1].numpy().squeeze(), cmap='Greys_r');"
   ]
  },
  {
   "cell_type": "markdown",
   "metadata": {},
   "source": [
    "First, let's try to build a simple network for this dataset using weight matrices and matrix multiplications. Then, we'll see how to do it using PyTorch's `nn` module which provides a much more convenient and powerful method for defining network architectures.\n",
    "\n",
    "The networks you've seen so far are called *fully-connected* or *dense* networks. Each unit in one layer is connected to each unit in the next layer. In fully-connected networks, the input to each layer must be a one-dimensional vector (which can be stacked into a 2D tensor as a batch of multiple examples). However, our images are 28x28 2D tensors, so we need to convert them into 1D vectors. Thinking about sizes, we need to convert the batch of images with shape `(64, 1, 28, 28)` to a have a shape of `(64, 784)`, 784 is 28 times 28. This is typically called *flattening*, we flattened the 2D images into 1D vectors.\n",
    "\n",
    "Previously you built a network with one output unit. Here we need 10 output units, one for each digit. We want our network to predict the digit shown in an image, so what we'll do is calculate probabilities that the image is of any one digit or class. This ends up being a discrete probability distribution over the classes (digits) that tells us the most likely class for the image. That means we need 10 output units for the 10 classes (digits). We'll see how to convert the network output into a probability distribution next.\n",
    "\n",
    "> **Exercise:** Flatten the batch of images `images`. Then build a multi-layer network with 784 input units, 256 hidden units, and 10 output units using random tensors for the weights and biases. For now, use a sigmoid activation for the hidden layer. Leave the output layer without an activation, we'll add one that gives us a probability distribution next."
   ]
  },
  {
   "cell_type": "code",
   "execution_count": 5,
   "metadata": {},
   "outputs": [
    {
     "name": "stdout",
     "output_type": "stream",
     "text": [
      "Images shape = (64, 1)\n",
      "Flat Images shape = (64, 784)\n",
      "Shapes: w1 = (784, 256), b1 = (256), w2 = (256, 10), b2 = (10)\n",
      "h shape =  torch.Size([64, 256])\n",
      "out shape = torch.Size([64, 10])\n",
      "\n",
      "out = \n",
      " tensor([[ -3.5109,   6.5580,   8.8151,  -7.6260, -34.4464,  18.1101,\n",
      "          -0.6833,   1.2226,   0.3044,   2.7119],\n",
      "        [ -0.0637,   5.7631,  16.4741, -12.7893, -23.9026,  23.7304,\n",
      "         -10.4556,  -2.0415,  -4.3160,   6.1358],\n",
      "        [  3.7681,  -6.7417,  11.8930,  -4.5093, -17.2215,  24.2103,\n",
      "           5.0708,   5.9827,  -4.3004,   4.8377],\n",
      "        [ -6.8543,  11.8221,  13.5742,  -7.1521, -26.7969,  22.4407,\n",
      "           7.7907,   3.4296,   2.4170,   4.2016],\n",
      "        [ -6.9161,   2.8744,  10.1329,   1.8633, -22.8281,  21.8644,\n",
      "          13.6606,  -6.5995, -11.3162,   0.4293],\n",
      "        [ -8.5432,   9.6129,  10.3208,   4.2418, -32.4651,  23.1190,\n",
      "           6.5717,  -3.0348,   0.6790,   4.4786],\n",
      "        [ -5.2803,   5.0718,   7.7992,  -9.6276, -24.3514,  14.7370,\n",
      "           0.6421,  -0.8913,  -9.4861,   0.2747],\n",
      "        [ -4.2336,   5.6636,   2.3397,   4.1344, -21.1037,  33.6211,\n",
      "          -4.2608,  -0.4578,  -3.5910,   3.4827],\n",
      "        [  5.5752,   7.5442,  11.2034,  -8.2256, -24.4893,  19.3550,\n",
      "           4.8334,  -1.1832, -10.4082,  12.6702],\n",
      "        [ -3.4611,   2.3032,  16.9794,  -7.6762, -19.7351,  20.2880,\n",
      "          -7.8790,  -0.1839,  -8.0166,   7.4800],\n",
      "        [-10.2966,  -0.4368,   4.7688,  -5.5812, -25.8443,  13.8411,\n",
      "           2.1513,  -7.4014,  -8.3373,  -2.5154],\n",
      "        [ -7.0268,   0.3975,  12.6275, -20.9931, -31.8871,  25.8976,\n",
      "           0.9498,  -0.5760,  -3.5310,  -6.2555],\n",
      "        [  4.1228,  -2.3618,  17.2342, -13.6962, -22.2171,  22.0292,\n",
      "          -2.0012, -15.9275,   1.8697,  10.4113],\n",
      "        [ -2.5883,  -8.1141,  15.8035,   0.1126, -24.7865,  24.8852,\n",
      "          -0.6418,  -5.2594, -12.8556,   2.9839],\n",
      "        [ -7.6501,   2.3610,   5.4948,   1.2000, -20.0772,  28.7247,\n",
      "           0.6540,  -5.7666,  -5.5995,  -0.3452],\n",
      "        [ -3.7093,  -5.0978,  17.5434,  -3.7007, -20.1291,  21.6852,\n",
      "           4.0777,   2.7274,  -5.6752,  -1.4604],\n",
      "        [-11.0696,   0.6691,   7.3710,  -5.6370, -24.2712,  27.4381,\n",
      "           3.7592, -10.2730,  -8.2883,  -1.0828],\n",
      "        [ -4.6568,   3.1162,  10.4369,  -4.0721, -20.7969,  24.2115,\n",
      "           2.2146,  -2.6046,  -6.3175,  13.0276],\n",
      "        [ -8.5597,  -2.5619,  16.1487,  -9.4895, -21.1631,  28.9516,\n",
      "           3.8794, -13.3140,  -3.5278,  -0.8658],\n",
      "        [  2.9891,   4.0051,  20.0766, -11.8538, -26.7658,  11.3968,\n",
      "          -1.2528,  -6.3521,  -0.1169,   6.0693],\n",
      "        [  1.4016,   1.6857,  11.5467,  -2.9513, -22.8576,  33.0132,\n",
      "          12.7078,  -7.1524,   1.7692,   5.6713],\n",
      "        [ 11.6083,   6.8614,  12.2917,  -5.4406, -23.5540,  21.5962,\n",
      "           8.4075,  -4.7664,  -4.4481,   2.9468],\n",
      "        [-14.9617,   8.0486,   6.5459,  -9.0479, -25.7489,  25.4951,\n",
      "           4.1805,  -5.2715,   1.7331,   9.0126],\n",
      "        [-15.5784,  -6.1350,   7.7552,  -4.9134, -23.1217,  27.2518,\n",
      "           8.1643,  -3.4979,  -8.6822,  -1.9811],\n",
      "        [ -0.2988,   3.3440,  29.3355,  -0.6235, -18.4495,  22.6480,\n",
      "           1.5754,   0.3558, -10.2364,  15.6948],\n",
      "        [-13.6558,   6.7362,   6.3874,  -6.2336, -19.9815,  19.7304,\n",
      "          11.9782,  -5.2125,  -3.8313,  -0.0391],\n",
      "        [ -2.4390,   0.1623,  12.8381,  -0.7571, -21.2145,  22.5902,\n",
      "           5.6432,  -4.7875, -10.3549,   1.2867],\n",
      "        [ -3.1734,  -2.8406,  12.4504, -11.4413, -14.3037,  32.8839,\n",
      "           7.2092,  -5.8250,  -8.7852,   1.3195],\n",
      "        [ -7.9172,   1.7555,   6.3409,  -4.8435, -25.5644,  19.7292,\n",
      "          -2.5169,  -3.3054, -14.4353,   3.5550],\n",
      "        [  2.2128,  -1.1191,  11.2413, -11.5155, -25.1916,  29.6152,\n",
      "          -3.8028,  -5.2778,  -8.8350,  -3.6595],\n",
      "        [  0.0565,  -2.3329,  22.0464, -15.2987, -19.9907,  29.7543,\n",
      "           1.4953,  -3.0089,  -3.0431,   3.9139],\n",
      "        [ -1.5699,   5.5713,  18.9763,  -4.9357, -20.9599,  16.6708,\n",
      "           3.5917,   1.3230,  -3.2553,   4.0810],\n",
      "        [ -0.5017,  10.3290,  15.9772,  -1.2689, -19.3510,  24.5933,\n",
      "           3.5715,  -8.1254,   1.5782,  -3.3937],\n",
      "        [  0.9695,  -0.9458,  14.0461,   2.0815, -24.9347,  26.4676,\n",
      "          -0.5936,  -4.6668, -10.0087,   7.4944],\n",
      "        [  1.3277,   7.0138,  17.4378,  -1.3444, -17.1069,  16.0179,\n",
      "          -6.7480,  -1.4949, -13.3555,   5.9271],\n",
      "        [  0.4506,   5.0792,  13.9694,  -5.7651, -22.1001,  14.9548,\n",
      "          -0.0357,  -5.3060,  -8.3784,   0.2452],\n",
      "        [  4.3727,   3.2235,  12.2450,   0.5520, -19.8334,  18.8461,\n",
      "          17.5688,  -7.6424, -11.7835,   2.3387],\n",
      "        [-11.2667,   5.3790,   4.6357,  -6.7690, -27.7077,  18.3472,\n",
      "          10.1480,  -8.9312,   1.7417,   3.8027],\n",
      "        [  1.0389,   7.4547,  18.4025,  -6.5001, -14.8364,  22.2595,\n",
      "           0.4928,  -4.1007,  -1.5135,   3.6124],\n",
      "        [ -4.6097,   2.9405,  14.1166,   1.0790, -24.1698,  21.0551,\n",
      "           0.4029,  -4.1157, -12.3109,   0.5078],\n",
      "        [  1.3672,   6.1956,  16.1542,  -7.3557, -23.3270,  19.8398,\n",
      "          10.1230,   9.0675,  -1.8797,   7.0161],\n",
      "        [ -0.6999,   4.6784,  17.6048,  -9.6790, -15.6041,  23.2927,\n",
      "           7.2933,   4.0415,  -7.5332,  13.2937],\n",
      "        [-18.5436,  12.4907,   0.7766,  -6.4760, -23.7860,  28.6645,\n",
      "           7.5654,  -2.3904,  -1.7510,   8.0592],\n",
      "        [ -0.5828,  -5.1163,   3.4055,  -5.1471, -15.1722,  18.0619,\n",
      "          -4.2909,  -2.6066, -10.4392,  -5.3074],\n",
      "        [ -2.4869,  -0.4709,  11.4336,  -2.3979,  -7.3565,  16.2546,\n",
      "          -2.4233, -10.3953, -13.7674,  13.1717],\n",
      "        [ -4.9937,   6.2302,   6.5033,  -1.1396, -21.7002,  19.2059,\n",
      "         -10.0656,  -0.5769,  -7.7505,   1.8029],\n",
      "        [  0.9523,  -1.5375,  11.1248, -13.8370, -26.4788,  27.4382,\n",
      "           5.6351,   5.7383,  -2.6748,   2.9726],\n",
      "        [ -1.8573,   2.7389,  11.9208,  -4.9505, -24.0936,  26.7302,\n",
      "           2.7976,  -9.9383,  -7.5954,   2.6645],\n",
      "        [ -9.5994,   4.2631,   0.2263,  -0.2087, -29.1011,  21.9085,\n",
      "           0.5518,  -1.7187,  -3.8153,  -4.0781],\n",
      "        [-10.1961,   9.0769,  12.1085,  -2.3746, -19.7327,  17.2883,\n",
      "           1.0151,  -6.2909, -10.1140,   3.1749],\n",
      "        [  0.7012,  13.0355,  13.1217,  -4.9831, -22.1618,  21.0310,\n",
      "           2.3870,   4.4779,  -0.4478,   4.8124],\n",
      "        [ -3.4184,   3.7913,  13.5142,  -8.1909, -20.3181,  25.2119,\n",
      "           7.1912,   2.3891,  -1.9114,   3.1354],\n",
      "        [ -6.9494,   7.1225,   4.9030,  -1.0451, -18.8497,  29.2832,\n",
      "          -0.0552,  -6.9791,  -5.9598,   9.1668],\n",
      "        [ -0.1154,  -6.5263,  18.1476, -16.8105, -19.5254,  20.1409,\n",
      "          -2.7673, -13.9921, -15.4320,   1.9490],\n",
      "        [ -0.1732,   7.1168,   0.9620,  -9.8137, -25.6351,  26.2156,\n",
      "           0.4079,   2.5750,  -1.9089,  10.9385],\n",
      "        [ -8.7777,   1.0659,   1.9800,   4.8613, -29.7569,  22.3606,\n",
      "          -3.1547,  -1.9969,   3.1541,   6.5068],\n",
      "        [ -3.5772,   5.8962,   8.3409, -10.6073, -19.4179,  27.8042,\n",
      "           3.2487,   3.6684, -11.9827,   3.5703],\n",
      "        [  3.7065,   2.1896,  12.5668,  -7.2009, -19.9796,  22.7508,\n",
      "          -0.7070,  -3.3687, -12.8686,   3.1208],\n",
      "        [-15.7652,   3.9538,  21.1861,  -6.0292,  -8.4080,  24.9135,\n",
      "          -7.0358, -12.8386,  -1.4825,  12.6510],\n",
      "        [ -8.4177,   9.2281,  20.7293, -10.0839, -14.4602,  27.0457,\n",
      "          10.7145, -11.5397, -14.4840,  -0.2598],\n",
      "        [ -2.0328,   3.1402,   0.5735,  -3.6972, -22.5250,  23.4332,\n",
      "           3.4885,  -9.2246,  -7.2945,  -3.8131],\n",
      "        [ -2.0060,  -0.6408,  15.7661,  -1.3506, -18.7250,  18.5537,\n",
      "          12.9071,  -7.5265,   0.3970,   0.5631],\n",
      "        [  8.3849,  10.6034,   7.6911,   5.6366, -18.6239,  26.1283,\n",
      "           1.3237,  -0.1406,  -4.4390,  12.9898],\n",
      "        [ -9.5014,   1.6400,  17.1841,  -2.1384, -21.3734,  19.7675,\n",
      "           4.8832,  -6.3694,   0.1164,  -8.0040]])\n"
     ]
    }
   ],
   "source": [
    "def sigmoid_activation(x):\n",
    "    return 1/(1 + torch.exp(-x))\n",
    "\n",
    "# Flatten the batch of images\n",
    "old_shape = images.shape                                 # (64, 1, 28, 28)\n",
    "new_shape = (old_shape[0], old_shape[2]*old_shape[3])    # (64, 784)\n",
    "inputs = images.reshape(new_shape)\n",
    "# INSTRUCTOR'S SOLUTION: -1 tells the function to figure out on its own how many elements are needed to fit the data\n",
    "# flat_images = images.view(images.shape[0], -1)\n",
    "\n",
    "print(\"Images shape = ({}, {})\".format(old_shape[0], old_shape[1]))\n",
    "print(\"Flat Images shape = ({}, {})\".format(inputs.shape[0], inputs.shape[1]))\n",
    "\n",
    "# Initialize the weights randomly\n",
    "num_inputs = inputs.shape[1]    # 784\n",
    "num_hidden = 256\n",
    "num_outputs = 10\n",
    "\n",
    "torch.manual_seed(32)\n",
    "w1 = torch.randn(num_inputs, num_hidden)\n",
    "b1 = torch.randn(num_hidden)\n",
    "w2 = torch.randn(num_hidden, num_outputs)\n",
    "b2 = torch.randn(num_outputs)\n",
    "print(\"Shapes: w1 = ({}, {}), b1 = ({}), w2 = ({}, {}), b2 = ({})\".format(\n",
    "      w1.shape[0], w1.shape[1], b1.shape[0], w2.shape[0], w2.shape[1], b2.shape[0]))\n",
    "\n",
    "h = sigmoid_activation(torch.mm(inputs, w1) + b1)\n",
    "print(\"h shape = \", format(h.shape))\n",
    "out = torch.mm(h, w2) + b2                  # no activation function for the output yet\n",
    "print(\"out shape = {}\\n\".format(out.shape))    # (64,10)\n",
    "print(\"out = \\n\", format(out))"
   ]
  },
  {
   "cell_type": "markdown",
   "metadata": {},
   "source": [
    "Now we have 10 outputs for our network. We want to pass in an image to our network and get out a probability distribution over the classes that tells us the likely class(es) the image belongs to. Something that looks like this:\n",
    "<img src='assets/image_distribution.png' width=500px>\n",
    "\n",
    "Here we see that the probability for each class is roughly the same. This is representing an untrained network, it hasn't seen any data yet so it just returns a uniform distribution with equal probabilities for each class.\n",
    "\n",
    "To calculate this probability distribution, we often use the [**softmax** function](https://en.wikipedia.org/wiki/Softmax_function). Mathematically this looks like\n",
    "\n",
    "$$\n",
    "\\Large \\sigma(x_i) = \\cfrac{e^{x_i}}{\\sum_k^K{e^{x_k}}}\n",
    "$$\n",
    "\n",
    "What this does is squish each input $x_i$ between 0 and 1 and normalizes the values to give you a proper probability distribution where the probabilites sum up to one.\n",
    "\n",
    "> **Exercise:** Implement a function `softmax` that performs the softmax calculation and returns probability distributions for each example in the batch. Note that you'll need to pay attention to the shapes when doing this. If you have a tensor `a` with shape `(64, 10)` and a tensor `b` with shape `(64,)`, doing `a/b` will give you an error because PyTorch will try to do the division across the columns (called broadcasting) but you'll get a size mismatch. The way to think about this is for each of the 64 examples, you only want to divide by one value, the sum in the denominator. So you need `b` to have a shape of `(64, 1)`. This way PyTorch will divide the 10 values in each row of `a` by the one value in each row of `b`. Pay attention to how you take the sum as well. You'll need to define the `dim` keyword in `torch.sum`. Setting `dim=0` takes the sum across the rows while `dim=1` takes the sum across the columns."
   ]
  },
  {
   "cell_type": "code",
   "execution_count": 6,
   "metadata": {},
   "outputs": [
    {
     "name": "stdout",
     "output_type": "stream",
     "text": [
      "torch.Size([64, 10])\n",
      "tensor([ 1.0000,  1.0000,  1.0000,  1.0000,  1.0000,  1.0000,  1.0000,\n",
      "         1.0000,  1.0000,  1.0000,  1.0000,  1.0000,  1.0000,  1.0000,\n",
      "         1.0000,  1.0000,  1.0000,  1.0000,  1.0000,  1.0000,  1.0000,\n",
      "         1.0000,  1.0000,  1.0000,  1.0000,  1.0000,  1.0000,  1.0000,\n",
      "         1.0000,  1.0000,  1.0000,  1.0000,  1.0000,  1.0000,  1.0000,\n",
      "         1.0000,  1.0000,  1.0000,  1.0000,  1.0000,  1.0000,  1.0000,\n",
      "         1.0000,  1.0000,  1.0000,  1.0000,  1.0000,  1.0000,  1.0000,\n",
      "         1.0000,  1.0000,  1.0000,  1.0000,  1.0000,  1.0000,  1.0000,\n",
      "         1.0000,  1.0000,  1.0000,  1.0000,  1.0000,  1.0000,  1.0000,\n",
      "         1.0000])\n"
     ]
    }
   ],
   "source": [
    "def softmax(x):\n",
    "    # Divide each 10-element row in the (64, 10) tensor by each of the 64-element values in the (64, 1) tensor\n",
    "    return torch.exp(x)/torch.sum(torch.exp(x), dim=1).view(-1, 1)\n",
    "\n",
    "# Here, out should be the output of the network in the previous excercise with shape (64,10)\n",
    "probabilities = softmax(out)\n",
    "\n",
    "# Does it have the right shape? Should be (64, 10)\n",
    "print(probabilities.shape)\n",
    "# Does it sum to 1?\n",
    "print(probabilities.sum(dim=1))"
   ]
  },
  {
   "cell_type": "markdown",
   "metadata": {},
   "source": [
    "## Building networks with PyTorch\n",
    "\n",
    "PyTorch provides a module `nn` that makes building networks much simpler. Here I'll show you how to build the same one as above with 784 inputs, 256 hidden units, 10 output units and a softmax output."
   ]
  },
  {
   "cell_type": "code",
   "execution_count": 7,
   "metadata": {},
   "outputs": [],
   "source": [
    "from torch import nn"
   ]
  },
  {
   "cell_type": "code",
   "execution_count": 8,
   "metadata": {},
   "outputs": [],
   "source": [
    "class Network(nn.Module):\n",
    "    def __init__(self):\n",
    "        super().__init__()\n",
    "        \n",
    "        # Inputs to hidden layer linear transformation\n",
    "        self.hidden = nn.Linear(784, 256)\n",
    "        # Output layer, 10 units - one for each digit\n",
    "        self.output = nn.Linear(256, 10)\n",
    "        \n",
    "        # Define sigmoid activation and softmax output \n",
    "        self.sigmoid = nn.Sigmoid()\n",
    "        self.softmax = nn.Softmax(dim=1)\n",
    "        \n",
    "    def forward(self, x):\n",
    "        # Pass the input tensor through each of our operations\n",
    "        x = self.hidden(x)\n",
    "        x = self.sigmoid(x)\n",
    "        x = self.output(x)\n",
    "        x = self.softmax(x)\n",
    "        \n",
    "        return x"
   ]
  },
  {
   "cell_type": "markdown",
   "metadata": {},
   "source": [
    "Let's go through this bit by bit.\n",
    "\n",
    "```python\n",
    "class Network(nn.Module):\n",
    "```\n",
    "\n",
    "Here we're inheriting from `nn.Module`. Combined with `super().__init__()` this creates a class that tracks the architecture and provides a lot of useful methods and attributes. It is mandatory to inherit from `nn.Module` when you're creating a class for your network. The name of the class itself can be anything.\n",
    "\n",
    "```python\n",
    "self.hidden = nn.Linear(784, 256)\n",
    "```\n",
    "\n",
    "This line creates a module for a linear transformation, $x\\mathbf{W} + b$, with 784 inputs and 256 outputs and assigns it to `self.hidden`. The module automatically creates the weight and bias tensors which we'll use in the `forward` method. You can access the weight and bias tensors once the network (`net`) is created with `net.hidden.weight` and `net.hidden.bias`.\n",
    "\n",
    "```python\n",
    "self.output = nn.Linear(256, 10)\n",
    "```\n",
    "\n",
    "Similarly, this creates another linear transformation with 256 inputs and 10 outputs.\n",
    "\n",
    "```python\n",
    "self.sigmoid = nn.Sigmoid()\n",
    "self.softmax = nn.Softmax(dim=1)\n",
    "```\n",
    "\n",
    "Here I defined operations for the sigmoid activation and softmax output. Setting `dim=1` in `nn.Softmax(dim=1)` calculates softmax across the columns.\n",
    "\n",
    "```python\n",
    "def forward(self, x):\n",
    "```\n",
    "\n",
    "PyTorch networks created with `nn.Module` must have a `forward` method defined. It takes in a tensor `x` and passes it through the operations you defined in the `__init__` method.\n",
    "\n",
    "```python\n",
    "x = self.hidden(x)\n",
    "x = self.sigmoid(x)\n",
    "x = self.output(x)\n",
    "x = self.softmax(x)\n",
    "```\n",
    "\n",
    "Here the input tensor `x` is passed through each operation and reassigned to `x`. We can see that the input tensor goes through the hidden layer, then a sigmoid function, then the output layer, and finally the softmax function. It doesn't matter what you name the variables here, as long as the inputs and outputs of the operations match the network architecture you want to build. The order in which you define things in the `__init__` method doesn't matter, but you'll need to sequence the operations correctly in the `forward` method.\n",
    "\n",
    "Now we can create a `Network` object."
   ]
  },
  {
   "cell_type": "code",
   "execution_count": 9,
   "metadata": {},
   "outputs": [
    {
     "data": {
      "text/plain": [
       "Network(\n",
       "  (hidden): Linear(in_features=784, out_features=256, bias=True)\n",
       "  (output): Linear(in_features=256, out_features=10, bias=True)\n",
       "  (sigmoid): Sigmoid()\n",
       "  (softmax): Softmax()\n",
       ")"
      ]
     },
     "execution_count": 9,
     "metadata": {},
     "output_type": "execute_result"
    }
   ],
   "source": [
    "# Create the network and look at it's text representation\n",
    "model = Network()\n",
    "model"
   ]
  },
  {
   "cell_type": "markdown",
   "metadata": {},
   "source": [
    "You can define the network somewhat more concisely and clearly using the `torch.nn.functional` module. This is the most common way you'll see networks defined as many operations are simple element-wise functions. We normally import this module as `F`, `import torch.nn.functional as F`."
   ]
  },
  {
   "cell_type": "code",
   "execution_count": 10,
   "metadata": {},
   "outputs": [],
   "source": [
    "import torch.nn.functional as F\n",
    "\n",
    "class Network(nn.Module):\n",
    "    def __init__(self):\n",
    "        super().__init__()\n",
    "        # Inputs to hidden layer linear transformation\n",
    "        self.hidden = nn.Linear(784, 256)\n",
    "        # Output layer, 10 units - one for each digit\n",
    "        self.output = nn.Linear(256, 10)\n",
    "        \n",
    "    def forward(self, x):\n",
    "        # Hidden layer with sigmoid activation\n",
    "        x = F.sigmoid(self.hidden(x))\n",
    "        # Output layer with softmax activation\n",
    "        x = F.softmax(self.output(x), dim=1)\n",
    "        \n",
    "        return x"
   ]
  },
  {
   "cell_type": "markdown",
   "metadata": {},
   "source": [
    "### Activation functions\n",
    "\n",
    "So far we've only been looking at the softmax activation, but in general any function can be used as an activation function. The only requirement is that for a network to approximate a non-linear function, the activation functions must be non-linear. Here are a few more examples of common activation functions: Tanh (hyperbolic tangent), and ReLU (rectified linear unit).\n",
    "\n",
    "<img src=\"assets/activation.png\" width=700px>\n",
    "\n",
    "In practice, the ReLU function is used almost exclusively as the activation function for hidden layers."
   ]
  },
  {
   "cell_type": "markdown",
   "metadata": {},
   "source": [
    "### Your Turn to Build a Network\n",
    "\n",
    "<img src=\"assets/mlp_mnist.png\" width=600px>\n",
    "\n",
    "> **Exercise:** Create a network with 784 input units, a hidden layer with 128 units and a ReLU activation, then a hidden layer with 64 units and a ReLU activation, and finally an output layer with a softmax activation as shown above. You can use a ReLU activation with the `nn.ReLU` module or `F.relu` function."
   ]
  },
  {
   "cell_type": "code",
   "execution_count": 11,
   "metadata": {
    "scrolled": true
   },
   "outputs": [],
   "source": [
    "class buNN(nn.Module):\n",
    "    def __init__(self):\n",
    "        super().__init__()\n",
    "        self.hidden1 = nn.Linear(784, 128)\n",
    "        self.hidden2 = nn.Linear(128, 64)\n",
    "        self.output = nn.Linear(64, 10)\n",
    "        \n",
    "    def forward(self, x):\n",
    "        x = F.relu(self.hidden1(x))\n",
    "        x = F.relu(self.hidden2(x))\n",
    "        x = F.softmax(self.output(x), dim=1)\n",
    "        \n",
    "        return x"
   ]
  },
  {
   "cell_type": "markdown",
   "metadata": {},
   "source": [
    "### Initializing weights and biases\n",
    "\n",
    "The weights and such are automatically initialized for you, but it's possible to customize how they are initialized. The weights and biases are tensors attached to the layer you defined, you can get them with `model.fc1.weight` for instance."
   ]
  },
  {
   "cell_type": "code",
   "execution_count": 12,
   "metadata": {},
   "outputs": [
    {
     "name": "stdout",
     "output_type": "stream",
     "text": [
      "Parameter containing:\n",
      "tensor([[-2.7841e-02, -2.3588e-03, -2.9168e-03,  ...,  2.9404e-02,\n",
      "         -2.6003e-02,  1.9512e-02],\n",
      "        [-2.8034e-02, -1.1349e-02,  9.8548e-03,  ...,  2.1087e-02,\n",
      "          1.8931e-02,  2.7440e-02],\n",
      "        [-2.8275e-02,  2.8646e-02, -3.2144e-02,  ...,  4.5472e-03,\n",
      "          1.9448e-02, -3.0483e-02],\n",
      "        ...,\n",
      "        [ 2.4982e-02,  7.3504e-03, -1.3638e-02,  ..., -2.9136e-02,\n",
      "          1.3083e-02, -2.3961e-02],\n",
      "        [-3.3144e-02, -4.3139e-03,  4.3069e-03,  ...,  2.9679e-02,\n",
      "          1.4308e-02,  1.1381e-02],\n",
      "        [ 4.0084e-03,  1.2853e-02,  1.9832e-02,  ...,  2.2187e-02,\n",
      "         -8.2520e-03, -2.2182e-02]])\n",
      "Parameter containing:\n",
      "tensor(1.00000e-02 *\n",
      "       [ 2.2784,  2.1324, -3.2488,  1.6200,  1.1916,  3.2950,  0.6051,\n",
      "         3.1426,  2.2970, -2.5061,  2.0944, -2.5237, -0.3721,  1.2464,\n",
      "         0.7838, -2.6830, -2.8680, -2.1021, -1.1612, -0.4957, -3.2559,\n",
      "         2.0505,  3.3760, -1.5895,  3.5422, -0.3107,  2.7910,  0.3380,\n",
      "        -0.0431,  0.8501,  3.5636,  3.3214,  3.4276,  3.0184,  2.5322,\n",
      "         3.1216,  0.2532,  2.4675, -0.3463,  2.4483, -0.8990,  1.9623,\n",
      "        -3.5496,  1.8217, -0.4140, -1.4108,  3.3474,  3.1144, -0.1746,\n",
      "        -1.0929,  2.2446,  1.6437,  0.3480, -0.5156,  0.8028,  1.3714,\n",
      "         2.3364,  3.5040, -2.7055, -3.3692, -0.9802, -0.1650, -1.5445,\n",
      "        -3.4357, -0.4797, -0.5231, -1.5408,  1.1857,  2.8334, -1.7240,\n",
      "        -1.0905,  2.9445,  1.0927,  0.2546, -1.0280, -2.2113,  2.7093,\n",
      "        -1.6518,  2.2077, -2.3813,  1.8990,  2.8006, -3.4305, -0.2013,\n",
      "         2.0866,  2.6486,  1.0481,  1.0473,  3.4445,  2.4845,  1.4844,\n",
      "         2.0984, -0.2875, -1.5309,  0.8481,  1.1956, -3.1962,  2.2905,\n",
      "        -2.8090, -1.6283,  1.8691, -1.8971,  1.2622,  0.0641,  0.5051,\n",
      "        -1.4746, -0.3296, -0.2919,  1.7341, -2.6626, -1.8774, -0.7652,\n",
      "        -0.4584, -3.4608, -2.0656,  3.2595,  2.9433,  0.0764,  3.2323,\n",
      "        -2.2988, -1.7435,  1.9239,  3.2583,  0.8079,  1.2705, -1.4865,\n",
      "        -1.2113, -2.6448])\n"
     ]
    }
   ],
   "source": [
    "bunn_model = buNN()\n",
    "print(bunn_model.hidden1.weight)\n",
    "print(bunn_model.hidden1.bias)"
   ]
  },
  {
   "cell_type": "markdown",
   "metadata": {},
   "source": [
    "For custom initialization, we want to modify these tensors in place. These are actually autograd *Variables*, so we need to get back the actual tensors with `model.fc1.weight.data`. Once we have the tensors, we can fill them with zeros (for biases) or random normal values."
   ]
  },
  {
   "cell_type": "code",
   "execution_count": 13,
   "metadata": {},
   "outputs": [
    {
     "data": {
      "text/plain": [
       "tensor([ 0.,  0.,  0.,  0.,  0.,  0.,  0.,  0.,  0.,  0.])"
      ]
     },
     "execution_count": 13,
     "metadata": {},
     "output_type": "execute_result"
    }
   ],
   "source": [
    "# Set biases to all zeros\n",
    "bunn_model.hidden1.bias.data.fill_(0)\n",
    "bunn_model.hidden2.bias.data.fill_(0)\n",
    "bunn_model.output.bias.data.fill_(0)"
   ]
  },
  {
   "cell_type": "code",
   "execution_count": 14,
   "metadata": {},
   "outputs": [
    {
     "name": "stdout",
     "output_type": "stream",
     "text": [
      "tensor(1.00000e-02 *\n",
      "       [-0.8103, -1.2839, -0.1007,  1.0631,  0.1200, -1.4020, -1.4981,\n",
      "        -0.5995, -1.0017,  0.7333,  0.0373, -0.7374, -0.7349, -0.3216,\n",
      "        -0.3223,  0.4980,  0.4896,  0.8287, -0.8631, -0.8895,  1.0020,\n",
      "         1.3122, -0.5511, -1.0404, -1.0916, -1.0226, -2.2991,  0.1393,\n",
      "        -0.9692, -0.2987, -0.6753,  0.8770,  1.3257, -0.7692, -0.5767,\n",
      "        -0.0277,  0.3159,  0.5890,  0.8302, -1.6506,  0.3752, -1.8956,\n",
      "        -1.5309, -0.0529, -0.1954, -2.8818,  0.4590,  0.1947, -1.1327,\n",
      "         1.8920, -0.0196,  0.6089,  0.0719,  1.2638,  0.1128,  0.1270,\n",
      "         0.4514, -0.3220,  1.9205,  0.2535,  0.8861, -0.7041,  0.9242,\n",
      "        -1.0527])\n"
     ]
    }
   ],
   "source": [
    "# sample from random normal with standard dev = 0.01\n",
    "bunn_model.hidden1.weight.data.normal_(std=0.01)\n",
    "bunn_model.hidden2.weight.data.normal_(std=0.01)\n",
    "bunn_model.output.weight.data.normal_(std=0.01)\n",
    "print(bunn_model.output.weight[0])"
   ]
  },
  {
   "cell_type": "markdown",
   "metadata": {},
   "source": [
    "### Forward pass\n",
    "\n",
    "Now that we have a network, let's see what happens when we pass in an image."
   ]
  },
  {
   "cell_type": "code",
   "execution_count": 15,
   "metadata": {},
   "outputs": [
    {
     "data": {
      "image/png": "[encoded data removed]",
      "text/plain": [
       "<matplotlib.figure.Figure at 0x7f9bbc0d65c0>"
      ]
     },
     "metadata": {
      "image/png": {
       "height": 224,
       "width": 423
      },
      "needs_background": "light"
     },
     "output_type": "display_data"
    }
   ],
   "source": [
    "# Grab some data \n",
    "dataiter = iter(trainloader)\n",
    "images, labels = dataiter.next()\n",
    "\n",
    "# Resize images into a 1D vector, new shape is (batch size, color channels, image pixels) \n",
    "images.resize_(64, 1, 784)\n",
    "# or images.resize_(images.shape[0], 1, 784) to automatically get batch size\n",
    "\n",
    "# Forward pass through the network\n",
    "img_idx = 0\n",
    "ps = model.forward(images[img_idx,:])\n",
    "\n",
    "img = images[img_idx]\n",
    "helper.view_classify(img.view(1, 28, 28), ps)"
   ]
  },
  {
   "cell_type": "markdown",
   "metadata": {},
   "source": [
    "As you can see above, our network has basically no idea what this digit is. It's because we haven't trained it yet, all the weights are random!\n",
    "\n",
    "### Using `nn.Sequential`\n",
    "\n",
    "PyTorch provides a convenient way to build networks like this where a tensor is passed sequentially through operations, `nn.Sequential` ([documentation](https://pytorch.org/docs/master/nn.html#torch.nn.Sequential)). Using this to build the equivalent network:"
   ]
  },
  {
   "cell_type": "code",
   "execution_count": 16,
   "metadata": {},
   "outputs": [
    {
     "name": "stdout",
     "output_type": "stream",
     "text": [
      "Sequential(\n",
      "  (0): Linear(in_features=784, out_features=128, bias=True)\n",
      "  (1): ReLU()\n",
      "  (2): Linear(in_features=128, out_features=64, bias=True)\n",
      "  (3): ReLU()\n",
      "  (4): Linear(in_features=64, out_features=10, bias=True)\n",
      "  (5): Softmax()\n",
      ")\n"
     ]
    },
    {
     "data": {
      "image/png": "[encoded data removed]",
      "text/plain": [
       "<matplotlib.figure.Figure at 0x7f9b6f2aa5f8>"
      ]
     },
     "metadata": {
      "image/png": {
       "height": 224,
       "width": 423
      },
      "needs_background": "light"
     },
     "output_type": "display_data"
    }
   ],
   "source": [
    "# Hyperparameters for our network\n",
    "input_size = 784\n",
    "hidden_sizes = [128, 64]\n",
    "output_size = 10\n",
    "\n",
    "# Build a feed-forward network\n",
    "model = nn.Sequential(nn.Linear(input_size, hidden_sizes[0]),\n",
    "                      nn.ReLU(),\n",
    "                      nn.Linear(hidden_sizes[0], hidden_sizes[1]),\n",
    "                      nn.ReLU(),\n",
    "                      nn.Linear(hidden_sizes[1], output_size),\n",
    "                      nn.Softmax(dim=1))\n",
    "print(model)\n",
    "\n",
    "# Forward pass through the network and display output\n",
    "images, labels = next(iter(trainloader))\n",
    "images.resize_(images.shape[0], 1, 784)\n",
    "ps = model.forward(images[0,:])\n",
    "helper.view_classify(images[0].view(1, 28, 28), ps)"
   ]
  },
  {
   "cell_type": "markdown",
   "metadata": {},
   "source": [
    "Here our model is the same as before: 784 input units, a hidden layer with 128 units, ReLU activation, 64 unit hidden layer, another ReLU, then the output layer with 10 units, and the softmax output.\n",
    "\n",
    "The operations are availble by passing in the appropriate index. For example, if you want to get first Linear operation and look at the weights, you'd use `model[0]`."
   ]
  },
  {
   "cell_type": "code",
   "execution_count": 17,
   "metadata": {},
   "outputs": [
    {
     "name": "stdout",
     "output_type": "stream",
     "text": [
      "Linear(in_features=784, out_features=128, bias=True)\n"
     ]
    },
    {
     "data": {
      "text/plain": [
       "Parameter containing:\n",
       "tensor([[ 2.5359e-02, -7.9671e-04,  1.0363e-02,  ..., -2.6512e-02,\n",
       "          2.0680e-02, -2.5193e-02],\n",
       "        [-1.8101e-02, -2.4537e-02, -3.4010e-03,  ...,  6.6469e-03,\n",
       "         -5.3270e-03,  1.9034e-02],\n",
       "        [ 1.1036e-02,  2.9682e-02,  2.3525e-02,  ..., -7.4470e-03,\n",
       "         -5.6126e-04, -3.5217e-03],\n",
       "        ...,\n",
       "        [ 3.2141e-02, -4.5241e-04, -3.0288e-02,  ...,  1.1525e-02,\n",
       "          1.2442e-02, -1.6272e-02],\n",
       "        [ 1.2559e-02, -1.8388e-02,  3.1784e-02,  ...,  6.9945e-03,\n",
       "         -8.2536e-04, -1.6616e-02],\n",
       "        [-7.4451e-03, -9.9579e-03,  1.2801e-02,  ..., -1.9165e-02,\n",
       "          3.3501e-03, -2.3593e-02]])"
      ]
     },
     "execution_count": 17,
     "metadata": {},
     "output_type": "execute_result"
    }
   ],
   "source": [
    "print(model[0])\n",
    "model[0].weight"
   ]
  },
  {
   "cell_type": "markdown",
   "metadata": {},
   "source": [
    "You can also pass in an `OrderedDict` to name the individual layers and operations, instead of using incremental integers. Note that dictionary keys must be unique, so _each operation must have a different name_."
   ]
  },
  {
   "cell_type": "code",
   "execution_count": 18,
   "metadata": {},
   "outputs": [
    {
     "data": {
      "text/plain": [
       "Sequential(\n",
       "  (fc1): Linear(in_features=784, out_features=128, bias=True)\n",
       "  (relu1): ReLU()\n",
       "  (fc2): Linear(in_features=128, out_features=64, bias=True)\n",
       "  (relu2): ReLU()\n",
       "  (output): Linear(in_features=64, out_features=10, bias=True)\n",
       "  (softmax): Softmax()\n",
       ")"
      ]
     },
     "execution_count": 18,
     "metadata": {},
     "output_type": "execute_result"
    }
   ],
   "source": [
    "from collections import OrderedDict\n",
    "model = nn.Sequential(OrderedDict([\n",
    "                      ('fc1', nn.Linear(input_size, hidden_sizes[0])),\n",
    "                      ('relu1', nn.ReLU()),\n",
    "                      ('fc2', nn.Linear(hidden_sizes[0], hidden_sizes[1])),\n",
    "                      ('relu2', nn.ReLU()),\n",
    "                      ('output', nn.Linear(hidden_sizes[1], output_size)),\n",
    "                      ('softmax', nn.Softmax(dim=1))]))\n",
    "model"
   ]
  },
  {
   "cell_type": "markdown",
   "metadata": {},
   "source": [
    "Now you can access layers either by integer or the name"
   ]
  },
  {
   "cell_type": "code",
   "execution_count": 19,
   "metadata": {},
   "outputs": [
    {
     "name": "stdout",
     "output_type": "stream",
     "text": [
      "Linear(in_features=784, out_features=128, bias=True)\n",
      "Linear(in_features=784, out_features=128, bias=True)\n"
     ]
    }
   ],
   "source": [
    "print(model[0])\n",
    "print(model.fc1)"
   ]
  },
  {
   "cell_type": "markdown",
   "metadata": {},
   "source": [
    "In the next notebook, we'll see how we can train a neural network to accuractly predict the numbers appearing in the MNIST images."
   ]
  }
 ],
 "metadata": {
  "kernelspec": {
   "display_name": "Python 3",
   "language": "python",
   "name": "python3"
  },
  "language_info": {
   "codemirror_mode": {
    "name": "ipython",
    "version": 3
   },
   "file_extension": ".py",
   "mimetype": "text/x-python",
   "name": "python",
   "nbconvert_exporter": "python",
   "pygments_lexer": "ipython3",
   "version": "3.6.3"
  }
 },
 "nbformat": 4,
 "nbformat_minor": 2
}
